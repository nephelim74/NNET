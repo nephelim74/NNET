{
 "cells": [
  {
   "cell_type": "markdown",
   "metadata": {
    "id": "y1FWR90xxpSl"
   },
   "source": [
    "# Введение в искусственные нейронные сети\n",
    "# Урок 1. Основы обучения нейронных сетей"
   ]
  },
  {
   "cell_type": "markdown",
   "metadata": {
    "id": "VkHENMkcxpSm"
   },
   "source": [
    "## Содержание методического пособия:\n",
    "\n",
    "\n",
    "- [Общие сведения о искусственных нейронных сетях](#intro)\n",
    "- [Место искусственных нейронных сетей в современном мире](#place)\n",
    "- [История искусственных нейронных сетей](#history)\n",
    "- [Строение биологической нейронной сети](#bio)\n",
    "- [Общие сведения о том, как происходит обучение нейронных сетей](#train)\n",
    "- [Инициализация весов. Функции активации](#init)\n",
    "- [Обратное распространение ошибки и градиентный спуск](#backprop)\n",
    "- [Небольшой пример по обучению простой нейронной сети](#example)\n",
    "    - [Нейрон для повторения входа](#repeat)\n",
    "    - [Нейрон для регрессии](#reg)\n",
    "    - [Нейрон для многоклассовой классификации](#multiclass)\n",
    "- [Пример построения двухслойной нейронной сети на numpy](#example2)\n",
    "- [Домашнее задание](#hw)\n",
    "- [Определения](#def)"
   ]
  },
  {
   "cell_type": "markdown",
   "metadata": {
    "id": "2DOeMlEbxpSn"
   },
   "source": [
    "## Общие сведения об искусственных нейронных сетях <a class='anchor' id='intro'>\n",
    "\n",
    "В даннном разделе мы узнаем, что такое нейронные сети и из каких компонентов они состоят.\n",
    "\n",
    "Искусственнная нейронная сеть - это программная реализация математической модели биологической нейронной сети. Ее цель — извлечь пользу из переданных ей данных. Например, сказать, что на фотографии или сделать какой-либо прогноз.\n",
    "\n",
    "Нейронные сети состоят из входных, внутренних и внешних слоев. Внутренние слои ответственны за обучение. Входные слои позволяют ввести данные во внутренние слои, а внешние слои позволяют вывести полезный вывод из данных. Сами слои состоят из отдельных нейронов, которые связаны с другими нейронами и по определенным алгоритмам способны усиливать с ними связь.\n",
    "\n",
    "Через нейронные сети в процессе обучения многократно пропускают какие-либо данные, например изображения и указывают, что на них. За счет работы различных алгоритмов в нейронной сети вырабатывается такая система связей между нейронами, которая позволяет в последствии при переданных ей новых данных получить ответ, что на фотографии.\n",
    "\n",
    "Но распознавание объектов на фотографиях далеко не единственная сфера применения нейронных сетей. Существует множество видов различных нейронных сетей для разных задач. Основные из этих видов мы разберем в данном курсе. Детальное рассмотрение процесса обучения нейронной сети и базовые сведения об ее архитекутуре будут разобраны во второй половине данного методического пособия."
   ]
  },
  {
   "cell_type": "markdown",
   "metadata": {
    "id": "BpJkskTqxpSo"
   },
   "source": [
    "<img src='https://drive.google.com/uc?id=1RgW2rlqVFGNePU8RUiEGBfA4G5_tTqsb'>"
   ]
  },
  {
   "cell_type": "markdown",
   "metadata": {
    "id": "BEDTw0lGxpSp"
   },
   "source": [
    "## Место искусственных нейронных сетей в современном мире <a class='anchor' id='place'>\n",
    "\n",
    "В данном разделе мы разберем какие новшества принесли искусственные нейронные сети в современный мир. Долгое время создание искусственого интеллекта оставалось частью научной фантастики и несмотря на многие предсказания прошлого времени, что искусственный интеллект вот-вот будет создан,  искусственный интеллект был создан совсем не давно. По крайней мере люди стали говорить, что они пользуются искусственным интеллектом. Как минимум можно сказать, что искусственный интеллект создан с маркетинговой точки зрения. Тем не менее сейчас мы можем говорить только лишь о том, что создан специализированный искусственный интеллект, способный выполнять только определенные задачи, которые раньше было свойственно выполнять только человеку. Т.е. создан так называемый **узкий искусственный интеллект**. Создание **общего искусственного интеллекта**, т. е. программы, которая могла бы мыслить как человек, по прежнему остается фантастикой.\n",
    "\n",
    "<table><tr>\n",
    "<td> <img src='https://drive.google.com/uc?export=view&id=1uASIANBhuWuRP58bgs4nytR6nTtbewhM'> </td>\n",
    "<td> <img src='https://drive.google.com/uc?export=view&id=1hKXauR0O5jD5S9TnoCWX63KQvd_JbspA' style=\"width: 600px;\"> </td>\n",
    "</tr></table>"
   ]
  },
  {
   "cell_type": "markdown",
   "metadata": {
    "id": "07Hn-kj7LhgW"
   },
   "source": [
    "Искусственные нейронные сети, которые являются предметом изучения данного курса являются основой революции в области «узкого искусственного интеллекта» и являются одной из главных надежд для создания общего искусственного интеллекта в будущем. Однако искусственвенный интеллект может строиться не только на базе искусственных нейронных сетей. Более того как мы увидем в разделе посвященным истории, данных подход долгое время считался неперспективным. Так почему же революция совершена именно благодаря им, а не другим подходам? Дело в том, что компьютерные программы давно могут автоматизировать различную работу человека. Им можно дать определенный алгоритм работы и они будут его надежно выполнять. Программы как известно получают на вход данные, обрабатывают их с помощью определенного алгоритма и на выходе опять выдают данные.\n",
    "Но возьмем к примеру завод. На нем есть много труда, который можно было автоматизировать. Не трудно составить алгоритм, например, для промышленного манипулятора, который будет переносить определенные тяжелые предметы. С помощью технологий перевода данных обработанных процессором в движения манипулятора можно заставить его совершить определенную полезное работу. Но как ввести данные для обработки? Как дать понять манипулятору какой предмет ему нужно взять? Здесь на помощь может прийти камера. \n",
    "\n",
    "<img src='https://drive.google.com/uc?id=11oiOY9BICo__bqmhJkJ5RlkJVbfN4z5U'>\n",
    "\n",
    "Долгое время различные алгоритмы компьютерного зрения справлялись с определенными несложными задачами наподобее определения предметов через цвет или его геометрическую форму.\n",
    "Но что если нужно работать с предметами разного цвета и формы, но объеденных другими общими свойствами? Например сортировать яблоки и груши. Они могут быть разной формы и цвета, но тем не менее нужно отделить одно от другого. Человеку не трудно справиться с подобной задачей но для искусственного интеллекта долгое время это оставалось не посильной задачей. Однако с применением глубоких искусственных нейронных сетей начиная с 2012 года выполнение этой задачи стало реальностью. Но не только в сфере распознования образов важную роль сыграли нейронные сети. Также в сфере распознования речи. Так же сейчас есть нейронные сети которые могут создавать изображения и синтезировать голос. Также они применяются в многих других сферах.\n",
    "\n",
    "Подобный переворот случился благодаря тому, что нейронные сети стали повторять собою нейронные сети человеческого мозга, который как раз может легко справляться с подобной задачей."
   ]
  },
  {
   "cell_type": "markdown",
   "metadata": {
    "id": "FYr6ynG4xpSr"
   },
   "source": [
    "## Применение нейронных сетей  <a class='anchor' id='usage'>\n",
    "\n",
    "В нашем курсе мы будем проходить различные виды нейронных сетей и будем рассматривать в соотвествующих уроках применение каждого вида отдельно. Здесь же в общих чертах нарисуем картину их применения.\n",
    "\n",
    "Нейронные сети применяются в области **компьютерного зрения**. Начиная с обычных программ распознающих предметы в производстве или распознавание личности на телефоне, заканчивая крупными комплексами компьютерного зрения, которые применяются в беспилотных автомобилях.\n",
    "\n",
    "<table><tr>\n",
    "    <td><h3>Распознавание лица</h3><img src='https://drive.google.com/uc?export=view&id=1eVT_BJ-FlU_zF7uBkf9rDC4Cebv-H2M_' width=600>\n",
    "        </td>\n",
    "    <td><h3>Беспилотные автомобили</h3>\n",
    "        <img src='https://drive.google.com/uc?export=view&id=1iW_oqruyLDRnvNoA6PcUBmzbjnZwlntd'>\n",
    "        </td>\n",
    "</tr></table>"
   ]
  },
  {
   "cell_type": "markdown",
   "metadata": {
    "id": "keyNC6rrxpSs"
   },
   "source": [
    "Комбинация из нескольких нейронных сетей позволяет описать содержание фотографии.\n",
    "Нейронные сети применяются в медицине — для анализа снимков и заключений о болезни человека в некоторых областях лучше, чем человек.\n",
    "\n",
    "Нейронные сети также применяются для анализа поведения покупателей, а также на бирже. Находят они применения также в прогнозах погоды.\n",
    "\n",
    "<table><tr>\n",
    "\n",
    "<td><h3>Анализ поведения покупателей</h3>\n",
    "<img src='https://drive.google.com/uc?export=view&id=1iDISC_aqPS2x-OS534s8J9cYXCNV9ZIj'></td>\n",
    "<td><h3>Сегментация клеток в медицине</h3>\n",
    "    <img src='https://drive.google.com/uc?export=view&id=1XRxNqtW7AUcGuZqAOV3wcO1Kryb5Cooi'>\n",
    "        </td>\n",
    "</tr></table>\n",
    "\n",
    "Нейронные сети находят также применение для творчества. Уже сейчас есть художники, которые продают картины, которые рисуют нейронные сети.\n",
    "\n",
    "Есть и другие интересные области применения нейронных сетей. Например они используются для придания цвета старым фотографиям или фильмам. В улучшении качества изображений. Для чтения по губам. Для генерации фотографий и много другого.\n",
    "\n",
    "Нейронные сети применяются для **распознавания голоса** — Siri, Google помощник, Alexa, Алиса и прочие голосовые помощники распознают голос человек с помощью нейронных сетей. Их применение не ограничивается только лишь распознаванием голоса. В последние годы достигнут существенный прогресс в синтезе голоса. Применяются они также в области машинного перевода. Прогресс в этой области как раз связан с ними. "
   ]
  },
  {
   "cell_type": "markdown",
   "metadata": {
    "id": "pSFTDXayxpSt"
   },
   "source": [
    "## История искусственных нейронных сетей <a class='anchor' id='history'>\n",
    "\n",
    "\n",
    "Представление о нейронных сетях как главном способе создания искусственного интеллекта сложилось далеко не сразу и в данном разделе мы осветим основные вехи этой технологии.\n",
    "\n",
    "Математическую модель искусственного нейрона была предложена У. Маккалоком и У. Питтсом  в 50-х годах 20 века.\n",
    "\n",
    "В виде компьютерной системы нейронная сеть была впервые реализована  Фрэнком Розенблаттом в 1960 году. Фрэнк Розенблат создал «Марк-1», который являлся программно-аппаратным комлексом и воплащал в себе простую нейронную сеть в один слой. Можно отметить, что современные сети включают в себя 50 — 150 слоев, а экспериментальные достигают размера более 1000 слоев.\n",
    "\n",
    "Однако волна энтузиазма 60-х годов в отношении искусственных нейронных сетей сменилась скепсисом в отношении них из-за трудностей в совершении определенных логических операций и невозможности получать практические результаты. Доминирующим подходом для создания искусственного интеллекта стали экспертные системы. Они являлись по сути продвинутой энциклопедией знаний в той или иной сфере.\n",
    "\n",
    "Однако в 2012 г. появились глубокие нейронные сети. Т.е. сети с количеством внутренних слоев больше одного. Сначала кол-во слоев таких нейронных сетях было примерно 3-10. Но в силу эффективности подхода по увеличению кол-ва слоев, быстро появились нейронные сети кол-во слоев которых стало исчисляться десятками."
   ]
  },
  {
   "cell_type": "markdown",
   "metadata": {
    "id": "w_WWt-XcxpSw"
   },
   "source": [
    "\n",
    "<img src='https://drive.google.com/uc?export=view&id=1cHOT6sfmhHi9cTsIz-bMIyYr6tZNfAf4' width=1100px>"
   ]
  },
  {
   "cell_type": "markdown",
   "metadata": {
    "id": "9UMBwjLqxpSw"
   },
   "source": [
    "Именно с 2012 г. нейросети стали считаться доминирующим способом в решении многих задач искусственного интеллекта. Стоит задаться вопросом: почему именно в этот период? Прорыв был обеспечен более продвинутой архитектурой, возросшими количеством хранимых компьютерами данных для тренировки нейронных сетей, а также возросшей вычислительной мощностью компьютеров. Также можно отметить появления в эту пору возможности использовать видеокарты (GPU) для тренировки нейронных сетей, которые оказались лучше приспособленными для решения этих задач чем классические CPU. \n",
    "\n",
    " <table>\n",
    "   <tr>\n",
    "    <td rowspan=\"2\"><img src='https://drive.google.com/uc?export=view&id=1AV8Jz_MhXy0x_BUE6CyuA4Hu63RWaoUN' width=1500></td>\n",
    "    <th colspan=\"2\"><img src='https://drive.google.com/uc?export=view&id=1Zv_5TDpHp-A98ZrxJval42s_dgZwsUFb'></th>\n",
    "\n",
    "   </tr>\n",
    "      <tr align=\"center\">\n",
    "    <td><img src='https://drive.google.com/uc?export=view&id=1aPfCx4zwHgNbNnoZh-PCJpjIt9URTjrz'></td>\n",
    "   </tr>\n",
    "  </table>"
   ]
  },
  {
   "cell_type": "markdown",
   "metadata": {
    "id": "nA2ciSUxxpSx"
   },
   "source": [
    "## Строение биологической нейронной сети <a class='anchor' id='bio'>\n",
    "\n",
    "Термин «Нейрон» был  введен Г. В. Вальдейером в 1891 г. Что из себя предствляет человечекий нейрон? Часто можно услышать его сравнение с транизистором. Однаком более убедительным является точка зрения нейрофизиологов утверждающих, что нейрон это полноценный компьютер. Человеческий нейрон также как и компьютер призван обрабатывать сигналы. \n",
    "То, что человеческое сознание является результатом работы нейронов было впервые отмечено в работах Александра Бейна (1873) и Уильяма Джеймса (1890). В работах Бейна впервые акт запоминания был сформулирован как акт укрепление нейронных связей.\n",
    "\n",
    "В нейронах мозга есть аксоны, через которые в него попадают сигналы,  у искусственных нейронов также есть подобные входы. У нейронов мозга есть выходной компонент дендрит и искуственных нейронов также есть выходные компоненты. У нейронов человеческого мозга насчитывается порядка 10 000 связей с другими нейронами у искусственных нейронов их также может быть много. И биологической нейронной сети и в искусственной в случае если сумма поступающих сигналов в нейрон превышает определенный порог то сигнал передается следующему нейрону.\n",
    "\n",
    "\n",
    "<img src='https://drive.google.com/uc?export=view&id=1ETe3FLpW_YeBFzSXee7qJWUQ1ju91vV8' width=800px>\n",
    "\n",
    "Искусственные нейронные сети работают подобно биологическим — через них пропускаются данные и те связи, которые ведут к нужным результатам укрепляются. Но если в человеческом мозге происходит засчет утолщения этих связей, то в программных нейронных сетях это происходит за счет увеличение чисел символизирующих эти связи.\n",
    "\n",
    "\n",
    "<img src='https://drive.google.com/uc?export=view&id=1RdXFm7HGZKhgNor3099il9_MudFM7WoY'>"
   ]
  },
  {
   "cell_type": "markdown",
   "metadata": {
    "id": "Gfsqj22IxpSy"
   },
   "source": [
    "<img src='https://drive.google.com/uc?export=view&id=1xchAwxcsAg8JnKRZ4vzCRlefiDwDeU3m'>"
   ]
  },
  {
   "cell_type": "code",
   "execution_count": null,
   "metadata": {
    "id": "1S1fh-qbB8M9"
   },
   "outputs": [],
   "source": [
    "(6 + 3) + (3 + 1)"
   ]
  },
  {
   "cell_type": "markdown",
   "metadata": {},
   "source": [
    "<img src='http://juice-health.ru/images/technology/30.png'>"
   ]
  },
  {
   "cell_type": "code",
   "execution_count": null,
   "metadata": {},
   "outputs": [],
   "source": [
    "[1, 0, 0] -> [1, 0]\n",
    "[1, 1, 0] -> [1, 0]\n",
    "[0, 0, 1] -> [0, 1]\n",
    "[0, 1, 0] -> [1, 0]"
   ]
  },
  {
   "cell_type": "code",
   "execution_count": 9,
   "metadata": {},
   "outputs": [
    {
     "name": "stdout",
     "output_type": "stream",
     "text": [
      "/Users/macbook/Library/Caches/pip\n",
      "Note: you may need to restart the kernel to use updated packages.\n"
     ]
    }
   ],
   "source": [
    "pip cache dir"
   ]
  },
  {
   "cell_type": "code",
   "execution_count": 13,
   "metadata": {
    "collapsed": true,
    "jupyter": {
     "outputs_hidden": true
    }
   },
   "outputs": [
    {
     "name": "stdout",
     "output_type": "stream",
     "text": [
      "Collecting wget\n",
      "  Downloading wget-3.2.zip (10 kB)\n",
      "  Preparing metadata (setup.py) ... \u001b[?25ldone\n",
      "\u001b[?25hBuilding wheels for collected packages: wget\n",
      "  Building wheel for wget (setup.py) ... \u001b[?25ldone\n",
      "\u001b[?25h  Created wheel for wget: filename=wget-3.2-py3-none-any.whl size=9656 sha256=ed85c711d7e1bcd3f48e801efdde11cfbceecb398cde57c50db454549e80faa2\n",
      "  Stored in directory: /Users/macbook/Library/Caches/pip/wheels/04/5f/3e/46cc37c5d698415694d83f607f833f83f0149e49b3af9d0f38\n",
      "Successfully built wget\n",
      "Installing collected packages: wget\n",
      "Successfully installed wget-3.2\n"
     ]
    }
   ],
   "source": [
    "!/Users/macbook/anaconda3/envs/nlp/bin/pip3 install wget"
   ]
  },
  {
   "cell_type": "code",
   "execution_count": 13,
   "metadata": {
    "collapsed": true,
    "jupyter": {
     "outputs_hidden": true
    }
   },
   "outputs": [
    {
     "name": "stdout",
     "output_type": "stream",
     "text": [
      "Processing /Volumes/Data/tensorflow-2.12.0-cp39-cp39-macosx_10_15_x86_64.whl\n",
      "Collecting jax>=0.3.15\n",
      "  Downloading jax-0.4.12.tar.gz (1.3 MB)\n",
      "\u001b[2K     \u001b[90m━━━━━━━━━━━━━━━━━━━━━━━━━━━━━━━━━━━━━━━━\u001b[0m \u001b[32m1.3/1.3 MB\u001b[0m \u001b[31m1.2 MB/s\u001b[0m eta \u001b[36m0:00:00\u001b[0m00:01\u001b[0m00:01\u001b[0m0m\n",
      "\u001b[?25h  Installing build dependencies ... \u001b[?25ldone\n",
      "\u001b[?25h  Getting requirements to build wheel ... \u001b[?25ldone\n",
      "\u001b[?25h  Preparing metadata (pyproject.toml) ... \u001b[?25ldone\n",
      "\u001b[?25hCollecting tensorboard<2.13,>=2.12\n",
      "  Downloading tensorboard-2.12.3-py3-none-any.whl (5.6 MB)\n",
      "\u001b[2K     \u001b[90m━━━━━━━━━━━━━━━━━━━━━━━━━━━━━━━━━━━━━━━━\u001b[0m \u001b[32m5.6/5.6 MB\u001b[0m \u001b[31m2.5 MB/s\u001b[0m eta \u001b[36m0:00:00\u001b[0m00:01\u001b[0m00:01\u001b[0m\n",
      "\u001b[?25hCollecting absl-py>=1.0.0\n",
      "  Downloading absl_py-1.4.0-py3-none-any.whl (126 kB)\n",
      "\u001b[2K     \u001b[90m━━━━━━━━━━━━━━━━━━━━━━━━━━━━━━━━━━━━━━━\u001b[0m \u001b[32m126.5/126.5 kB\u001b[0m \u001b[31m1.9 MB/s\u001b[0m eta \u001b[36m0:00:00\u001b[0ma \u001b[36m0:00:01\u001b[0m\n",
      "\u001b[?25hCollecting astunparse>=1.6.0\n",
      "  Downloading astunparse-1.6.3-py2.py3-none-any.whl (12 kB)\n",
      "Collecting google-pasta>=0.1.1\n",
      "  Downloading google_pasta-0.2.0-py3-none-any.whl (57 kB)\n",
      "\u001b[2K     \u001b[90m━━━━━━━━━━━━━━━━━━━━━━━━━━━━━━━━━━━━━━━━\u001b[0m \u001b[32m57.5/57.5 kB\u001b[0m \u001b[31m1.7 MB/s\u001b[0m eta \u001b[36m0:00:00\u001b[0m\n",
      "\u001b[?25hCollecting termcolor>=1.1.0\n",
      "  Using cached termcolor-2.3.0-py3-none-any.whl (6.9 kB)\n",
      "Collecting h5py>=2.9.0\n",
      "  Downloading h5py-3.8.0-cp39-cp39-macosx_10_9_x86_64.whl (3.2 MB)\n",
      "\u001b[2K     \u001b[90m━━━━━━━━━━━━━━━━━━━━━━━━━━━━━━━━━━━━━━━━\u001b[0m \u001b[32m3.2/3.2 MB\u001b[0m \u001b[31m2.9 MB/s\u001b[0m eta \u001b[36m0:00:00\u001b[0m00:01\u001b[0m00:01\u001b[0m\n",
      "\u001b[?25hRequirement already satisfied: packaging in /Users/macbook/anaconda3/envs/nlp/lib/python3.9/site-packages (from tensorflow==2.12.0) (23.0)\n",
      "Requirement already satisfied: setuptools in /Users/macbook/anaconda3/envs/nlp/lib/python3.9/site-packages (from tensorflow==2.12.0) (66.0.0)\n",
      "Collecting gast<=0.4.0,>=0.2.1\n",
      "  Downloading gast-0.4.0-py3-none-any.whl (9.8 kB)\n",
      "Collecting numpy<1.24,>=1.22\n",
      "  Using cached numpy-1.23.5-cp39-cp39-macosx_10_9_x86_64.whl (18.1 MB)\n",
      "Collecting libclang>=13.0.0\n",
      "  Downloading libclang-16.0.0-py2.py3-none-macosx_10_9_x86_64.whl (26.7 MB)\n",
      "\u001b[2K     \u001b[90m━━━━━━━━━━━━━━━━━━━━━━━━━━━━━━━━━━━━━━━━\u001b[0m \u001b[32m26.7/26.7 MB\u001b[0m \u001b[31m1.0 MB/s\u001b[0m eta \u001b[36m0:00:00\u001b[0m00:01\u001b[0m00:01\u001b[0m\n",
      "\u001b[?25hRequirement already satisfied: grpcio<2.0,>=1.24.3 in /Users/macbook/anaconda3/envs/nlp/lib/python3.9/site-packages (from tensorflow==2.12.0) (1.54.2)\n",
      "Collecting tensorflow-io-gcs-filesystem>=0.23.1\n",
      "  Using cached tensorflow_io_gcs_filesystem-0.32.0-cp39-cp39-macosx_10_14_x86_64.whl (1.7 MB)\n",
      "Requirement already satisfied: six>=1.12.0 in /Users/macbook/anaconda3/envs/nlp/lib/python3.9/site-packages (from tensorflow==2.12.0) (1.16.0)\n",
      "Collecting tensorflow-estimator<2.13,>=2.12.0\n",
      "  Downloading tensorflow_estimator-2.12.0-py2.py3-none-any.whl (440 kB)\n",
      "\u001b[2K     \u001b[90m━━━━━━━━━━━━━━━━━━━━━━━━━━━━━━━━━━━━━\u001b[0m \u001b[32m440.7/440.7 kB\u001b[0m \u001b[31m866.2 kB/s\u001b[0m eta \u001b[36m0:00:00\u001b[0m00:01\u001b[0m00:01\u001b[0m\n",
      "\u001b[?25hRequirement already satisfied: keras<2.13,>=2.12.0 in /Users/macbook/anaconda3/envs/nlp/lib/python3.9/site-packages (from tensorflow==2.12.0) (2.12.0)\n",
      "Collecting wrapt<1.15,>=1.11.0\n",
      "  Downloading wrapt-1.14.1-cp39-cp39-macosx_10_9_x86_64.whl (35 kB)\n",
      "Collecting opt-einsum>=2.3.2\n",
      "  Downloading opt_einsum-3.3.0-py3-none-any.whl (65 kB)\n",
      "\u001b[2K     \u001b[90m━━━━━━━━━━━━━━━━━━━━━━━━━━━━━━━━━━━━━━━━\u001b[0m \u001b[32m65.5/65.5 kB\u001b[0m \u001b[31m2.4 MB/s\u001b[0m eta \u001b[36m0:00:00\u001b[0m\n",
      "\u001b[?25hRequirement already satisfied: typing-extensions>=3.6.6 in /Users/macbook/anaconda3/envs/nlp/lib/python3.9/site-packages (from tensorflow==2.12.0) (4.5.0)\n",
      "Requirement already satisfied: protobuf!=4.21.0,!=4.21.1,!=4.21.2,!=4.21.3,!=4.21.4,!=4.21.5,<5.0.0dev,>=3.20.3 in /Users/macbook/anaconda3/envs/nlp/lib/python3.9/site-packages (from tensorflow==2.12.0) (3.20.3)\n",
      "Collecting flatbuffers>=2.0\n",
      "  Downloading flatbuffers-23.5.26-py2.py3-none-any.whl (26 kB)\n",
      "Requirement already satisfied: wheel<1.0,>=0.23.0 in /Users/macbook/anaconda3/envs/nlp/lib/python3.9/site-packages (from astunparse>=1.6.0->tensorflow==2.12.0) (0.38.4)\n",
      "Requirement already satisfied: importlib-metadata>=4.6 in /Users/macbook/anaconda3/envs/nlp/lib/python3.9/site-packages (from jax>=0.3.15->tensorflow==2.12.0) (6.0.0)\n",
      "Requirement already satisfied: scipy>=1.7 in /Users/macbook/anaconda3/envs/nlp/lib/python3.9/site-packages (from jax>=0.3.15->tensorflow==2.12.0) (1.10.1)\n",
      "Collecting ml-dtypes>=0.1.0\n",
      "  Downloading ml_dtypes-0.2.0-cp39-cp39-macosx_10_9_universal2.whl (1.2 MB)\n",
      "\u001b[2K     \u001b[90m━━━━━━━━━━━━━━━━━━━━━━━━━━━━━━━━━━━━━━━━\u001b[0m \u001b[32m1.2/1.2 MB\u001b[0m \u001b[31m1.1 MB/s\u001b[0m eta \u001b[36m0:00:00\u001b[0m00:01\u001b[0m0:00:01\u001b[0m\n",
      "\u001b[?25hRequirement already satisfied: requests<3,>=2.21.0 in /Users/macbook/anaconda3/envs/nlp/lib/python3.9/site-packages (from tensorboard<2.13,>=2.12->tensorflow==2.12.0) (2.31.0)\n",
      "Collecting tensorboard-data-server<0.8.0,>=0.7.0\n",
      "  Downloading tensorboard_data_server-0.7.1-py3-none-macosx_10_9_x86_64.whl (4.8 MB)\n",
      "\u001b[2K     \u001b[90m━━━━━━━━━━━━━━━━━━━━━━━━━━━━━━━━━━━━━━━━\u001b[0m \u001b[32m4.8/4.8 MB\u001b[0m \u001b[31m1.9 MB/s\u001b[0m eta \u001b[36m0:00:00\u001b[0m00:01\u001b[0m00:01\u001b[0m\n",
      "\u001b[?25hCollecting google-auth-oauthlib<1.1,>=0.5\n",
      "  Downloading google_auth_oauthlib-1.0.0-py2.py3-none-any.whl (18 kB)\n",
      "Requirement already satisfied: google-auth<3,>=1.6.3 in /Users/macbook/anaconda3/envs/nlp/lib/python3.9/site-packages (from tensorboard<2.13,>=2.12->tensorflow==2.12.0) (2.19.0)\n",
      "Collecting markdown>=2.6.8\n",
      "  Downloading Markdown-3.4.3-py3-none-any.whl (93 kB)\n",
      "\u001b[2K     \u001b[90m━━━━━━━━━━━━━━━━━━━━━━━━━━━━━━━━━━━━━━━━\u001b[0m \u001b[32m93.9/93.9 kB\u001b[0m \u001b[31m3.3 MB/s\u001b[0m eta \u001b[36m0:00:00\u001b[0m\n",
      "\u001b[?25hCollecting werkzeug>=1.0.1\n",
      "  Downloading Werkzeug-2.3.6-py3-none-any.whl (242 kB)\n",
      "\u001b[2K     \u001b[90m━━━━━━━━━━━━━━━━━━━━━━━━━━━━━━━━━━━━━━━\u001b[0m \u001b[32m242.5/242.5 kB\u001b[0m \u001b[31m3.5 MB/s\u001b[0m eta \u001b[36m0:00:00\u001b[0ma \u001b[36m0:00:01\u001b[0m\n",
      "\u001b[?25hRequirement already satisfied: pyasn1-modules>=0.2.1 in /Users/macbook/anaconda3/envs/nlp/lib/python3.9/site-packages (from google-auth<3,>=1.6.3->tensorboard<2.13,>=2.12->tensorflow==2.12.0) (0.3.0)\n",
      "Requirement already satisfied: rsa<5,>=3.1.4 in /Users/macbook/anaconda3/envs/nlp/lib/python3.9/site-packages (from google-auth<3,>=1.6.3->tensorboard<2.13,>=2.12->tensorflow==2.12.0) (4.9)\n",
      "Requirement already satisfied: urllib3<2.0 in /Users/macbook/anaconda3/envs/nlp/lib/python3.9/site-packages (from google-auth<3,>=1.6.3->tensorboard<2.13,>=2.12->tensorflow==2.12.0) (1.26.16)\n",
      "Requirement already satisfied: cachetools<6.0,>=2.0.0 in /Users/macbook/anaconda3/envs/nlp/lib/python3.9/site-packages (from google-auth<3,>=1.6.3->tensorboard<2.13,>=2.12->tensorflow==2.12.0) (5.3.1)\n",
      "Collecting requests-oauthlib>=0.7.0\n",
      "  Downloading requests_oauthlib-1.3.1-py2.py3-none-any.whl (23 kB)\n",
      "Requirement already satisfied: zipp>=0.5 in /Users/macbook/anaconda3/envs/nlp/lib/python3.9/site-packages (from importlib-metadata>=4.6->jax>=0.3.15->tensorflow==2.12.0) (3.11.0)\n",
      "Requirement already satisfied: idna<4,>=2.5 in /Users/macbook/anaconda3/envs/nlp/lib/python3.9/site-packages (from requests<3,>=2.21.0->tensorboard<2.13,>=2.12->tensorflow==2.12.0) (3.4)\n",
      "Requirement already satisfied: certifi>=2017.4.17 in /Users/macbook/anaconda3/envs/nlp/lib/python3.9/site-packages (from requests<3,>=2.21.0->tensorboard<2.13,>=2.12->tensorflow==2.12.0) (2023.5.7)\n",
      "Requirement already satisfied: charset-normalizer<4,>=2 in /Users/macbook/anaconda3/envs/nlp/lib/python3.9/site-packages (from requests<3,>=2.21.0->tensorboard<2.13,>=2.12->tensorflow==2.12.0) (3.1.0)\n",
      "Requirement already satisfied: MarkupSafe>=2.1.1 in /Users/macbook/anaconda3/envs/nlp/lib/python3.9/site-packages (from werkzeug>=1.0.1->tensorboard<2.13,>=2.12->tensorflow==2.12.0) (2.1.1)\n",
      "Requirement already satisfied: pyasn1<0.6.0,>=0.4.6 in /Users/macbook/anaconda3/envs/nlp/lib/python3.9/site-packages (from pyasn1-modules>=0.2.1->google-auth<3,>=1.6.3->tensorboard<2.13,>=2.12->tensorflow==2.12.0) (0.5.0)\n",
      "Collecting oauthlib>=3.0.0\n",
      "  Downloading oauthlib-3.2.2-py3-none-any.whl (151 kB)\n",
      "\u001b[2K     \u001b[90m━━━━━━━━━━━━━━━━━━━━━━━━━━━━━━━━━━━━━━━\u001b[0m \u001b[32m151.7/151.7 kB\u001b[0m \u001b[31m1.3 MB/s\u001b[0m eta \u001b[36m0:00:00\u001b[0ma \u001b[36m0:00:01\u001b[0m\n",
      "\u001b[?25hBuilding wheels for collected packages: jax\n",
      "  Building wheel for jax (pyproject.toml) ... \u001b[?25ldone\n",
      "\u001b[?25h  Created wheel for jax: filename=jax-0.4.12-py3-none-any.whl size=1498447 sha256=093814dae1bd926464ad1fdd68b25fefe74b8158d019e7f500966f9860c24304\n",
      "  Stored in directory: /Users/macbook/Library/Caches/pip/wheels/ca/6c/0b/dab434867ee492673dd15dbf9f6cce85781b555432a92bfb10\n",
      "Successfully built jax\n"
     ]
    },
    {
     "name": "stdout",
     "output_type": "stream",
     "text": [
      "Installing collected packages: libclang, flatbuffers, wrapt, werkzeug, termcolor, tensorflow-io-gcs-filesystem, tensorflow-estimator, tensorboard-data-server, oauthlib, numpy, google-pasta, gast, astunparse, absl-py, requests-oauthlib, opt-einsum, ml-dtypes, markdown, h5py, jax, google-auth-oauthlib, tensorboard, tensorflow\n",
      "  Attempting uninstall: numpy\n",
      "    Found existing installation: numpy 1.24.3\n",
      "    Uninstalling numpy-1.24.3:\n",
      "      Successfully uninstalled numpy-1.24.3\n",
      "Successfully installed absl-py-1.4.0 astunparse-1.6.3 flatbuffers-23.5.26 gast-0.4.0 google-auth-oauthlib-1.0.0 google-pasta-0.2.0 h5py-3.8.0 jax-0.4.12 libclang-16.0.0 markdown-3.4.3 ml-dtypes-0.2.0 numpy-1.23.5 oauthlib-3.2.2 opt-einsum-3.3.0 requests-oauthlib-1.3.1 tensorboard-2.12.3 tensorboard-data-server-0.7.1 tensorflow-2.12.0 tensorflow-estimator-2.12.0 tensorflow-io-gcs-filesystem-0.32.0 termcolor-2.3.0 werkzeug-2.3.6 wrapt-1.14.1\n"
     ]
    }
   ],
   "source": [
    "!/Users/macbook/anaconda3/envs/nlp/bin/pip3 install /Volumes/Data/tensorflow-2.12.0-cp39-cp39-macosx_10_15_x86_64.whl"
   ]
  },
  {
   "cell_type": "code",
   "execution_count": 14,
   "metadata": {},
   "outputs": [
    {
     "name": "stdout",
     "output_type": "stream",
     "text": [
      "Requirement already satisfied: keras in /Users/macbook/anaconda3/envs/nlp/lib/python3.9/site-packages (2.12.0)\r\n"
     ]
    }
   ],
   "source": [
    "!/Users/macbook/anaconda3/envs/nlp/bin/pip3 install keras"
   ]
  },
  {
   "cell_type": "code",
   "execution_count": 15,
   "metadata": {},
   "outputs": [
    {
     "name": "stdout",
     "output_type": "stream",
     "text": [
      "Model: \"sequential\"\n",
      "_________________________________________________________________\n",
      " Layer (type)                Output Shape              Param #   \n",
      "=================================================================\n",
      " dense (Dense)               (None, 4)                 16        \n",
      "                                                                 \n",
      " dense_1 (Dense)             (None, 2)                 10        \n",
      "                                                                 \n",
      "=================================================================\n",
      "Total params: 26\n",
      "Trainable params: 26\n",
      "Non-trainable params: 0\n",
      "_________________________________________________________________\n"
     ]
    }
   ],
   "source": [
    "!pip install keras\n",
    "\n",
    "from keras.layers import Dense\n",
    "from keras.models import Sequential\n",
    "\n",
    "model = Sequential()\n",
    "model.add(Dense(4, input_shape=(3,), activation='relu'))\n",
    "model.add(Dense(2, activation='sigmoid'))\n",
    "\n",
    "model.summary()"
   ]
  },
  {
   "cell_type": "code",
   "execution_count": null,
   "metadata": {},
   "outputs": [],
   "source": []
  },
  {
   "cell_type": "code",
   "execution_count": null,
   "metadata": {},
   "outputs": [],
   "source": []
  },
  {
   "cell_type": "code",
   "execution_count": null,
   "metadata": {},
   "outputs": [],
   "source": []
  },
  {
   "cell_type": "markdown",
   "metadata": {},
   "source": [
    "<img src='https://neurohive.io/wp-content/uploads/2018/07/neuronnaya-set.gif'>"
   ]
  },
  {
   "cell_type": "markdown",
   "metadata": {
    "id": "tk9kK9-JxpSz"
   },
   "source": [
    "## Общие сведения о том, как происходит обучение нейронных сетей <a class='anchor' id='train'>"
   ]
  },
  {
   "cell_type": "markdown",
   "metadata": {
    "id": "aFMW-GSCxpSz"
   },
   "source": [
    "Давайте возьмем какую-нибудь типичную задачу для нейросети и попробуем разобрать как она могла бы ее решить. В качества примера задачи можем взять типичный пример — определить на фотографии находится кот или собака. \n",
    "\n",
    "Сначала давайте подумаем как это данная задача решалась бы без нейронной сети. Вспомним, что фотография это набор пикселей. Пиксели в компьютере репрезентуются матрицей чисел. У кота очень много отличительных черт как и у собаки. Перечесление этих уникальных свойств займет долгое время. Но стоит учесть вот какое обстоятельство - усики и лапки и шерстка есть у многих животных. И скорее всего все что нам остается делать это описывать размеры этих усиков, лапок и т. д. Изучать их угла наклона и т. д. Попытки делать это вручную были, как раз до эпохи нейронных сетей. Но результаты были не высокие. Как вы понимаете объем признаков слишком большой. \n",
    "\n",
    "<img src='https://drive.google.com/uc?export=view&id=1ELlQJBZrmg_qcQBnawkH1KjI2GajZqkk' width=500px>\n",
    "\n",
    "Таким образом задача нейронной сети содержать в себе необходимый набор признаков которые позволяет ей отличить один объект от другого. \n",
    "Но встает вопрос как поместить в нейронную сеть необходимый набор признаков? Ответ на этот вопрос будет даваться в течении всего данного курса и всеравно не будет исчерпывающим. Поскольку для это придется обучать нейронную сеть, а ее обучение порой преобретает характер искусства нежели набор предписаний.\n",
    "Тем не менее в процессе обучения всегда нужно пройти ряд этапов, которые будут общими для любого процесса обучения.\n",
    "\n",
    "\n",
    "Нам определиться с архитектурой нейронной сети. От удачно выбранной архитектуры будет зависеть насколько быстро мы сможем обучить нейронную сеть, насколько точной она будет, а также сможем ли мы ее обучить в принципе. \n",
    "Архитектура нейронной сети как вы догадываетесь зависит от задачи. В зависимости от задачи нам нужно будет выбрать:\n",
    "\n",
    "- Количество слоев из которых будет состоять нейронная сеть\n",
    "- Сколько будет нейронов в этих слоях\n",
    "\n",
    "\n",
    "Кроме этого нам нужно будет подобрать верным образом компоненты, за счет которых будет обучаться нейронная сеть (подробнее о них можно будет узнать в следующих разделах данного мет. пособия)\n",
    "\n",
    "- Систему инициализации весов нейронов \n",
    "- Функцию активации весов нейронов\n",
    "- Алгоритм корректировки весов нейронов\n",
    "\n",
    "Это безусловно список самых общих компонентов с которыми нам нужно будет определиться, но на данной стадии обучения надо полагать нам их будет достаточно. \n",
    "Архитектуры нейронных сетей мы будем изучать на отдельных уроках этого курса. В этом же уроке мы разберем следующие неотъемлимые компоненты обучения нейронной сети любой архитектуры — инициализация весов, их корректировка, рассмотрим виды функций активации весов нейронной сети, разберем, что такое градиентный спуск и метод обратного распространения ошибки."
   ]
  },
  {
   "cell_type": "markdown",
   "metadata": {},
   "source": [
    "<img src='https://nauchforum.ru/files/2019_06_13_MNF/klu.files/image002.jpg'>"
   ]
  },
  {
   "cell_type": "markdown",
   "metadata": {},
   "source": [
    "<img src='https://russianblogs.com/images/384/d014440b050535b0fd91f4df92976ff0.JPEG'>"
   ]
  },
  {
   "cell_type": "markdown",
   "metadata": {},
   "source": [
    "<img src=''>"
   ]
  },
  {
   "cell_type": "markdown",
   "metadata": {
    "id": "P1jA-VRmxpS0"
   },
   "source": [
    "## Инициализация весов. Функции активации <a class='anchor' id='init'>"
   ]
  },
  {
   "cell_type": "code",
   "execution_count": null,
   "metadata": {
    "colab": {
     "base_uri": "https://localhost:8080/"
    },
    "executionInfo": {
     "elapsed": 6,
     "status": "ok",
     "timestamp": 1666196463448,
     "user": {
      "displayName": "Julia Ponomareva",
      "userId": "14904333240138417226"
     },
     "user_tz": -300
    },
    "id": "rzhp-ls4DDK_",
    "outputId": "309af135-7160-4274-a3c0-123349fc73c8"
   },
   "outputs": [
    {
     "data": {
      "text/plain": [
       "1.0"
      ]
     },
     "execution_count": 3,
     "metadata": {},
     "output_type": "execute_result"
    }
   ],
   "source": [
    "0.8 + 0.2"
   ]
  },
  {
   "cell_type": "markdown",
   "metadata": {
    "id": "dK_ARl9CxpS0"
   },
   "source": [
    "<img src='https://drive.google.com/uc?export=view&id=1XmympDj-QuN6VBWDGM69rzJHxB3-kBCX'>"
   ]
  },
  {
   "cell_type": "markdown",
   "metadata": {
    "id": "T2gn4-CYxpS0"
   },
   "source": [
    "Мы с вами выяснили, что в процессе обучения нейронной сети в ней должны вырабататься признаки по которым она сможет определять, что на фотографии. Но как эти признаки будут репрезентованы в нейронной сети? Все эти признаки будут составлять определенную сложную матрицу чисел. Настолько сложную, что человеку не под силу ее проанализировать. Какие это будут признаки? Это тоже неизвестно. Их может быть так много и они могут быть такими специфическими, что и описать их будет трудно. Для этого и нужны нейросети, они берут на себя содержание и описание в себе этих признаков.\n",
    "\n",
    "Однако все эти признаки записываются через систему весов нейронов. Веса нейрона отражают толщину связи этого нейрона с др. нейроном. Из совокупности  этих связей и состоят признаки. Т.е. другими словами обучить нейронную сеть значит найти нужные веса для ее нейронов. \n",
    "\n",
    "Первоначально веса можно задать случайными числами. И в процессе обучения они будут все больше и больше подходить под решения задачи. Программно это можно показать на примере следующего фрагмента кода."
   ]
  },
  {
   "cell_type": "code",
   "execution_count": 48,
   "metadata": {
    "colab": {
     "base_uri": "https://localhost:8080/"
    },
    "executionInfo": {
     "elapsed": 7,
     "status": "ok",
     "timestamp": 1666195149328,
     "user": {
      "displayName": "Julia Ponomareva",
      "userId": "14904333240138417226"
     },
     "user_tz": -300
    },
    "id": "Pt9eda5yxpS1",
    "outputId": "492c8986-e55e-413b-f721-6f65d0bc67ca"
   },
   "outputs": [
    {
     "data": {
      "text/plain": [
       "array([[4.17022005e-01],\n",
       "       [7.20324493e-01],\n",
       "       [1.14374817e-04]])"
      ]
     },
     "execution_count": 48,
     "metadata": {},
     "output_type": "execute_result"
    }
   ],
   "source": [
    "import numpy as np\n",
    "import random\n",
    "import matplotlib.pyplot as plt\n",
    "\n",
    "# генерации случайных чисел для инициализации весов\n",
    "np.random.seed(1)\n",
    "weights = np.random.random((3, 1))\n",
    "\n",
    "weights"
   ]
  },
  {
   "cell_type": "markdown",
   "metadata": {
    "id": "wTjPmZMAxpS3"
   },
   "source": [
    "Но мало просто присвоить определенные веса нейронам. Необходимо также определить функцию по которой будет активироваться нейроны. Выбранная функция активация будет одинаковой для всех нейронов. С помощью нее можно определять с какой силой нужно подействовать на нейрон, чтобы он  активировался и передал сигнал дальше."
   ]
  },
  {
   "cell_type": "markdown",
   "metadata": {
    "id": "GV9opmrRxpS3"
   },
   "source": [
    "$$Y = \\sum{weights * X} + bias$$"
   ]
  },
  {
   "cell_type": "markdown",
   "metadata": {
    "id": "Ki8oqV5xxpS3"
   },
   "source": [
    "Выше показан нейрон в виде формулы. Активация его как говорилась зависит от входных данных, его весов и некоего порогого значения.\n",
    "\n",
    "Функций таких существует очень много - сигмоида, линейная, ступенчатая, ReLU, tahn и т. д."
   ]
  },
  {
   "cell_type": "markdown",
   "metadata": {
    "id": "8VWpZMxnxpS4"
   },
   "source": [
    "<img src='https://drive.google.com/uc?export=view&id=1jFJKMuRoaYExj5-lG-UXJ64wlFpo6RDB'>"
   ]
  },
  {
   "cell_type": "markdown",
   "metadata": {
    "id": "vFGbLroCxpS4"
   },
   "source": [
    "В данном фрагменте кода мы можем посмотреть как программно реализовать функцию сигмоид -"
   ]
  },
  {
   "cell_type": "code",
   "execution_count": 3,
   "metadata": {
    "id": "1nxx7rKUxpS4"
   },
   "outputs": [],
   "source": [
    "# вычисление сигмоид функции\n",
    "\n",
    "def sigmoid(x):\n",
    "    return 1 / (1 + np.exp(-x))"
   ]
  },
  {
   "cell_type": "code",
   "execution_count": 4,
   "metadata": {
    "colab": {
     "base_uri": "https://localhost:8080/",
     "height": 279
    },
    "executionInfo": {
     "elapsed": 39,
     "status": "ok",
     "timestamp": 1665401723164,
     "user": {
      "displayName": "Julia Ponomareva",
      "userId": "14904333240138417226"
     },
     "user_tz": -300
    },
    "id": "FBF5k8OsxpS5",
    "outputId": "cd09772a-91cc-4041-d722-8857b2b615c4"
   },
   "outputs": [
    {
     "data": {
      "image/png": "[encoded data removed]",
      "text/plain": [
       "<Figure size 640x480 with 1 Axes>"
      ]
     },
     "metadata": {},
     "output_type": "display_data"
    }
   ],
   "source": [
    "# для картинки\n",
    "D = 10\n",
    "\n",
    "X = np.linspace(0-D, 0+D, 20)\n",
    "Y = sigmoid(X)\n",
    "\n",
    "plt.plot(X, Y, '-g', label='сигмоид')\n",
    "plt.legend()\n",
    "plt.xlabel('X')\n",
    "plt.ylabel('Y')\n",
    "plt.show()"
   ]
  },
  {
   "cell_type": "markdown",
   "metadata": {
    "id": "sRkvW44SxpS5"
   },
   "source": [
    "А вот, как например на Python, можно реализовать упомянутую выше функцию активации Relu - "
   ]
  },
  {
   "cell_type": "code",
   "execution_count": 49,
   "metadata": {
    "id": "5r2NvzpVxpS6"
   },
   "outputs": [],
   "source": [
    "# вычисление Relu функции\n",
    "\n",
    "def ReLU(x):\n",
    "    return x * (x > 0)"
   ]
  },
  {
   "cell_type": "code",
   "execution_count": 50,
   "metadata": {
    "id": "14r5RO-tZv5E"
   },
   "outputs": [],
   "source": [
    "def ReLU_deriv(x):\n",
    "    return 1 if x >= 0 else 0"
   ]
  },
  {
   "cell_type": "code",
   "execution_count": 51,
   "metadata": {
    "colab": {
     "base_uri": "https://localhost:8080/",
     "height": 279
    },
    "executionInfo": {
     "elapsed": 27,
     "status": "ok",
     "timestamp": 1665401723168,
     "user": {
      "displayName": "Julia Ponomareva",
      "userId": "14904333240138417226"
     },
     "user_tz": -300
    },
    "id": "9omDu9MExpS6",
    "outputId": "28c6af7d-f6d4-4fe9-c231-bade2173d66f"
   },
   "outputs": [
    {
     "data": {
      "image/png": "[encoded data removed]",
      "text/plain": [
       "<Figure size 640x480 with 1 Axes>"
      ]
     },
     "metadata": {},
     "output_type": "display_data"
    }
   ],
   "source": [
    "# для картинки\n",
    "D = 10\n",
    "\n",
    "X = np.linspace(0-D, 0+D, 21)\n",
    "Y = ReLU(X)\n",
    "\n",
    "plt.plot(X, Y, '-g', label='ReLU')\n",
    "plt.legend()\n",
    "plt.xlabel('X')\n",
    "plt.ylabel('Y')\n",
    "plt.show()"
   ]
  },
  {
   "cell_type": "markdown",
   "metadata": {
    "id": "mVy3nvVhxpS7"
   },
   "source": [
    "## Обратное распространение ошибки и градиентный спуск <a class='anchor' id='backprop'>"
   ]
  },
  {
   "cell_type": "markdown",
   "metadata": {
    "id": "fwaD-rcGxpS7"
   },
   "source": [
    "Давайте прежде чем начнем разбирать обратное распространение и градиентный спуск, скажем несколько слов о тех типах архитектур нейронной сети, которые будут использованы в данном уроке. Это простые нейронные сети. С точки зрения архитектуры их можно отнести к полносвязным нейронным сетям так как все нейроны связаны между собой. С другой стороны их можно отнести к нейронным сетям прямого распространения (feed forward). Сети прямого распространения подразумевает распространения сигналы от вход к выходу, в отличии от реккурентных нейронных сетей, где во внутренних слоях сигналы могут ходить по циклу. О плюсах и минусах сетей полносвязных мы поговорим в уроке посвященном Сверточным нейронным сетям, поскольку данные нейронные сети отошли от этого подхода и нам нужно будет выяснить почему.\n",
    "\n",
    "После того как на выходе нейронной сети мы получили определенное цифровое значение нам нужно сравнить его с искомым. Мы можем посчитать насколько в количественом выражение ошиблась нейросеть. Задача обратного распространения ошибки пройтись от выхода ко входу и скорректировать веса нейронов. Это процесс происходит множество раз в процесс обучения.\n",
    "\n",
    "<img src='https://drive.google.com/uc?export=view&id=1XmympDj-QuN6VBWDGM69rzJHxB3-kBCX'>\n",
    "\n",
    "Можно сказать что процесс обучения нейронной сети это попытка оптимизировать веса нейронной сети до тех пор пока не будет достигнута минимальная степень ошибки. Для этого хорошо подходит такой алгоритм как градиентный спуск. Суть данного метода заключается в том, чтобы искать такие числовые параметры, при которых значение ошибки достигнет нуля.\n",
    "\n",
    "Обратите внимание на следующий график, из него видно, что есть определенное число по шкале весов, которому соотсвествует минимальное значение по шкале Error. Это число и нужно находить в процессе обучения нейронных сетей."
   ]
  },
  {
   "cell_type": "markdown",
   "metadata": {
    "id": "XpNyshdfxpS8"
   },
   "source": [
    "<img src='https://drive.google.com/uc?export=view&id=1bLmRgk-GiWyD3NKMIiAsIBUO-2uDkIW6'>"
   ]
  },
  {
   "cell_type": "markdown",
   "metadata": {
    "id": "iSHnElKexpS8"
   },
   "source": [
    "1. Инициализация w\n",
    "\n",
    "2. Цикл по k = 1,2,3,...:\n",
    "\n",
    "- $ w^{k} = w^{k-1} - \\eta\\nabla Q(w^{k-1}, X) $\n",
    "\n",
    "- Если $||w^{k} - w^{k-1}|| < \\epsilon$, то завершить.\n"
   ]
  },
  {
   "cell_type": "markdown",
   "metadata": {
    "id": "K88irooYxpS9"
   },
   "source": [
    "Давайте попробуем реализовать программного градиентный спуск, чтобы лучше понять как он работает."
   ]
  },
  {
   "cell_type": "code",
   "execution_count": 52,
   "metadata": {
    "id": "nrM5GLhBxpS9"
   },
   "outputs": [],
   "source": [
    "# первоначальное точка\n",
    "start_point = 5\n",
    "\n",
    "# размер шага (learning rate)\n",
    "learning_rate = 0.1\n",
    "\n",
    "# установка минимального значения, на которое должны изменяться веса\n",
    "eps = 0.0001\n",
    "\n",
    "func = lambda x: 2 * x ** 2\n",
    "# функция градиента для y = 2 * X**2\n",
    "gr_func = lambda x: 4 * x\n",
    "\n",
    "# для картинки\n",
    "D = 5\n",
    "\n",
    "X = np.linspace(-D, +D, 20)\n",
    "Y = func(X)\n",
    "\n",
    "# начальная точка\n",
    "next_point = start_point\n",
    "\n",
    "n_iter = 0\n",
    "\n",
    "x = []\n",
    "x.append(next_point)"
   ]
  },
  {
   "cell_type": "code",
   "execution_count": 53,
   "metadata": {
    "colab": {
     "base_uri": "https://localhost:8080/",
     "height": 709
    },
    "executionInfo": {
     "elapsed": 461,
     "status": "ok",
     "timestamp": 1666197699856,
     "user": {
      "displayName": "Julia Ponomareva",
      "userId": "14904333240138417226"
     },
     "user_tz": -300
    },
    "id": "_NNkJ82txpS-",
    "outputId": "095f485e-1ae8-40ff-b37f-8458c7d5afa4"
   },
   "outputs": [
    {
     "name": "stdout",
     "output_type": "stream",
     "text": [
      "Итерация: 1\n",
      "Текущая точка 5| Следующаяя точка 3.0\n",
      "--------------------------------------------------------\n",
      "Итерация: 2\n",
      "Текущая точка 3.0| Следующаяя точка 1.7999999999999998\n",
      "--------------------------------------------------------\n",
      "Итерация: 3\n",
      "Текущая точка 1.7999999999999998| Следующаяя точка 1.0799999999999998\n",
      "--------------------------------------------------------\n",
      "Итерация: 4\n",
      "Текущая точка 1.0799999999999998| Следующаяя точка 0.6479999999999999\n",
      "--------------------------------------------------------\n",
      "Итерация: 5\n",
      "Текущая точка 0.6479999999999999| Следующаяя точка 0.3887999999999999\n",
      "--------------------------------------------------------\n",
      "Итерация: 6\n",
      "Текущая точка 0.3887999999999999| Следующаяя точка 0.23327999999999993\n",
      "--------------------------------------------------------\n",
      "Итерация: 7\n",
      "Текущая точка 0.23327999999999993| Следующаяя точка 0.13996799999999995\n",
      "--------------------------------------------------------\n",
      "Итерация: 8\n",
      "Текущая точка 0.13996799999999995| Следующаяя точка 0.08398079999999997\n",
      "--------------------------------------------------------\n",
      "Итерация: 9\n",
      "Текущая точка 0.08398079999999997| Следующаяя точка 0.05038847999999998\n",
      "--------------------------------------------------------\n",
      "Итерация: 10\n",
      "Текущая точка 0.05038847999999998| Следующаяя точка 0.030233087999999984\n",
      "--------------------------------------------------------\n",
      "минимум 0.030233087999999984, количество затраченных итераций: 10\n"
     ]
    },
    {
     "data": {
      "image/png": "[encoded data removed]",
      "text/plain": [
       "<Figure size 1600x200 with 1 Axes>"
      ]
     },
     "metadata": {},
     "output_type": "display_data"
    }
   ],
   "source": [
    "plt.figure(figsize=(16, 2))\n",
    "plt.plot(X, Y, 'r', label='Y(X)')\n",
    "\n",
    "# количество итерация \n",
    "n = 10\n",
    "for i in range(n):\n",
    "    current_point = next_point\n",
    "\n",
    "    # движение в негативную сторону вычисляемого градиента\n",
    "    next_point = current_point - learning_rate * gr_func(current_point)\n",
    "    x.append(next_point)\n",
    "    # print(next_point)                                     \n",
    "\n",
    "    n_iter += 1\n",
    "\n",
    "    # остановка когда достигнута необходимая степень точности\n",
    "    print(f\"Итерация: {n_iter}\")\n",
    "    print(f\"Текущая точка {current_point}| Следующаяя точка {next_point}\")\n",
    "    print(\"--------------------------------------------------------\")\n",
    "    \n",
    "    \n",
    "    if (abs(current_point - next_point) <= eps):\n",
    "        break\n",
    "\n",
    "print(f\"минимум {next_point}, количество затраченных итераций: {n_iter}\") \n",
    "X_grad = np.array(x)\n",
    "plt.plot(X_grad, func(X_grad), '-*g', label = 'GD')\n",
    "plt.legend()\n",
    "plt.xlabel('X')\n",
    "plt.ylabel('Y')\n",
    "plt.show()"
   ]
  },
  {
   "cell_type": "code",
   "execution_count": 54,
   "metadata": {},
   "outputs": [
    {
     "name": "stdout",
     "output_type": "stream",
     "text": [
      "Итерация: 1\n",
      "Текущая точка 5| Следующаяя точка -15\n",
      "--------------------------------------------------------\n",
      "Итерация: 2\n",
      "Текущая точка -15| Следующаяя точка 45\n",
      "--------------------------------------------------------\n",
      "Итерация: 3\n",
      "Текущая точка 45| Следующаяя точка -135\n",
      "--------------------------------------------------------\n",
      "Итерация: 4\n",
      "Текущая точка -135| Следующаяя точка 405\n",
      "--------------------------------------------------------\n",
      "Итерация: 5\n",
      "Текущая точка 405| Следующаяя точка -1215\n",
      "--------------------------------------------------------\n",
      "Итерация: 6\n",
      "Текущая точка -1215| Следующаяя точка 3645\n",
      "--------------------------------------------------------\n",
      "Итерация: 7\n",
      "Текущая точка 3645| Следующаяя точка -10935\n",
      "--------------------------------------------------------\n",
      "Итерация: 8\n",
      "Текущая точка -10935| Следующаяя точка 32805\n",
      "--------------------------------------------------------\n",
      "Итерация: 9\n",
      "Текущая точка 32805| Следующаяя точка -98415\n",
      "--------------------------------------------------------\n",
      "Итерация: 10\n",
      "Текущая точка -98415| Следующаяя точка 295245\n",
      "--------------------------------------------------------\n",
      "минимум 295245, количество затраченных итераций: 10\n"
     ]
    },
    {
     "data": {
      "image/png": "[encoded data removed]",
      "text/plain": [
       "<Figure size 1600x200 with 1 Axes>"
      ]
     },
     "metadata": {},
     "output_type": "display_data"
    }
   ],
   "source": [
    "# первоначальное точка\n",
    "start_point = 5\n",
    "\n",
    "# размер шага (learning rate)\n",
    "learning_rate = 1\n",
    "\n",
    "# установка минимального значения, на которое должны изменяться веса\n",
    "eps = 0.0001\n",
    "\n",
    "func = lambda x: 2 * x ** 2\n",
    "# функция градиента для y = 2 * X**2\n",
    "gr_func = lambda x: 4 * x\n",
    "\n",
    "# для картинки\n",
    "D = 5\n",
    "\n",
    "X = np.linspace(-D, +D, 20)\n",
    "Y = func(X)\n",
    "\n",
    "# начальная точка\n",
    "next_point = start_point\n",
    "\n",
    "n_iter = 0\n",
    "\n",
    "x = []\n",
    "x.append(next_point)\n",
    "plt.figure(figsize=(16, 2))\n",
    "plt.plot(X, Y, 'r', label='Y(X)')\n",
    "\n",
    "# количество итерация \n",
    "n = 10\n",
    "for i in range(n):\n",
    "    current_point = next_point\n",
    "\n",
    "    # движение в негативную сторону вычисляемого градиента\n",
    "    next_point = current_point - learning_rate * gr_func(current_point)\n",
    "    x.append(next_point)\n",
    "    # print(next_point)                                     \n",
    "\n",
    "    n_iter += 1\n",
    "\n",
    "    # остановка когда достигнута необходимая степень точности\n",
    "    print(f\"Итерация: {n_iter}\")\n",
    "    print(f\"Текущая точка {current_point}| Следующаяя точка {next_point}\")\n",
    "    print(\"--------------------------------------------------------\")\n",
    "    \n",
    "    \n",
    "    if (abs(current_point - next_point) <= eps):\n",
    "        break\n",
    "\n",
    "print(f\"минимум {next_point}, количество затраченных итераций: {n_iter}\") \n",
    "X_grad = np.array(x)\n",
    "plt.plot(X_grad, func(X_grad), '-*g', label = 'GD')\n",
    "plt.legend()\n",
    "plt.xlabel('X')\n",
    "plt.ylabel('Y')\n",
    "plt.show()\n"
   ]
  },
  {
   "cell_type": "code",
   "execution_count": null,
   "metadata": {},
   "outputs": [],
   "source": []
  },
  {
   "cell_type": "markdown",
   "metadata": {
    "id": "js1pu68S_Pn6"
   },
   "source": [
    "### Метод обратного распространения ошибки (backpropagation)\n",
    "\n",
    "<img src='https://drive.google.com/uc?export=view&id=1HyKXUNjUD80-Wk458JW7ZCqgH0HhX6-m'>"
   ]
  },
  {
   "cell_type": "markdown",
   "metadata": {
    "id": "OnaUBAX7Zazp"
   },
   "source": [
    "## Небольшой пример по обучению простой нейронной сети <a class='anchor' id='example'>\n",
    "\n",
    "\n",
    "Рассмотрим создание простой нейронной сети. Данная нейронная сеть будет обучаться предсказывать 3 число на основании первых двух. Для этого мы ей передадим обучающую набор данных из двух последовательностей чисел.\n",
    "\n",
    "Этот пример позволяет создать и запустить простейшую нейронную сеть, но уже  в этом примере присутсвуют все необходимые атрибуты создания нейронных сетей: \n",
    "- подготовка данных для обучения модели\n",
    "- конфигурация модели\n",
    "- запуск модели.\n",
    "\n",
    "Дальше мы разберем, что такое функция активации, обратное распространение, внутренние слои нейронной сети и прочие аспекты создания нейронных сетей.\n",
    "Обратите внимание, что здесь используется библиотека numpy для получения дополнительных команд при работе с массивами."
   ]
  },
  {
   "cell_type": "markdown",
   "metadata": {
    "id": "kbHLAHXX5OSF"
   },
   "source": [
    "### Нейрон для повторения входа <a class='anchor' id='repeat'>"
   ]
  },
  {
   "cell_type": "markdown",
   "metadata": {
    "id": "8HIfWUM8xpTI"
   },
   "source": [
    "**Производная сигмоиды**\n",
    "\n",
    "$$\\sigma(z) = \\frac{1}{1 + exp(-z)}$$\n",
    "\n",
    "$$\\frac{d\\sigma(z)}{dz} = -\\frac{1}{(1 + exp(-z))^2}(-exp(-z)) = \\frac{exp(-z)}{(1 + exp(-z))^2} \\text{(*)} = \\frac{1}{1 + exp(-z)}(1-\\frac{1}{1 + exp(-z)}) = \\sigma(1-\\sigma)$$\n",
    "\n",
    "$ (*)\\frac{exp(-z) +1-1}{(1 + exp(-z))^2} = \\frac{1 + exp(-z) -1}{(1 + exp(-z))^2}= \\frac{1 + exp(-z)}{(1 + exp(-z))^2} - \\frac{1}{(1 + exp(-z))^2}=$\n",
    "\n",
    "$ = \\frac{1}{(1 + exp(-z))} - \\frac{1}{(1 + exp(-z))}\\frac{1}{(1 + exp(-z))} = \\frac{1}{(1 + exp(-z))}(1- \\frac{1}{(1 + exp(-z))}) $"
   ]
  },
  {
   "cell_type": "code",
   "execution_count": 11,
   "metadata": {
    "id": "shMVcQDelkhP"
   },
   "outputs": [],
   "source": [
    "import numpy as np\n",
    "import matplotlib.pyplot as plt\n",
    "\n",
    "\n",
    "# вычисление сигмоид функции\n",
    "def sigmoid(x):\n",
    "    return 1 / (1 + np.exp(-x))\n",
    "\n",
    "# вычисление производной от сигмоид функции\n",
    "def sigmoid_deriv(x):\n",
    "    return sigmoid(x) * (1 - sigmoid(x))"
   ]
  },
  {
   "cell_type": "code",
   "execution_count": 12,
   "metadata": {
    "colab": {
     "base_uri": "https://localhost:8080/",
     "height": 279
    },
    "executionInfo": {
     "elapsed": 395,
     "status": "ok",
     "timestamp": 1666198453608,
     "user": {
      "displayName": "Julia Ponomareva",
      "userId": "14904333240138417226"
     },
     "user_tz": -300
    },
    "id": "JG_4MLpcvRBL",
    "outputId": "f0d434a6-5dc9-4426-b7c2-9ccc114adbae"
   },
   "outputs": [
    {
     "data": {
      "image/png": "[encoded data removed]",
      "text/plain": [
       "<Figure size 640x480 with 1 Axes>"
      ]
     },
     "metadata": {},
     "output_type": "display_data"
    }
   ],
   "source": [
    "# для картинки\n",
    "D  = 10\n",
    "\n",
    "X = np.linspace(0-D, 0+D, 200)\n",
    "Y = sigmoid(X)\n",
    "Y_deriv = sigmoid_deriv(X)\n",
    "\n",
    "plt.plot(X, Y, '-g', label='сигмоид')\n",
    "plt.plot(X, Y_deriv, '-r', label='производная сигмоиды')\n",
    "\n",
    "plt.legend()\n",
    "plt.xlabel('X')\n",
    "plt.ylabel('Y')\n",
    "plt.show()"
   ]
  },
  {
   "cell_type": "code",
   "execution_count": 56,
   "metadata": {
    "colab": {
     "base_uri": "https://localhost:8080/",
     "height": 52
    },
    "executionInfo": {
     "elapsed": 20,
     "status": "ok",
     "timestamp": 1666198453609,
     "user": {
      "displayName": "Julia Ponomareva",
      "userId": "14904333240138417226"
     },
     "user_tz": -300
    },
    "id": "0SD974ixZazx",
    "outputId": "5e439e62-1b89-40ad-b47c-f033df1fe8e3"
   },
   "outputs": [
    {
     "data": {
      "text/plain": [
       "array([[0.417022]])"
      ]
     },
     "metadata": {},
     "output_type": "display_data"
    },
    {
     "data": {
      "text/plain": [
       "array([[0.72032449]])"
      ]
     },
     "metadata": {},
     "output_type": "display_data"
    }
   ],
   "source": [
    "# создание данных для обучения\n",
    "X = np.array([[1]])\n",
    "y = np.array([[1]]).T\n",
    "\n",
    "# генерации случайных чисел для инициализации весов\n",
    "np.random.seed(1)\n",
    "weights = np.random.random((X.shape[1], 1))\n",
    "bias = np.random.random((1, 1))\n",
    "\n",
    "display(weights, bias)"
   ]
  },
  {
   "cell_type": "code",
   "execution_count": 57,
   "metadata": {},
   "outputs": [],
   "source": [
    "#weights = 0.417\n",
    "# bias = 0.72"
   ]
  },
  {
   "cell_type": "markdown",
   "metadata": {
    "id": "jZcr2ibicKgu"
   },
   "source": [
    "forward"
   ]
  },
  {
   "cell_type": "code",
   "execution_count": 58,
   "metadata": {
    "colab": {
     "base_uri": "https://localhost:8080/"
    },
    "executionInfo": {
     "elapsed": 441,
     "status": "ok",
     "timestamp": 1666198606215,
     "user": {
      "displayName": "Julia Ponomareva",
      "userId": "14904333240138417226"
     },
     "user_tz": -300
    },
    "id": "d8k3tq4kbT-1",
    "outputId": "b92a679c-0bcd-446c-ae95-7936efa73e51"
   },
   "outputs": [
    {
     "data": {
      "text/plain": [
       "array([[0.75719212]])"
      ]
     },
     "execution_count": 58,
     "metadata": {},
     "output_type": "execute_result"
    }
   ],
   "source": [
    "# сделаем предсказание\n",
    "output = X * weights + bias\n",
    "pred = sigmoid(output)\n",
    "pred"
   ]
  },
  {
   "cell_type": "code",
   "execution_count": 59,
   "metadata": {
    "colab": {
     "base_uri": "https://localhost:8080/"
    },
    "executionInfo": {
     "elapsed": 313,
     "status": "ok",
     "timestamp": 1666198610716,
     "user": {
      "displayName": "Julia Ponomareva",
      "userId": "14904333240138417226"
     },
     "user_tz": -300
    },
    "id": "uBaHFx3EbsbZ",
    "outputId": "7e60bca8-2d4f-4916-cb96-d7a905826321"
   },
   "outputs": [
    {
     "data": {
      "text/plain": [
       "array([[0.05895567]])"
      ]
     },
     "execution_count": 59,
     "metadata": {},
     "output_type": "execute_result"
    }
   ],
   "source": [
    "# ошибка\n",
    "(y - pred) ** 2"
   ]
  },
  {
   "cell_type": "markdown",
   "metadata": {
    "id": "pbcKYkBYcL6k"
   },
   "source": [
    "Backward\n",
    "\n",
    "Производная сложной функции (произведение частных производных в каждом узле графа по каждой переменной)\n",
    "\n",
    "\n",
    "[Ссылка](https://docs.google.com/presentation/d/1Sfj8l91QFkFA6kMCe4CStCRDH5-pmfnZc8AEe8ujudg/edit?usp=sharing) на презентацию.\n",
    "\n",
    "* \n",
    "* Производная функции потерь по функции потерь\n",
    "\n",
    "**dL/dL**\n",
    "\n",
    "$\\frac{dL}{dL} = 1$\n",
    "\n",
    "\n",
    "* \n",
    "*  Производная функции потерь по сигмоиде\n",
    "\n",
    "\n",
    "**dL/dsigma**\n",
    "\n",
    "Связь сигмоиды и функции потерь:\n",
    "\n",
    "$Loss = (y - \\sigma)^2$\n",
    "\n",
    "<h3>$\\frac{dL}{\\sigma} = \\frac{dL}{dL}\\frac{dL}{d\\sigma} = 2 * (\\sigma - y) = 2 *(0.757 - 1) = -0.484$</h3>\n",
    "\n",
    "\n",
    "* \n",
    "*  Производная функции потерь по сумме\n",
    "\n",
    "**dL/db**\n",
    "\n",
    "Связь сигмоиды и суммы:\n",
    "\n",
    "$y_{pred} = \\sigma(output)$\n",
    "\n",
    "<h3>$\\frac{dL}{db} = \\frac{dL}{d\\sigma}\\frac{d\\sigma}{db} = -0.484 * (0.757 * (1-0.757)) = -0.089$</h3>\n",
    "\n",
    "\n",
    "* \n",
    "*  Производная функции потерь по умножению\n",
    "\n",
    "\n",
    "**dL/da**\n",
    "\n",
    "Связь сигмоиды и умножения:\n",
    "\n",
    "$b = w_0 + a$\n",
    "\n",
    "<h3>$\\frac{dL}{da} = \\frac{dL}{db}\\frac{db}{da} = -0.089 * 1$</h3>\n",
    "\n",
    "* \n",
    "*  Производная функции потерь по весу w0\n",
    "\n",
    "**dL/dw0**\n",
    "\n",
    "Связь сигмоиды и весу w0:\n",
    "\n",
    "$b = w_0 + a$\n",
    "\n",
    "<h3>$\\frac{dL}{dw_0} = \\frac{dL}{db}\\frac{db}{dw_0} = -0.089 * 1$</h3>\n",
    "\n",
    "* \n",
    "*  Производная функции потерь по весу w1\n",
    "\n",
    "**dL/dw1**\n",
    "\n",
    "$a = w_1*x$\n",
    "\n",
    "<h3>$\\frac{dL}{dw_1} = \\frac{dL}{da}\\frac{da}{dw_1} = -0.089 * x = -0.089 * 1$</h3>\n",
    "\n"
   ]
  },
  {
   "cell_type": "code",
   "execution_count": 60,
   "metadata": {
    "colab": {
     "base_uri": "https://localhost:8080/"
    },
    "executionInfo": {
     "elapsed": 481,
     "status": "ok",
     "timestamp": 1666198616555,
     "user": {
      "displayName": "Julia Ponomareva",
      "userId": "14904333240138417226"
     },
     "user_tz": -300
    },
    "id": "d0TKc_pKcNtR",
    "outputId": "94bc17c9-8f68-4b29-cf0c-7646d3173375"
   },
   "outputs": [
    {
     "data": {
      "text/plain": [
       "array([[-0.48561576]])"
      ]
     },
     "execution_count": 60,
     "metadata": {},
     "output_type": "execute_result"
    }
   ],
   "source": [
    "# сделаем backprop\n",
    "# dloss/dloss = 1\n",
    "dsigm = 2 * (pred - y)\n",
    "dsigm"
   ]
  },
  {
   "cell_type": "code",
   "execution_count": 61,
   "metadata": {
    "colab": {
     "base_uri": "https://localhost:8080/"
    },
    "executionInfo": {
     "elapsed": 481,
     "status": "ok",
     "timestamp": 1666198616555,
     "user": {
      "displayName": "Julia Ponomareva",
      "userId": "14904333240138417226"
     },
     "user_tz": -300
    },
    "id": "d0TKc_pKcNtR",
    "outputId": "94bc17c9-8f68-4b29-cf0c-7646d3173375"
   },
   "outputs": [
    {
     "data": {
      "text/plain": [
       "array([[-0.08928153]])"
      ]
     },
     "execution_count": 61,
     "metadata": {},
     "output_type": "execute_result"
    }
   ],
   "source": [
    "db = dsigm * sigmoid_deriv(output)\n",
    "db"
   ]
  },
  {
   "cell_type": "code",
   "execution_count": 62,
   "metadata": {
    "colab": {
     "base_uri": "https://localhost:8080/"
    },
    "executionInfo": {
     "elapsed": 481,
     "status": "ok",
     "timestamp": 1666198616555,
     "user": {
      "displayName": "Julia Ponomareva",
      "userId": "14904333240138417226"
     },
     "user_tz": -300
    },
    "id": "d0TKc_pKcNtR",
    "outputId": "94bc17c9-8f68-4b29-cf0c-7646d3173375"
   },
   "outputs": [
    {
     "data": {
      "text/plain": [
       "array([[-0.08928153]])"
      ]
     },
     "execution_count": 62,
     "metadata": {},
     "output_type": "execute_result"
    }
   ],
   "source": [
    "da = 1 * db\n",
    "da"
   ]
  },
  {
   "cell_type": "code",
   "execution_count": 63,
   "metadata": {
    "colab": {
     "base_uri": "https://localhost:8080/"
    },
    "executionInfo": {
     "elapsed": 481,
     "status": "ok",
     "timestamp": 1666198616555,
     "user": {
      "displayName": "Julia Ponomareva",
      "userId": "14904333240138417226"
     },
     "user_tz": -300
    },
    "id": "d0TKc_pKcNtR",
    "outputId": "94bc17c9-8f68-4b29-cf0c-7646d3173375"
   },
   "outputs": [
    {
     "data": {
      "text/plain": [
       "array([[-0.08928153]])"
      ]
     },
     "execution_count": 63,
     "metadata": {},
     "output_type": "execute_result"
    }
   ],
   "source": [
    "dw0 = 1 * db\n",
    "dw0"
   ]
  },
  {
   "cell_type": "code",
   "execution_count": 64,
   "metadata": {
    "colab": {
     "base_uri": "https://localhost:8080/"
    },
    "executionInfo": {
     "elapsed": 481,
     "status": "ok",
     "timestamp": 1666198616555,
     "user": {
      "displayName": "Julia Ponomareva",
      "userId": "14904333240138417226"
     },
     "user_tz": -300
    },
    "id": "d0TKc_pKcNtR",
    "outputId": "94bc17c9-8f68-4b29-cf0c-7646d3173375"
   },
   "outputs": [
    {
     "data": {
      "text/plain": [
       "array([[-0.08928153]])"
      ]
     },
     "execution_count": 64,
     "metadata": {},
     "output_type": "execute_result"
    }
   ],
   "source": [
    "dw1 = da * X\n",
    "dw1"
   ]
  },
  {
   "cell_type": "code",
   "execution_count": 65,
   "metadata": {
    "id": "OcyWYrlevPfZ"
   },
   "outputs": [],
   "source": [
    "# обновим параметры\n",
    "bias = bias - dw0\n",
    "weights = weights - dw1"
   ]
  },
  {
   "cell_type": "code",
   "execution_count": 66,
   "metadata": {},
   "outputs": [
    {
     "data": {
      "text/plain": [
       "(array([[0.50630354]]), array([[0.80960603]]))"
      ]
     },
     "execution_count": 66,
     "metadata": {},
     "output_type": "execute_result"
    }
   ],
   "source": [
    "weights, bias"
   ]
  },
  {
   "cell_type": "code",
   "execution_count": 67,
   "metadata": {
    "colab": {
     "base_uri": "https://localhost:8080/"
    },
    "executionInfo": {
     "elapsed": 8,
     "status": "ok",
     "timestamp": 1666198620393,
     "user": {
      "displayName": "Julia Ponomareva",
      "userId": "14904333240138417226"
     },
     "user_tz": -300
    },
    "id": "o235htk3vefB",
    "outputId": "124829b4-9d09-4bd0-c318-b06ed29c56ba"
   },
   "outputs": [
    {
     "data": {
      "text/plain": [
       "array([[0.78850036]])"
      ]
     },
     "execution_count": 67,
     "metadata": {},
     "output_type": "execute_result"
    }
   ],
   "source": [
    " # Новое предсказание\n",
    "\n",
    "sigmoid(np.dot(X, weights) + bias)"
   ]
  },
  {
   "cell_type": "code",
   "execution_count": null,
   "metadata": {},
   "outputs": [],
   "source": []
  },
  {
   "cell_type": "code",
   "execution_count": 77,
   "metadata": {},
   "outputs": [
    {
     "data": {
      "text/plain": [
       "array([[0.88672958]])"
      ]
     },
     "execution_count": 77,
     "metadata": {},
     "output_type": "execute_result"
    }
   ],
   "source": [
    "output = np.dot(X, weights) + bias\n",
    "pred = sigmoid(output)\n",
    "\n",
    "dsigm = 2 * (pred - y)\n",
    "db = dsigm * sigmoid_deriv(output)\n",
    "da = 1 * db\n",
    "dw0 = 1 * db\n",
    "dw1 = da * X\n",
    "bias -= dw0\n",
    "weights -= dw1\n",
    "sigmoid(np.dot(X, weights) + bias)"
   ]
  },
  {
   "cell_type": "code",
   "execution_count": 78,
   "metadata": {},
   "outputs": [
    {
     "data": {
      "text/plain": [
       "(array([[0.87722975]]), array([[1.18053224]]))"
      ]
     },
     "execution_count": 78,
     "metadata": {},
     "output_type": "execute_result"
    }
   ],
   "source": [
    "weights, bias"
   ]
  },
  {
   "cell_type": "markdown",
   "metadata": {
    "id": "urUkYJggwZaP"
   },
   "source": [
    "#### Обучение на большем количестве объектов"
   ]
  },
  {
   "cell_type": "code",
   "execution_count": null,
   "metadata": {},
   "outputs": [],
   "source": []
  },
  {
   "cell_type": "code",
   "execution_count": 84,
   "metadata": {
    "colab": {
     "base_uri": "https://localhost:8080/",
     "height": 52
    },
    "executionInfo": {
     "elapsed": 20,
     "status": "ok",
     "timestamp": 1666198770947,
     "user": {
      "displayName": "Julia Ponomareva",
      "userId": "14904333240138417226"
     },
     "user_tz": -300
    },
    "id": "-vyI2DShwb1i",
    "outputId": "34d238c0-452c-42c8-ab81-6d2d18f59d94"
   },
   "outputs": [
    {
     "data": {
      "text/plain": [
       "array([[0.417022]])"
      ]
     },
     "metadata": {},
     "output_type": "display_data"
    },
    {
     "data": {
      "text/plain": [
       "array([[0.72032449]])"
      ]
     },
     "metadata": {},
     "output_type": "display_data"
    }
   ],
   "source": [
    "# создание данных для обучения\n",
    "X = np.array([[0], [1]])\n",
    "y = np.array([[0, 1]]).T\n",
    "\n",
    "# генерации случайных чисел для инициализации весов\n",
    "np.random.seed(1)\n",
    "weights = np.random.random((X.shape[1], 1))\n",
    "bias = np.random.random((1, 1))\n",
    "\n",
    "display(weights, bias)"
   ]
  },
  {
   "cell_type": "markdown",
   "metadata": {
    "id": "7vx5tge-wi2g"
   },
   "source": [
    "Forward"
   ]
  },
  {
   "cell_type": "code",
   "execution_count": 85,
   "metadata": {
    "colab": {
     "base_uri": "https://localhost:8080/"
    },
    "executionInfo": {
     "elapsed": 10,
     "status": "ok",
     "timestamp": 1666198775575,
     "user": {
      "displayName": "Julia Ponomareva",
      "userId": "14904333240138417226"
     },
     "user_tz": -300
    },
    "id": "xdTuxZWgwgjh",
    "outputId": "8c18665d-1726-4019-ed25-bf6e5ff34d79"
   },
   "outputs": [
    {
     "data": {
      "text/plain": [
       "array([[0.67267847],\n",
       "       [0.75719212]])"
      ]
     },
     "execution_count": 85,
     "metadata": {},
     "output_type": "execute_result"
    }
   ],
   "source": [
    "# сделаем предсказание\n",
    "output = np.dot(X, weights) + bias\n",
    "pred = sigmoid(output)\n",
    "pred"
   ]
  },
  {
   "cell_type": "code",
   "execution_count": 86,
   "metadata": {
    "colab": {
     "base_uri": "https://localhost:8080/"
    },
    "executionInfo": {
     "elapsed": 625,
     "status": "ok",
     "timestamp": 1666198803642,
     "user": {
      "displayName": "Julia Ponomareva",
      "userId": "14904333240138417226"
     },
     "user_tz": -300
    },
    "id": "fUSwP3WywmyI",
    "outputId": "d181f199-08df-48a6-aa72-036d55a05ff3"
   },
   "outputs": [
    {
     "data": {
      "text/plain": [
       "0.2557259944893541"
      ]
     },
     "execution_count": 86,
     "metadata": {},
     "output_type": "execute_result"
    }
   ],
   "source": [
    "# ошибка - Усреднение по всем ошибкам\n",
    "np.mean((y - pred) ** 2)"
   ]
  },
  {
   "cell_type": "markdown",
   "metadata": {
    "id": "2HzkMaQywpGU"
   },
   "source": [
    "Backward"
   ]
  },
  {
   "cell_type": "code",
   "execution_count": 87,
   "metadata": {
    "colab": {
     "base_uri": "https://localhost:8080/"
    },
    "executionInfo": {
     "elapsed": 700,
     "status": "ok",
     "timestamp": 1666198892679,
     "user": {
      "displayName": "Julia Ponomareva",
      "userId": "14904333240138417226"
     },
     "user_tz": -300
    },
    "id": "snGcmlFBwq2Y",
    "outputId": "bece26b1-02ae-40bb-cb70-8fb4b852058c"
   },
   "outputs": [
    {
     "name": "stdout",
     "output_type": "stream",
     "text": [
      "[[ 1.34535694]\n",
      " [-0.48561576]]\n",
      "[[ 0.29622358]\n",
      " [-0.08928153]]\n",
      "[[ 0.29622358]\n",
      " [-0.08928153]]\n",
      "[0.20694205]\n",
      "[-0.08928153]\n"
     ]
    }
   ],
   "source": [
    "# сделаем backprop\n",
    "# dloss/dloss = 1\n",
    "dsigm = 2 * (pred - y)\n",
    "print(dsigm)\n",
    "db = dsigm * sigmoid_deriv(output)\n",
    "print(db)\n",
    "da = 1 * db\n",
    "print(da)\n",
    "# Для получения единичного значения градиента  w0  матрично умножим b на единичкую матрицу \n",
    "dw0 = np.ones((X.shape[0])) @ db\n",
    "print(dw0)\n",
    "# Для получения единичного значения градиента  w1  матрично умножим (da * X) на единичкую матрицу \n",
    "dw1 = np.ones((X.shape[0])) @ (da * X)\n",
    "#  или dw1 = da.T @ X\n",
    "print(dw1)"
   ]
  },
  {
   "cell_type": "code",
   "execution_count": 88,
   "metadata": {
    "id": "p_0suX4Eww5g"
   },
   "outputs": [],
   "source": [
    "# обновим параметры\n",
    "bias -= dw0\n",
    "weights -= dw1"
   ]
  },
  {
   "cell_type": "code",
   "execution_count": 89,
   "metadata": {
    "colab": {
     "base_uri": "https://localhost:8080/"
    },
    "executionInfo": {
     "elapsed": 7,
     "status": "ok",
     "timestamp": 1666198909637,
     "user": {
      "displayName": "Julia Ponomareva",
      "userId": "14904333240138417226"
     },
     "user_tz": -300
    },
    "id": "EN5L1dbr0Ttk",
    "outputId": "8f483bbc-74b8-4c3a-cc5f-8baad9b11678"
   },
   "outputs": [
    {
     "data": {
      "text/plain": [
       "array([[0.62559906],\n",
       "       [0.73491143]])"
      ]
     },
     "execution_count": 89,
     "metadata": {},
     "output_type": "execute_result"
    }
   ],
   "source": [
    "# сделаем предсказания\n",
    "sigmoid(np.dot(X, weights) + bias)"
   ]
  },
  {
   "cell_type": "code",
   "execution_count": 91,
   "metadata": {
    "id": "TnLqhNBsZazy"
   },
   "outputs": [],
   "source": [
    "# тренировка нейронной сети\n",
    "def train_nn(X, y, num_iters):\n",
    "    global weights, bias\n",
    "    for n_iter in range(num_iters):\n",
    "        # проход данных через нейрон\n",
    "        output = run_nn(X)\n",
    "\n",
    "        # вычисление ошибки через обратное распространение back-propagation\n",
    "        error = output - y\n",
    "            \n",
    "        # выполнение корректировки весов\n",
    "        grad = np.dot(X.T, error * sigmoid_deriv(output))\n",
    "        grad_bias = np.sum(error * sigmoid_deriv(output), keepdims=1)\n",
    "        weights -= grad\n",
    "        bias -= grad_bias\n",
    "\n",
    "\n",
    "# пропускание входных данных через нейрон и получение предсказания\n",
    "# конвертация значений во floats\n",
    "def run_nn(inputs):\n",
    "    global weights, bias\n",
    "    inputs = inputs.astype(float)\n",
    "    output = sigmoid(np.dot(inputs, weights) + bias)\n",
    "    return output"
   ]
  },
  {
   "cell_type": "code",
   "execution_count": 94,
   "metadata": {
    "colab": {
     "base_uri": "https://localhost:8080/"
    },
    "executionInfo": {
     "elapsed": 322,
     "status": "ok",
     "timestamp": 1666199080848,
     "user": {
      "displayName": "Julia Ponomareva",
      "userId": "14904333240138417226"
     },
     "user_tz": -300
    },
    "id": "7Po8MkWVZaz0",
    "outputId": "ebcc3476-e38e-4a75-eaaa-f4207ff07783"
   },
   "outputs": [
    {
     "name": "stdout",
     "output_type": "stream",
     "text": [
      "веса до обучения: \n",
      "[[0.417022]] [[0.72032449]]\n",
      "веса после завершения обучения: \n",
      "[[13.60579935]] [[-6.71988778]]\n"
     ]
    }
   ],
   "source": [
    "# генерации случайных чисел для инициализации весов\n",
    "np.random.seed(1)\n",
    "weights = np.random.random((X.shape[1], 1))\n",
    "bias = np.random.random((1, 1))\n",
    "print(\"веса до обучения: \")\n",
    "print(weights, bias)\n",
    "\n",
    "# запуск тренировки нейронной сети \n",
    "train_nn(X, y, 10000)\n",
    "print(\"веса после завершения обучения: \")\n",
    "print(weights, bias)"
   ]
  },
  {
   "cell_type": "code",
   "execution_count": 95,
   "metadata": {
    "colab": {
     "base_uri": "https://localhost:8080/"
    },
    "executionInfo": {
     "elapsed": 7,
     "status": "ok",
     "timestamp": 1666199081292,
     "user": {
      "displayName": "Julia Ponomareva",
      "userId": "14904333240138417226"
     },
     "user_tz": -300
    },
    "id": "FYuewRwUZaz0",
    "outputId": "90ff267b-fb75-4e24-8cbb-015d617bef15"
   },
   "outputs": [
    {
     "name": "stdout",
     "output_type": "stream",
     "text": [
      "Проверка на новых данных: 0 1\n",
      "Предсказание нейронной сети: \n",
      "[[0.00120522]\n",
      " [0.99897896]]\n"
     ]
    }
   ],
   "source": [
    "user_inp1, user_inp2 = 0, 1\n",
    "print(f\"Проверка на новых данных: {user_inp1} {user_inp2}\")\n",
    "print(\"Предсказание нейронной сети: \")\n",
    "print(run_nn(np.array([[user_inp1], [user_inp2]])))"
   ]
  },
  {
   "cell_type": "markdown",
   "metadata": {
    "id": "UbPEzBco35nQ"
   },
   "source": [
    "### Нейрон для регрессии <a class='anchor' id='reg'>"
   ]
  },
  {
   "cell_type": "code",
   "execution_count": 101,
   "metadata": {
    "id": "6pW0jGfCZ6ju"
   },
   "outputs": [],
   "source": [
    "# вычисление ReLU функции\n",
    "\n",
    "def ReLU(x):\n",
    "    return x * (x > 0)"
   ]
  },
  {
   "cell_type": "code",
   "execution_count": 102,
   "metadata": {
    "id": "V_T3b8k1Z6ju"
   },
   "outputs": [],
   "source": [
    "def ReLU_deriv(x):\n",
    "    return np.where(x >= 0, 1, 0)"
   ]
  },
  {
   "cell_type": "code",
   "execution_count": 103,
   "metadata": {
    "colab": {
     "base_uri": "https://localhost:8080/",
     "height": 279
    },
    "executionInfo": {
     "elapsed": 838,
     "status": "ok",
     "timestamp": 1665401744149,
     "user": {
      "displayName": "Julia Ponomareva",
      "userId": "14904333240138417226"
     },
     "user_tz": -300
    },
    "id": "7n-QyZxWZ6ju",
    "outputId": "1118acaa-d57b-4fda-9a47-05561de21c5b"
   },
   "outputs": [
    {
     "data": {
      "image/png": "[encoded data removed]",
      "text/plain": [
       "<Figure size 640x480 with 1 Axes>"
      ]
     },
     "metadata": {},
     "output_type": "display_data"
    }
   ],
   "source": [
    "# для картинки\n",
    "D = 10\n",
    "\n",
    "X = np.linspace(0-D, 0+D, 200)\n",
    "Y = ReLU(X)\n",
    "dY = ReLU_deriv(X)\n",
    "\n",
    "plt.plot(X, Y, '-g', label='ReLU')\n",
    "plt.plot(X, dY, '-r', label='d ReLU')\n",
    "plt.legend()\n",
    "plt.xlabel('X')\n",
    "plt.ylabel('Y')\n",
    "plt.show()"
   ]
  },
  {
   "cell_type": "code",
   "execution_count": 104,
   "metadata": {
    "id": "wTg32_0936kb"
   },
   "outputs": [],
   "source": [
    "# тренировка нейронной сети\n",
    "def train_nn(X, y, num_iters):\n",
    "    global weights, bias\n",
    "    for n_iter in range(num_iters):\n",
    "        # проход данных через нейрон\n",
    "        output = run_nn(X)\n",
    "\n",
    "        # вычисление ошибки через обратное распространение back-propagation\n",
    "        error = output - y\n",
    "            \n",
    "        # выполнение корректировки весов\n",
    "        grad = np.dot(X.T, error * ReLU_deriv(output))\n",
    "        grad_bias = np.sum(error * ReLU_deriv(output), keepdims=1)\n",
    "        weights -= 0.01 * grad\n",
    "        bias -= 0.01 * grad_bias\n",
    "\n",
    "\n",
    "# пропускание входных данных через нейрон и получение предсказания\n",
    "# конвертация значений во floats\n",
    "def run_nn(inputs):\n",
    "    global weights, bias\n",
    "    inputs = inputs.astype(float)\n",
    "    output = ReLU(np.dot(inputs, weights) + bias)\n",
    "    return output"
   ]
  },
  {
   "cell_type": "code",
   "execution_count": 105,
   "metadata": {
    "colab": {
     "base_uri": "https://localhost:8080/"
    },
    "executionInfo": {
     "elapsed": 464,
     "status": "ok",
     "timestamp": 1665401746843,
     "user": {
      "displayName": "Julia Ponomareva",
      "userId": "14904333240138417226"
     },
     "user_tz": -300
    },
    "id": "mZKjT7RK4H3j",
    "outputId": "5ea2ed15-c64e-44e2-e571-234933cba502"
   },
   "outputs": [
    {
     "name": "stdout",
     "output_type": "stream",
     "text": [
      "веса до обучения: \n",
      "[[0.417022]] [[0.72032449]]\n",
      "веса после завершения обучения: \n",
      "[[3.]] [[3.10711067e-15]]\n"
     ]
    }
   ],
   "source": [
    "# создание данных для обучения\n",
    "X = np.array([[1], [3], [2], [4], [7]])\n",
    "y = np.array([[3, 9, 6, 12, 21]]).T\n",
    "\n",
    "# генерации случайных чисел для инициализации весов\n",
    "np.random.seed(1)\n",
    "weights = np.random.random((X.shape[1], 1))\n",
    "bias = np.random.random((1, 1))\n",
    "print(\"веса до обучения: \")\n",
    "print(weights, bias)\n",
    "\n",
    "# запуск тренировки нейронной сети \n",
    "train_nn(X, y, 10000)\n",
    "print(\"веса после завершения обучения: \")\n",
    "print(weights, bias)"
   ]
  },
  {
   "cell_type": "code",
   "execution_count": 107,
   "metadata": {
    "colab": {
     "base_uri": "https://localhost:8080/"
    },
    "executionInfo": {
     "elapsed": 11,
     "status": "ok",
     "timestamp": 1665401746844,
     "user": {
      "displayName": "Julia Ponomareva",
      "userId": "14904333240138417226"
     },
     "user_tz": -300
    },
    "id": "UfhmtnzL9FBr",
    "outputId": "f712ed5e-d269-4883-c626-7f2b8a2e88ec"
   },
   "outputs": [
    {
     "name": "stdout",
     "output_type": "stream",
     "text": [
      "Проверка на новых данных: 10 9\n",
      "Предсказание нейронной сети: \n",
      "[[30.]\n",
      " [27.]]\n"
     ]
    }
   ],
   "source": [
    "user_inp1, user_inp2 = 10, 9\n",
    "print(f\"Проверка на новых данных: {user_inp1} {user_inp2}\")\n",
    "print(\"Предсказание нейронной сети: \")\n",
    "print(run_nn(np.array([[user_inp1], [user_inp2]])))"
   ]
  },
  {
   "cell_type": "markdown",
   "metadata": {
    "id": "_WeS0wye5iDR"
   },
   "source": [
    "### Нейрон для многоклассовой классификации <a class='acnhor' id='multiclass'>"
   ]
  },
  {
   "cell_type": "code",
   "execution_count": 108,
   "metadata": {
    "id": "ozb9OSh3xpTI"
   },
   "outputs": [],
   "source": [
    "import numpy as np\n",
    "import matplotlib.pyplot as plt\n",
    "\n",
    "\n",
    "# вычисление сигмоид функции\n",
    "def sigmoid(x):\n",
    "    x = np.clip(x, a_min=-500, a_max=500)\n",
    "    return 1 / (1 + np.exp(-x))\n",
    "\n",
    "# вычисление производной от сигмоид функции\n",
    "def sigmoid_deriv(x):\n",
    "    return sigmoid(x) * (1 - sigmoid(x))"
   ]
  },
  {
   "cell_type": "code",
   "execution_count": 109,
   "metadata": {
    "colab": {
     "base_uri": "https://localhost:8080/",
     "height": 279
    },
    "executionInfo": {
     "elapsed": 8,
     "status": "ok",
     "timestamp": 1665401749474,
     "user": {
      "displayName": "Julia Ponomareva",
      "userId": "14904333240138417226"
     },
     "user_tz": -300
    },
    "id": "PIC7jBXIxpTI",
    "outputId": "ce8c87ad-e9aa-44e0-cb3d-13fc8237ec77"
   },
   "outputs": [
    {
     "data": {
      "image/png": "[encoded data removed]",
      "text/plain": [
       "<Figure size 640x480 with 1 Axes>"
      ]
     },
     "metadata": {},
     "output_type": "display_data"
    }
   ],
   "source": [
    "# для картинки\n",
    "D = 10\n",
    "\n",
    "X = np.linspace(0-D, 0+D, 200)\n",
    "Y = sigmoid(X)\n",
    "dY = sigmoid_deriv(X)\n",
    "\n",
    "plt.plot(X, Y, '-g', label='сигмоид')\n",
    "plt.plot(X, dY, '-r', label='d сигмоид')\n",
    "plt.legend()\n",
    "plt.xlabel('X')\n",
    "plt.ylabel('Y')\n",
    "plt.show()"
   ]
  },
  {
   "cell_type": "code",
   "execution_count": 111,
   "metadata": {
    "colab": {
     "base_uri": "https://localhost:8080/",
     "height": 391
    },
    "executionInfo": {
     "elapsed": 3338,
     "status": "ok",
     "timestamp": 1666199958413,
     "user": {
      "displayName": "Julia Ponomareva",
      "userId": "14904333240138417226"
     },
     "user_tz": -300
    },
    "id": "z_KsqbZ3xpTJ",
    "outputId": "3a764dc8-9a36-4cae-9cb1-c9a199244580"
   },
   "outputs": [
    {
     "name": "stdout",
     "output_type": "stream",
     "text": [
      "(1797, 64)\n"
     ]
    },
    {
     "data": {
      "image/png": "[encoded data removed]",
      "text/plain": [
       "<Figure size 1600x600 with 10 Axes>"
      ]
     },
     "metadata": {},
     "output_type": "display_data"
    }
   ],
   "source": [
    "from sklearn.datasets import load_digits\n",
    "from sklearn.preprocessing import MinMaxScaler\n",
    "import matplotlib.pyplot as plt\n",
    "\n",
    "\n",
    "# Подготовка тренировочных данных\n",
    "X, y = load_digits(return_X_y=True)\n",
    "print(X.shape) # расскоментируйте, чтобы размер данных\n",
    "\n",
    "# репрезентация данных\n",
    "plt.figure(figsize=(16, 6))\n",
    "for i in range(10):\n",
    "    plt.subplot(2, 5, i + 1)\n",
    "    plt.imshow(X[i,:].reshape([8, 8]), cmap='gray')"
   ]
  },
  {
   "cell_type": "code",
   "execution_count": 112,
   "metadata": {
    "colab": {
     "base_uri": "https://localhost:8080/"
    },
    "executionInfo": {
     "elapsed": 6,
     "status": "ok",
     "timestamp": 1666200041966,
     "user": {
      "displayName": "Julia Ponomareva",
      "userId": "14904333240138417226"
     },
     "user_tz": -300
    },
    "id": "_Z1QSqQ0H-C4",
    "outputId": "ecb5f239-d0ea-424f-b798-c4df5f0bd101"
   },
   "outputs": [
    {
     "data": {
      "text/plain": [
       "(1797,)"
      ]
     },
     "execution_count": 112,
     "metadata": {},
     "output_type": "execute_result"
    }
   ],
   "source": [
    "y.shape"
   ]
  },
  {
   "cell_type": "code",
   "execution_count": 113,
   "metadata": {
    "id": "B-KVdVdVxpTJ"
   },
   "outputs": [],
   "source": [
    "def to_one_hot(Y):\n",
    "    n_col = np.max(Y) + 1\n",
    "    binarized = np.zeros((len(Y), n_col))\n",
    "    for i in range(len(Y)):\n",
    "        binarized[i, Y[i]] = 1\n",
    "    return binarized"
   ]
  },
  {
   "cell_type": "code",
   "execution_count": 114,
   "metadata": {
    "colab": {
     "base_uri": "https://localhost:8080/",
     "height": 156
    },
    "executionInfo": {
     "elapsed": 537,
     "status": "ok",
     "timestamp": 1666200087633,
     "user": {
      "displayName": "Julia Ponomareva",
      "userId": "14904333240138417226"
     },
     "user_tz": -300
    },
    "id": "oNJY5ADWxpTK",
    "outputId": "98e4629a-b1ba-4b3a-c5cb-9e1f3cd10936"
   },
   "outputs": [
    {
     "data": {
      "text/plain": [
       "array([[1., 0., 0., ..., 0., 0., 0.],\n",
       "       [0., 1., 0., ..., 0., 0., 0.],\n",
       "       [0., 0., 1., ..., 0., 0., 0.],\n",
       "       ...,\n",
       "       [0., 0., 0., ..., 0., 1., 0.],\n",
       "       [0., 0., 0., ..., 0., 0., 1.],\n",
       "       [0., 0., 0., ..., 0., 1., 0.]])"
      ]
     },
     "metadata": {},
     "output_type": "display_data"
    },
    {
     "data": {
      "text/plain": [
       "(1797, 10)"
      ]
     },
     "metadata": {},
     "output_type": "display_data"
    }
   ],
   "source": [
    "# формирование входных данных\n",
    "scaler = MinMaxScaler()\n",
    "X = scaler.fit_transform(X)\n",
    "\n",
    "# формирование выходных данных(результатов)\n",
    "y = y.flatten()\n",
    "y = to_one_hot(y)\n",
    "display(y, y.shape)"
   ]
  },
  {
   "cell_type": "code",
   "execution_count": 115,
   "metadata": {
    "colab": {
     "base_uri": "https://localhost:8080/"
    },
    "executionInfo": {
     "elapsed": 485,
     "status": "ok",
     "timestamp": 1666200090552,
     "user": {
      "displayName": "Julia Ponomareva",
      "userId": "14904333240138417226"
     },
     "user_tz": -300
    },
    "id": "nF5fjdEbQ4QP",
    "outputId": "3f599ebe-df47-40b7-df63-397957227521"
   },
   "outputs": [
    {
     "data": {
      "text/plain": [
       "array([[0.    , 0.    , 0.3125, ..., 0.    , 0.    , 0.    ],\n",
       "       [0.    , 0.    , 0.    , ..., 0.625 , 0.    , 0.    ],\n",
       "       [0.    , 0.    , 0.    , ..., 1.    , 0.5625, 0.    ],\n",
       "       ...,\n",
       "       [0.    , 0.    , 0.0625, ..., 0.375 , 0.    , 0.    ],\n",
       "       [0.    , 0.    , 0.125 , ..., 0.75  , 0.    , 0.    ],\n",
       "       [0.    , 0.    , 0.625 , ..., 0.75  , 0.0625, 0.    ]])"
      ]
     },
     "execution_count": 115,
     "metadata": {},
     "output_type": "execute_result"
    }
   ],
   "source": [
    "X"
   ]
  },
  {
   "cell_type": "code",
   "execution_count": 116,
   "metadata": {
    "colab": {
     "base_uri": "https://localhost:8080/"
    },
    "executionInfo": {
     "elapsed": 58,
     "status": "ok",
     "timestamp": 1665401753540,
     "user": {
      "displayName": "Julia Ponomareva",
      "userId": "14904333240138417226"
     },
     "user_tz": -300
    },
    "id": "bBJi_H1LxpTL",
    "outputId": "92b35ba0-d918-43e9-a3e6-17c0a96eb18e"
   },
   "outputs": [
    {
     "data": {
      "text/plain": [
       "((1203, 64), (594, 64))"
      ]
     },
     "execution_count": 116,
     "metadata": {},
     "output_type": "execute_result"
    }
   ],
   "source": [
    "from sklearn.model_selection import train_test_split\n",
    "\n",
    "# Разделение данных на тренировочные и тестовые\n",
    "X_train, X_test, y_train, y_test = train_test_split(X, y, test_size=0.33)\n",
    "X_train.shape, X_test.shape"
   ]
  },
  {
   "cell_type": "code",
   "execution_count": 117,
   "metadata": {
    "id": "xLsP8t1kxpTM"
   },
   "outputs": [],
   "source": [
    "# тренировка нейронной сети\n",
    "def train_nn(X, y, num_iters):\n",
    "    global weights\n",
    "    for n_iter in range(num_iters):\n",
    "        # проход данных через нейрон\n",
    "        output = run_nn(X)\n",
    "\n",
    "        # вычисление ошибки через обратное распространение back-propagation\n",
    "        error = output - y\n",
    "        \n",
    "        # выполнение корректировки весов\n",
    "        grad = np.dot(X.T, error * sigmoid_deriv(output))\n",
    "\n",
    "        weights -= 0.01 * grad\n",
    "        \n",
    "        \n",
    "        error = np.mean(np.abs(error))\n",
    "        errors.append(error)\n",
    "        \n",
    "        # получение метрики качества\n",
    "        preds = np.argmax(output, axis=1)\n",
    "        labels = np.argmax(y, axis=1)\n",
    "        accuracy = (preds == labels).sum() * 100 / len(labels)\n",
    "        metrics.append(accuracy)\n",
    "\n",
    "# пропускание входных данных через нейрон и получение предсказания\n",
    "# конвертация значений во floats\n",
    "def run_nn(inputs):\n",
    "    global weights\n",
    "    inputs = inputs.astype(float)\n",
    "    output = sigmoid(np.dot(inputs, weights))\n",
    "    return output"
   ]
  },
  {
   "cell_type": "code",
   "execution_count": 118,
   "metadata": {
    "id": "ZTz8-KLDxpTM"
   },
   "outputs": [],
   "source": [
    "# генерации случайных чисел для инициализации весов\n",
    "np.random.seed(1)\n",
    "weights = np.random.random((X_train.shape[1], 10))\n",
    "errors = []\n",
    "metrics = []"
   ]
  },
  {
   "cell_type": "code",
   "execution_count": 119,
   "metadata": {
    "colab": {
     "base_uri": "https://localhost:8080/"
    },
    "executionInfo": {
     "elapsed": 6,
     "status": "ok",
     "timestamp": 1665401755588,
     "user": {
      "displayName": "Julia Ponomareva",
      "userId": "14904333240138417226"
     },
     "user_tz": -300
    },
    "id": "EzvSfZzzN_yM",
    "outputId": "7dda48f1-7b7a-45e0-8f03-e89cf15e0c6c"
   },
   "outputs": [
    {
     "data": {
      "text/plain": [
       "640"
      ]
     },
     "execution_count": 119,
     "metadata": {},
     "output_type": "execute_result"
    }
   ],
   "source": [
    "weights.size"
   ]
  },
  {
   "cell_type": "markdown",
   "metadata": {
    "id": "BtO0umdhxpTM"
   },
   "source": [
    "Пример нашей нейронной сети\n",
    "\n",
    "\n",
    "<img src=\"https://drive.google.com/uc?id=1WVFYOM5vIl8ooYzyB5kFhBrRLc4su7_K\" width=200px />"
   ]
  },
  {
   "cell_type": "code",
   "execution_count": 132,
   "metadata": {
    "id": "elDc_085xpTM"
   },
   "outputs": [],
   "source": [
    "# запуск тренировки нейронной сети \n",
    "epochs = 100\n",
    "train_nn(X_train, y_train, epochs)"
   ]
  },
  {
   "cell_type": "code",
   "execution_count": 133,
   "metadata": {
    "colab": {
     "base_uri": "https://localhost:8080/",
     "height": 138
    },
    "executionInfo": {
     "elapsed": 12,
     "status": "ok",
     "timestamp": 1665401761533,
     "user": {
      "displayName": "Julia Ponomareva",
      "userId": "14904333240138417226"
     },
     "user_tz": -300
    },
    "id": "EG4m6LJVxpTN",
    "outputId": "92c4a812-f091-4223-8409-8dc9f6a58633"
   },
   "outputs": [
    {
     "name": "stdout",
     "output_type": "stream",
     "text": [
      "Предсказание нейронной сети: \n",
      "8\n"
     ]
    },
    {
     "data": {
      "image/png": "[encoded data removed]",
      "text/plain": [
       "<Figure size 100x100 with 1 Axes>"
      ]
     },
     "metadata": {},
     "output_type": "display_data"
    }
   ],
   "source": [
    "ind = np.random.randint(0, X_test.shape[0])\n",
    "test_img = X_test[ind]\n",
    "plt.figure(figsize=(1, 1))\n",
    "plt.imshow(test_img.reshape([8,8]))\n",
    "\n",
    "print(\"Предсказание нейронной сети: \")\n",
    "print(np.argmax(run_nn(X_test[ind])))"
   ]
  },
  {
   "cell_type": "code",
   "execution_count": 134,
   "metadata": {
    "colab": {
     "base_uri": "https://localhost:8080/"
    },
    "executionInfo": {
     "elapsed": 8,
     "status": "ok",
     "timestamp": 1665401762043,
     "user": {
      "displayName": "Julia Ponomareva",
      "userId": "14904333240138417226"
     },
     "user_tz": -300
    },
    "id": "o6fckJQrJHGF",
    "outputId": "0ffe5659-190f-4444-e05a-4116a382b739"
   },
   "outputs": [
    {
     "data": {
      "text/plain": [
       "array([4.64635356e-04, 1.60663218e-03, 1.01746150e-02, 5.63889683e-02,\n",
       "       3.10062063e-03, 3.66061910e-02, 1.67906417e-04, 5.04692728e-01,\n",
       "       5.49846833e-01, 2.85061611e-02])"
      ]
     },
     "execution_count": 134,
     "metadata": {},
     "output_type": "execute_result"
    }
   ],
   "source": [
    "run_nn(X_test[ind])"
   ]
  },
  {
   "cell_type": "code",
   "execution_count": 135,
   "metadata": {
    "colab": {
     "base_uri": "https://localhost:8080/",
     "height": 334
    },
    "executionInfo": {
     "elapsed": 8,
     "status": "ok",
     "timestamp": 1665401762574,
     "user": {
      "displayName": "Julia Ponomareva",
      "userId": "14904333240138417226"
     },
     "user_tz": -300
    },
    "id": "9F8GM5tPxpTN",
    "outputId": "b572e4e9-08f0-44ae-fecb-38414a2c97a3"
   },
   "outputs": [
    {
     "data": {
      "image/png": "[encoded data removed]",
      "text/plain": [
       "<Figure size 1600x500 with 1 Axes>"
      ]
     },
     "metadata": {},
     "output_type": "display_data"
    }
   ],
   "source": [
    "plt.figure(figsize=(16, 5))\n",
    "plt.plot(errors)\n",
    "plt.xlabel('Количество итераций')\n",
    "plt.ylabel('Ошибка')\n",
    "plt.show()"
   ]
  },
  {
   "cell_type": "code",
   "execution_count": 136,
   "metadata": {
    "colab": {
     "base_uri": "https://localhost:8080/",
     "height": 334
    },
    "executionInfo": {
     "elapsed": 13,
     "status": "ok",
     "timestamp": 1665401764097,
     "user": {
      "displayName": "Julia Ponomareva",
      "userId": "14904333240138417226"
     },
     "user_tz": -300
    },
    "id": "cqpQ4QiuxpTO",
    "outputId": "7700c739-3a96-4644-8c41-b41abff2aad5"
   },
   "outputs": [
    {
     "data": {
      "image/png": "[encoded data removed]",
      "text/plain": [
       "<Figure size 1600x500 with 1 Axes>"
      ]
     },
     "metadata": {},
     "output_type": "display_data"
    }
   ],
   "source": [
    "plt.figure(figsize=(16, 5))\n",
    "plt.plot(metrics)\n",
    "plt.xlabel('Количество итераций')\n",
    "plt.ylabel('Accuracy')\n",
    "plt.show()"
   ]
  },
  {
   "cell_type": "code",
   "execution_count": 137,
   "metadata": {
    "colab": {
     "base_uri": "https://localhost:8080/"
    },
    "executionInfo": {
     "elapsed": 12,
     "status": "ok",
     "timestamp": 1665401764098,
     "user": {
      "displayName": "Julia Ponomareva",
      "userId": "14904333240138417226"
     },
     "user_tz": -300
    },
    "id": "Fqz-vAKmxpTO",
    "outputId": "b222da38-cac8-44ad-b93e-2750d7317f41"
   },
   "outputs": [
    {
     "name": "stdout",
     "output_type": "stream",
     "text": [
      "Accuracy на тесте 94.44%\n"
     ]
    }
   ],
   "source": [
    "test_preds = np.argmax(run_nn(X_test), axis=1)\n",
    "test_labels = np.argmax(y_test, axis=1)\n",
    "\n",
    "test_accuracy = (test_preds == test_labels).sum() * 100 / len(test_labels)\n",
    "print(f'Accuracy на тесте {test_accuracy:.2f}%')"
   ]
  },
  {
   "cell_type": "markdown",
   "metadata": {
    "id": "4j0g47JcxpTO"
   },
   "source": [
    "## Пример построения  двухслойной нейронной сети на numpy <a class='anchor' id='example2'>"
   ]
  },
  {
   "cell_type": "code",
   "execution_count": 139,
   "metadata": {
    "id": "0eNNvaYgxpTP"
   },
   "outputs": [],
   "source": [
    "import numpy as np\n",
    "import pandas as pd\n",
    "import seaborn as sns\n",
    "import matplotlib.pyplot as plt\n",
    "\n",
    "import warnings\n",
    "warnings.filterwarnings('ignore')\n",
    "\n",
    "from sklearn.model_selection import train_test_split"
   ]
  },
  {
   "cell_type": "code",
   "execution_count": 157,
   "metadata": {
    "id": "RIeYUSovxpTP"
   },
   "outputs": [],
   "source": [
    "# Обучение нейронной сети\n",
    "\n",
    "# определим число нейронов скрытого слоя\n",
    "neuron_numb = 20\n",
    "\n",
    "# присваивание случайных весов\n",
    "np.random.seed(1)\n",
    "w0 = np.random.random((64, neuron_numb))  # для входного слоя    - 64 входа, neuron_numb выходов\n",
    "w1 = np.random.random((neuron_numb, 10))  # для внутреннего слоя - neuron_numb входов, 10 выходов\n",
    "\n",
    "# скорость обучения (learning rate)\n",
    "learning_rate = 0.1\n",
    "\n",
    "# количество итераций\n",
    "num_epochs = 100\n",
    "\n",
    "# массив для ошибок, чтобы потом построить график\n",
    "errors = []\n",
    "metrics = []\n",
    "\n",
    "# процесс обучения\n",
    "for i in range(num_epochs):\n",
    "\n",
    "    # прямое распространение(feed forward)\n",
    "    layer0 = X_train\n",
    "    layer1 = sigmoid(np.dot(layer0, w0))\n",
    "    layer2 = sigmoid(np.dot(layer1, w1))\n",
    "\n",
    "    # обратное распространение (back propagation)\n",
    "    # с использованием градиентного спуска\n",
    "    layer2_error = layer2 - y_train  # производная функции потерь\n",
    "    layer2_grad = layer2_error * sigmoid_deriv(layer2)\n",
    "    \n",
    "    layer1_error = layer2_grad.dot(w1.T)\n",
    "    # sigmoid_deriv - Для классификации\n",
    "    # relu_deriv - Для регрессии\n",
    "    layer1_grad = layer1_error * sigmoid_deriv(layer1)\n",
    "    \n",
    "    w1 -= layer1.T.dot(layer2_grad) * learning_rate\n",
    "    w0 -= layer0.T.dot(layer1_grad) * learning_rate\n",
    "    \n",
    "    # ошибка модели\n",
    "    error = np.mean(np.abs(layer2_error))\n",
    "    errors.append(error)\n",
    "    \n",
    "    # метрики качества\n",
    "    preds = np.argmax(layer2, axis=1)\n",
    "    labels = np.argmax(y_train, axis=1)\n",
    "    accuracy = (preds == labels).sum() * 100 / len(labels)\n",
    "    metrics.append(accuracy)"
   ]
  },
  {
   "cell_type": "code",
   "execution_count": 158,
   "metadata": {
    "colab": {
     "base_uri": "https://localhost:8080/",
     "height": 651
    },
    "executionInfo": {
     "elapsed": 1190,
     "status": "ok",
     "timestamp": 1665401769248,
     "user": {
      "displayName": "Julia Ponomareva",
      "userId": "14904333240138417226"
     },
     "user_tz": -300
    },
    "id": "-RGS2X4FxpTQ",
    "outputId": "110a896c-2d84-44c0-8df5-b10ac0e0a9df"
   },
   "outputs": [
    {
     "data": {
      "image/png": "[encoded data removed]",
      "text/plain": [
       "<Figure size 1600x500 with 1 Axes>"
      ]
     },
     "metadata": {},
     "output_type": "display_data"
    },
    {
     "data": {
      "image/png": "[encoded data removed]",
      "text/plain": [
       "<Figure size 1600x500 with 1 Axes>"
      ]
     },
     "metadata": {},
     "output_type": "display_data"
    }
   ],
   "source": [
    "# Демонстрация полученных результатов\n",
    "# Диаграмма точности в зависимости от обучения\n",
    "plt.figure(figsize=(16, 5))\n",
    "plt.plot(errors)\n",
    "plt.xlabel('Обучение')\n",
    "plt.ylabel('Ошибка')\n",
    "plt.show()\n",
    "\n",
    "plt.figure(figsize=(16, 5))\n",
    "plt.plot(metrics)\n",
    "plt.xlabel('Количество итераций')\n",
    "plt.ylabel('Accuracy')\n",
    "plt.show()"
   ]
  },
  {
   "cell_type": "code",
   "execution_count": 159,
   "metadata": {
    "colab": {
     "base_uri": "https://localhost:8080/"
    },
    "executionInfo": {
     "elapsed": 4,
     "status": "ok",
     "timestamp": 1665401770115,
     "user": {
      "displayName": "Julia Ponomareva",
      "userId": "14904333240138417226"
     },
     "user_tz": -300
    },
    "id": "fQ0KZZepPxh2",
    "outputId": "c1de1740-323e-416f-e4a3-2d073cb3b648"
   },
   "outputs": [
    {
     "data": {
      "text/plain": [
       "array([[0., 0., 1., 0., 0., 0., 0., 0., 0., 0.],\n",
       "       [0., 0., 0., 1., 0., 0., 0., 0., 0., 0.],\n",
       "       [0., 0., 0., 0., 1., 0., 0., 0., 0., 0.],\n",
       "       [0., 0., 1., 0., 0., 0., 0., 0., 0., 0.],\n",
       "       [0., 0., 0., 0., 1., 0., 0., 0., 0., 0.],\n",
       "       [0., 0., 0., 1., 0., 0., 0., 0., 0., 0.],\n",
       "       [0., 0., 0., 0., 1., 0., 0., 0., 0., 0.],\n",
       "       [1., 0., 0., 0., 0., 0., 0., 0., 0., 0.],\n",
       "       [0., 1., 0., 0., 0., 0., 0., 0., 0., 0.],\n",
       "       [0., 0., 0., 0., 0., 0., 0., 0., 0., 1.]])"
      ]
     },
     "execution_count": 159,
     "metadata": {},
     "output_type": "execute_result"
    }
   ],
   "source": [
    "y_train[:10]"
   ]
  },
  {
   "cell_type": "code",
   "execution_count": 160,
   "metadata": {
    "colab": {
     "base_uri": "https://localhost:8080/",
     "height": 351
    },
    "executionInfo": {
     "elapsed": 13,
     "status": "ok",
     "timestamp": 1665401770764,
     "user": {
      "displayName": "Julia Ponomareva",
      "userId": "14904333240138417226"
     },
     "user_tz": -300
    },
    "id": "buD3QL6dLhg8",
    "outputId": "d5c6a3fd-ff14-454b-e5f6-cbf8dd8d606f"
   },
   "outputs": [
    {
     "data": {
      "image/png": "[encoded data removed]",
      "text/plain": [
       "<Figure size 1600x500 with 1 Axes>"
      ]
     },
     "metadata": {},
     "output_type": "display_data"
    },
    {
     "name": "stdout",
     "output_type": "stream",
     "text": [
      "accuracy на обучении 76.64%\n"
     ]
    }
   ],
   "source": [
    "N = 10\n",
    "label = 2\n",
    "plt.figure(figsize=(16, 5))\n",
    "plt.plot(layer2[:N, label], 'r', label='y pred')\n",
    "plt.plot(y_train[:N, label],'g', label='y train')\n",
    "plt.xticks(np.arange(N))\n",
    "plt.xlabel('№ примера')\n",
    "plt.ylabel('выход сети и целевой')\n",
    "plt.legend()\n",
    "plt.show()\n",
    "        \n",
    "print(f\"accuracy на обучении {accuracy:.2f}%\")"
   ]
  },
  {
   "cell_type": "code",
   "execution_count": 161,
   "metadata": {
    "colab": {
     "base_uri": "https://localhost:8080/",
     "height": 351
    },
    "executionInfo": {
     "elapsed": 1173,
     "status": "ok",
     "timestamp": 1665401772494,
     "user": {
      "displayName": "Julia Ponomareva",
      "userId": "14904333240138417226"
     },
     "user_tz": -300
    },
    "id": "lRmoi3hzxpTQ",
    "outputId": "2badb7af-7d16-4e31-e509-d5a5954e71b9"
   },
   "outputs": [
    {
     "data": {
      "image/png": "[encoded data removed]",
      "text/plain": [
       "<Figure size 1600x500 with 1 Axes>"
      ]
     },
     "metadata": {},
     "output_type": "display_data"
    },
    {
     "name": "stdout",
     "output_type": "stream",
     "text": [
      "accuracy на тесте 73.74%\n"
     ]
    }
   ],
   "source": [
    "# прямое распространение(feed forward)\n",
    "layer0_test = X_test\n",
    "layer1_test = sigmoid(np.dot(layer0_test, w0))\n",
    "layer2_test = sigmoid(np.dot(layer1_test, w1))\n",
    "    \n",
    "    \n",
    "N = 20\n",
    "plt.figure(figsize=(16, 5))\n",
    "plt.plot(layer2_test[:N, 1], 'r', label='y pred')\n",
    "plt.plot(y_test[:N, 1], 'g', label='y test')\n",
    "plt.xticks(np.arange(N))\n",
    "plt.xlabel('№ примера')\n",
    "plt.ylabel('выход сети и целевой')\n",
    "plt.legend()\n",
    "plt.show()\n",
    "\n",
    "# метрика модели\n",
    "preds_test = np.argmax(layer2_test, axis=1)\n",
    "labels_test = np.argmax(y_test, axis=1)\n",
    "accuracy_test = (preds_test == labels_test).sum() * 100 / len(labels_test)\n",
    "\n",
    "print(f\"accuracy на тесте {accuracy_test:.2f}%\")"
   ]
  },
  {
   "cell_type": "markdown",
   "metadata": {
    "id": "-s2i6Hz1xpTR"
   },
   "source": [
    "В этом уроке мы с вами рассматривали, как сделать простые нейронные сети без использования специальных фреймворков и библиотек для этого. В следующих уроках мы с вами познакомимся, как делать нейронные сети с помощью Keras и TensorFlow."
   ]
  },
  {
   "cell_type": "markdown",
   "metadata": {
    "id": "5S8aG2KqxpTR"
   },
   "source": [
    "## Домашнее задание <a class='anchor' id='hw'>\n",
    "\n",
    "1. Попробуйте видоизменить параметры разобранной на уроке двухслойной нейронной сети таким образом, чтобы улучшить ее точность.\n",
    "2. Проведите анализ — что приводит к ухудшению точности нейронной сети?\n",
    "3. Что приводит к увеличению ее точности?"
   ]
  },
  {
   "cell_type": "markdown",
   "metadata": {
    "id": "TWX2iLhFxpTS"
   },
   "source": [
    "## Дополнительные материалы\n",
    "\n",
    "1. [Machine Learning News and Articles](https://medium.com/topic/machine-learning)\n",
    "2. [Neural Net from scratch](https://towardsai.net/p/machine-learning/nothing-but-numpy-understanding-creating-neural-networks-with-computational-graphs-from-scratch-6299901091b0)\n",
    "3. [Let’s code a Neural Network in plain NumPy](https://towardsdatascience.com/lets-code-a-neural-network-in-plain-numpy-ae7e74410795)\n",
    "4. [Градиентный спуск на Keras](https://youtu.be/cGKYKla_xSk)\n",
    "5. [Метод обратного распространения ошибки](https://youtu.be/EuhoXsuu8SQ)"
   ]
  },
  {
   "cell_type": "markdown",
   "metadata": {
    "id": "IADnOuFBxpTS"
   },
   "source": [
    "## Используемая литература \n",
    "\n",
    "Для подготовки данного методического пособия были использованы следующие ресурсы:\n",
    "<ol>\n",
    "    <li>Глубокое обучение — Николенко С. И., Кадурин 2018</li>\n",
    "    <li>Шакла Н. — Машинное обучение и TensorFlow 2019</li>\n",
    "    <li>Asifullah Khan, Anabia Sohail, Umme Zahoora, Aqsa Saeed Qureshi - A Survey of the Recent Architectures of Deep Convolutional Neural Networks 2019</li>\n",
    "    <li>A direct adaptive method for faster backpropagation learning: the RPROP algorithm - Neural Networks, 1993</li>\n",
    "    <li>Википедия</li>\n",
    "    \n",
    "</ol>"
   ]
  },
  {
   "cell_type": "markdown",
   "metadata": {
    "id": "cVpwCI_WLhg-"
   },
   "source": [
    "## Определения <a class='anchor' id='def'>\n",
    "\n",
    "*Общее*\n",
    "\n",
    "**Узкий (слабый) искусственный интеллект** — это ИИ, который запрограммирован на выполнение одной задачи — будь то мониторинг погоды, игра в шахматы или анализ данных для написания журналистских репортажей.\n",
    "\n",
    "**Общий (сильный) искусственный интеллект** — этот ИИ схож с человеческим интеллектом, иными словами, он может успешно выполнять любые умственные задачи, которые под силу людям.\n",
    "\n",
    "**Компьютерное зрение (Computer Vision, CV)** — это область искусственного интеллекта, связанная с анализом изображений и видео.\n",
    "\n",
    "**Обработка естественного языка (Natural Language Processing, NLP)** — это область искусственного интеллекта, связанная с использованием компьютеров для анализа естественных языков, к которой относятся такие дисциплины, как распознавание и обработка речи, выделение смысловых отношений, категоризация документов, а также аннотирование текста.\n",
    "\n",
    "___________\n",
    "\n",
    "*Обучение нейронной сети*\n",
    "\n",
    "**Искусственный нейрон** — узел искусственной нейронной сети, являющийся упрощённой моделью естественного нейрона.\n",
    "\n",
    "**Искусственнная нейронная сеть (ИНС)** — это программная реализация математической модели биологической нейронной сети.\n",
    "\n",
    "**Метод обратного распространения ошибки** — метод вычисления градиента, который используется при обновлении весов нейронной сети.\n",
    "\n",
    "**Градиентный спуск** — метод нахождения локального экстремума функции (минимума или максимума) с помощью движения вдоль градиента.\n",
    "\n",
    "**Функция активации нейрона** — функция, определяющая выходной сигнал, который определяется входным сигналом или набором входных сигналов. "
   ]
  }
 ],
 "metadata": {
  "colab": {
   "collapsed_sections": [
    "IADnOuFBxpTS"
   ],
   "provenance": [],
   "toc_visible": true
  },
  "kernelspec": {
   "display_name": "Python 3 (ipykernel)",
   "language": "python",
   "name": "python3"
  },
  "language_info": {
   "codemirror_mode": {
    "name": "ipython",
    "version": 3
   },
   "file_extension": ".py",
   "mimetype": "text/x-python",
   "name": "python",
   "nbconvert_exporter": "python",
   "pygments_lexer": "ipython3",
   "version": "3.9.18"
  }
 },
 "nbformat": 4,
 "nbformat_minor": 4
}
