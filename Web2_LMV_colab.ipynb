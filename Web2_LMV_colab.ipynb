{
 "cells": [
  {
   "cell_type": "markdown",
   "metadata": {
    "id": "XvhEhpGm9U8z"
   },
   "source": [
    "# Введение в искусственные нейронные сети\n",
    "# Урок 2. Keras"
   ]
  },
  {
   "cell_type": "markdown",
   "metadata": {
    "id": "LmKjkEH-9U84"
   },
   "source": [
    "## Содержание методического пособия:\n",
    "\n",
    "\n",
    "<ol>\n",
    "<li>Способы создания нейросетей</li>\n",
    "<li>Что такое Keras</li>\n",
    "<li>Основы синтаксиса</li>\n",
    "<li>Простая нейросеть на Keras</li>\n",
    "<li>Оптимизаторы</li>\n",
    "<li>Callback'и</li>\n",
    "</ol>"
   ]
  },
  {
   "cell_type": "markdown",
   "metadata": {
    "id": "9gV6aaON9U86"
   },
   "source": [
    "## Способы создания нейросетей\n",
    "\n",
    "Нейросети это математические модели. Программируя на любом языке можно решать задачи, связанные с математикой. Однако встает вопрос, какой язык подойдет для этого больше? Не считая учебных нейросетей, нейросети как правило работают с большим количеством данных. Поэтому, чтобы обучение нейросетей происходило с приемлимой скоростью нужно использовать быстрый язык. Например Си. Но так как язык Си - это язык с низким уровнем абстракции, то программировать и модифицировать на нем нейросети было бы крайне затруднительно. \n",
    "\n",
    "Хорошо может подойти для этих целей язык Python. Так как он с одной стороны имеет высокий уровень абстракции, с другой стороны операции с массивами данных могут сделать его библиотеки, написанные на Си. Таким способом мы пользовались на первом уроке. Однако, если писать нейросети таким образом, то будет много повторяющегося кода, поскольку архитектуры нейросетей остаются одинаковыми и, зачастую, у них только меняются параметры. Кроме этого нам может понадобиться хорошо знать архитектуры самых разных нейронных сетей, чтобы реализовать их вручную. Работа таким образом затруднительна для людей, не имеющих достаточной подготовки, а для имеющих может быть наоборот рутиной.\n",
    "\n",
    "Существуют фреймворки для созданий нейронных сетей. Они являются, пожалуй основным рабочим способом создания нейронных сетей. Вот их неполный перечень:\n",
    "\n",
    "1. TensorFlow\n",
    "2. PyTorch\n",
    "3. Keras\n",
    "4. Microsoft Cognitive Toolkit (CNTK)\n",
    "5. Caffe\n",
    "\n",
    "<img src='https://drive.google.com/uc?export=view&id=1Udb8e5TQCRgaaiSje8sCks8M2Rw-UcpV'>"
   ]
  },
  {
   "cell_type": "markdown",
   "metadata": {
    "id": "lJzIJYo-JXOW"
   },
   "source": [
    "Все эти инструменты отранжированы в порядке возрастания уровня абстракции. Соответственно, говоря о плюсах и минусах того или иного инструмента, мы должны понимать, в принципе плюсы и минусы повышения уровня абстракции. Чем он выше, тем меньше производительность, и тем меньше его гибкость и, наоборот.\n",
    "\n",
    "Самый популярный фреймворк для создания нейросетей TensorFlow. Самый популярный для обучения - Keras. На этом уроке мы изучим с вами Keras, а на следующим TensorFlow. Также стоит отметить, что эти фреймворки взаимосвязаны - Keras как правило работает поверх TensorFlow, а сам TensorFlow позволяет пользовать средствами Keras при необходимости."
   ]
  },
  {
   "cell_type": "markdown",
   "metadata": {
    "id": "b1uUklH29U88"
   },
   "source": [
    "## Что такое Keras\n",
    "\n",
    "Keras появился относительно недавно - в 2015 г. Но за это время стал одним из самых популярных фреймворков для создания нейросетей и фактически стандартом для использования его начинающими.\n",
    "\n",
    "В чем причина его популярности? Keras позволяет создавать на высоком уровне абстракции. Т.е. не нужно вручную реализовать с помощью математикаподобного кода те или иные элементы нейронной сети. Мы можем оперировать слоями, количеством нейронов в них, выбором функции активации и т.д. В то же время keras содержит инструментарий для всего того, что может понадобиться для работы - например ряд встроенных датасетов, возможность обрабатывать изображения.\n",
    "\n",
    "В техническом плане Keras это оболочка над инструментами меньшей степени абстракции. На выбор он может работать поверх TensorFlow, Microsoft Cognitive Toolkit, Theano.\n",
    "\n",
    "Keras как и любой высокоабстрактный инструмент имеет изъяны в качестве меньшей гибкости и производительности, чем тот же tensorflow.\n",
    "\n",
    "Стоит также отметить, что Google официально поддерживает Keras, его автор François Chollet, является сотрудником Google. TensorFlow сам в свою очередь позволяет использовать возможности Keras, т.е. в нем заложена возможность переходить на более высокой уровень абстракции.\n",
    "\n",
    "В данном уроке мы с вами рассмотрим пример обучения нейронной сети с помощью Keras. Но прежде давайте посмотрим на основы синтаксиса Keras и стандартные задачи, которые нужно выполнить при обучении нейронной сети."
   ]
  },
  {
   "cell_type": "markdown",
   "metadata": {
    "id": "iRJ_I6hu9U8-"
   },
   "source": [
    "## Основы синтаксиса"
   ]
  },
  {
   "cell_type": "markdown",
   "metadata": {
    "id": "Sars-tTz9U9A"
   },
   "source": [
    "**Установка и работа с данными**"
   ]
  },
  {
   "cell_type": "markdown",
   "metadata": {
    "id": "8w3sHXOV9U9B"
   },
   "source": [
    "Для начала необходимо установить keras."
   ]
  },
  {
   "cell_type": "code",
   "execution_count": 18,
   "metadata": {
    "id": "05hfRCv09U9D"
   },
   "outputs": [],
   "source": [
    "# !pip install keras"
   ]
  },
  {
   "cell_type": "code",
   "execution_count": 19,
   "metadata": {
    "colab": {
     "base_uri": "https://localhost:8080/",
     "height": 36
    },
    "id": "zR9dvBWLJdfa",
    "outputId": "28e3cfec-6d3c-443c-b451-e4d72266670f"
   },
   "outputs": [
    {
     "data": {
      "application/vnd.google.colaboratory.intrinsic+json": {
       "type": "string"
      },
      "text/plain": [
       "'2.11.0'"
      ]
     },
     "execution_count": 19,
     "metadata": {},
     "output_type": "execute_result"
    }
   ],
   "source": [
    "import keras\n",
    "keras.__version__"
   ]
  },
  {
   "cell_type": "code",
   "execution_count": 20,
   "metadata": {
    "colab": {
     "base_uri": "https://localhost:8080/",
     "height": 36
    },
    "id": "3fwDFMMPJDFE",
    "outputId": "560789fc-5e85-4da5-ac07-9672dca9ff9b"
   },
   "outputs": [
    {
     "data": {
      "application/vnd.google.colaboratory.intrinsic+json": {
       "type": "string"
      },
      "text/plain": [
       "'tensorflow'"
      ]
     },
     "execution_count": 20,
     "metadata": {},
     "output_type": "execute_result"
    }
   ],
   "source": [
    "keras.backend.backend()"
   ]
  },
  {
   "cell_type": "markdown",
   "metadata": {
    "id": "EAwWzAS29U9F"
   },
   "source": [
    "Давайте попробуем получить датасет mnist и проанализировать его содержимое."
   ]
  },
  {
   "cell_type": "code",
   "execution_count": 21,
   "metadata": {
    "colab": {
     "base_uri": "https://localhost:8080/"
    },
    "id": "p6MGnz8EJoaW",
    "outputId": "00c7bad7-32a5-4316-e301-529019b17904"
   },
   "outputs": [
    {
     "name": "stdout",
     "output_type": "stream",
     "text": [
      "(60000, 28, 28) (10000, 28, 28)\n",
      "(60000,)\n"
     ]
    }
   ],
   "source": [
    "import matplotlib.pyplot as plt\n",
    "\n",
    "from keras.datasets import mnist\n",
    "import numpy as np\n",
    "\n",
    "\n",
    "(X_train, y_train_labels), (X_test, y_test_labels) = mnist.load_data()\n",
    "\n",
    "print(X_train.shape, X_test.shape)\n",
    "print(y_train_labels.shape)"
   ]
  },
  {
   "cell_type": "code",
   "execution_count": 22,
   "metadata": {
    "colab": {
     "base_uri": "https://localhost:8080/",
     "height": 283
    },
    "id": "lMcBd9o8LmLH",
    "outputId": "9cf7f73b-9cc3-4190-9463-748231fc892a"
   },
   "outputs": [
    {
     "name": "stdout",
     "output_type": "stream",
     "text": [
      "Label is 7\n"
     ]
    },
    {
     "data": {
      "image/png": "[encoded data removed]",
      "text/plain": [
       "<Figure size 432x288 with 1 Axes>"
      ]
     },
     "metadata": {
      "needs_background": "light"
     },
     "output_type": "display_data"
    }
   ],
   "source": [
    "ind = np.random.randint(0, X_train.shape[0])\n",
    "plt.imshow(X_train[ind], cmap='gray')\n",
    "print(f'Label is {y_train_labels[ind]}')"
   ]
  },
  {
   "cell_type": "code",
   "execution_count": 23,
   "metadata": {
    "colab": {
     "base_uri": "https://localhost:8080/"
    },
    "id": "h2H8m2CfJabA",
    "outputId": "28d6a4dc-b055-4fe9-ee62-564e1ebe6472"
   },
   "outputs": [
    {
     "data": {
      "text/plain": [
       "784"
      ]
     },
     "execution_count": 23,
     "metadata": {},
     "output_type": "execute_result"
    }
   ],
   "source": [
    "28 * 28"
   ]
  },
  {
   "cell_type": "markdown",
   "metadata": {
    "id": "DZiKILQd9U9L"
   },
   "source": [
    "В нашем случае наш тренировочный датасет состоит из 60 000 изображений и тестовый из 10 000 и они поделены по умолчанию.\n",
    "\n",
    "Нам теперь нужно конверитировать значения пикселей из вида от 0 до 255 в набор значений от 0 до 1.\n",
    "\n",
    "<img src='https://slideplayer.com/slide/13293044/79/images/9/Data+Normalization+Normalizing+the+data+make+neural+network+easier+to+learn..jpg'>\n",
    "\n"
   ]
  },
  {
   "cell_type": "code",
   "execution_count": 24,
   "metadata": {
    "colab": {
     "base_uri": "https://localhost:8080/"
    },
    "id": "WBuaTmSTKW-V",
    "outputId": "177b2405-e95a-46f3-dbe5-9abd40b100bb"
   },
   "outputs": [
    {
     "data": {
      "text/plain": [
       "(0, 255)"
      ]
     },
     "execution_count": 24,
     "metadata": {},
     "output_type": "execute_result"
    }
   ],
   "source": [
    "X_train.min(), X_train.max()"
   ]
  },
  {
   "cell_type": "code",
   "execution_count": 25,
   "metadata": {
    "colab": {
     "base_uri": "https://localhost:8080/"
    },
    "id": "HJfrPVyqQt-U",
    "outputId": "1102368b-69db-4544-b238-4751de2fc59f"
   },
   "outputs": [
    {
     "name": "stdout",
     "output_type": "stream",
     "text": [
      "0.0 1.0\n",
      "-1.0 1.0\n"
     ]
    }
   ],
   "source": [
    "# Нормировка\n",
    "print((X_train / 255.0).min(), (X_train / 255.0).max())\n",
    "print((X_train / 127.5 - 1).min(), (X_train / 127.5 - 1).max())"
   ]
  },
  {
   "cell_type": "code",
   "execution_count": 26,
   "metadata": {
    "colab": {
     "base_uri": "https://localhost:8080/"
    },
    "id": "M6s8m-_8MEwx",
    "outputId": "c170b364-958d-4932-a090-9715ae86c5f4"
   },
   "outputs": [
    {
     "data": {
      "text/plain": [
       "(0.0, 1.0)"
      ]
     },
     "execution_count": 26,
     "metadata": {},
     "output_type": "execute_result"
    }
   ],
   "source": [
    "# Нормировка\n",
    "X_train = X_train / 255.0\n",
    "X_test = X_test / 255.0\n",
    "X_train.min(), X_train.max()"
   ]
  },
  {
   "cell_type": "code",
   "execution_count": 27,
   "metadata": {
    "colab": {
     "base_uri": "https://localhost:8080/"
    },
    "id": "L4loJteUNIAp",
    "outputId": "4e89017f-bbe8-4afb-de85-1decb83a21f4"
   },
   "outputs": [
    {
     "data": {
      "text/plain": [
       "((60000, 784), (10000, 784))"
      ]
     },
     "execution_count": 27,
     "metadata": {},
     "output_type": "execute_result"
    }
   ],
   "source": [
    "# Вытягивание признаков\n",
    "X_train = X_train.reshape((-1, 28 * 28))\n",
    "X_test = X_test.reshape((-1, 28 * 28))\n",
    "\n",
    "X_train.shape, X_test.shape"
   ]
  },
  {
   "cell_type": "code",
   "execution_count": 28,
   "metadata": {
    "colab": {
     "base_uri": "https://localhost:8080/"
    },
    "id": "8zjWkJsDbIR9",
    "outputId": "42791f3e-830b-4d30-9fa6-cd82e97f5eff"
   },
   "outputs": [
    {
     "data": {
      "text/plain": [
       "array([[0., 0., 0., ..., 0., 0., 0.],\n",
       "       [0., 0., 0., ..., 0., 0., 0.],\n",
       "       [0., 0., 0., ..., 0., 0., 0.],\n",
       "       ...,\n",
       "       [0., 0., 0., ..., 0., 0., 0.],\n",
       "       [0., 0., 0., ..., 0., 0., 0.],\n",
       "       [0., 0., 0., ..., 0., 0., 0.]])"
      ]
     },
     "execution_count": 28,
     "metadata": {},
     "output_type": "execute_result"
    }
   ],
   "source": [
    "X_train"
   ]
  },
  {
   "cell_type": "code",
   "execution_count": 29,
   "metadata": {
    "colab": {
     "base_uri": "https://localhost:8080/"
    },
    "id": "xrOdi4uKQt-V",
    "outputId": "fe464a65-567c-4d5a-93a0-41caa7282537"
   },
   "outputs": [
    {
     "data": {
      "text/plain": [
       "784"
      ]
     },
     "execution_count": 29,
     "metadata": {},
     "output_type": "execute_result"
    }
   ],
   "source": [
    "len(X_train[0])"
   ]
  },
  {
   "cell_type": "code",
   "execution_count": 30,
   "metadata": {
    "colab": {
     "base_uri": "https://localhost:8080/"
    },
    "id": "r-kdQRzYQt-V",
    "outputId": "138cb812-e251-4b32-dbf6-d9a20974679f"
   },
   "outputs": [
    {
     "data": {
      "text/plain": [
       "array([0.01176471, 0.07058824, 0.07058824, 0.07058824, 0.49411765,\n",
       "       0.53333333, 0.68627451, 0.10196078, 0.65098039, 1.        ,\n",
       "       0.96862745, 0.49803922, 0.11764706, 0.14117647, 0.36862745,\n",
       "       0.60392157, 0.66666667, 0.99215686, 0.99215686, 0.99215686,\n",
       "       0.99215686, 0.99215686, 0.88235294, 0.6745098 , 0.99215686,\n",
       "       0.94901961, 0.76470588, 0.25098039, 0.19215686, 0.93333333,\n",
       "       0.99215686, 0.99215686, 0.99215686, 0.99215686, 0.99215686,\n",
       "       0.99215686, 0.99215686, 0.99215686, 0.98431373, 0.36470588,\n",
       "       0.32156863, 0.32156863, 0.21960784, 0.15294118, 0.07058824,\n",
       "       0.85882353, 0.99215686, 0.99215686, 0.99215686, 0.99215686,\n",
       "       0.99215686, 0.77647059, 0.71372549, 0.96862745, 0.94509804,\n",
       "       0.31372549, 0.61176471, 0.41960784, 0.99215686, 0.99215686,\n",
       "       0.80392157, 0.04313725, 0.16862745, 0.60392157, 0.05490196,\n",
       "       0.00392157, 0.60392157, 0.99215686, 0.35294118, 0.54509804,\n",
       "       0.99215686, 0.74509804, 0.00784314, 0.04313725, 0.74509804,\n",
       "       0.99215686, 0.2745098 , 0.1372549 , 0.94509804, 0.88235294,\n",
       "       0.62745098, 0.42352941, 0.00392157, 0.31764706, 0.94117647,\n",
       "       0.99215686, 0.99215686, 0.46666667, 0.09803922, 0.17647059,\n",
       "       0.72941176, 0.99215686, 0.99215686, 0.58823529, 0.10588235,\n",
       "       0.0627451 , 0.36470588, 0.98823529, 0.99215686, 0.73333333,\n",
       "       0.97647059, 0.99215686, 0.97647059, 0.25098039, 0.18039216,\n",
       "       0.50980392, 0.71764706, 0.99215686, 0.99215686, 0.81176471,\n",
       "       0.00784314, 0.15294118, 0.58039216, 0.89803922, 0.99215686,\n",
       "       0.99215686, 0.99215686, 0.98039216, 0.71372549, 0.09411765,\n",
       "       0.44705882, 0.86666667, 0.99215686, 0.99215686, 0.99215686,\n",
       "       0.99215686, 0.78823529, 0.30588235, 0.09019608, 0.25882353,\n",
       "       0.83529412, 0.99215686, 0.99215686, 0.99215686, 0.99215686,\n",
       "       0.77647059, 0.31764706, 0.00784314, 0.07058824, 0.67058824,\n",
       "       0.85882353, 0.99215686, 0.99215686, 0.99215686, 0.99215686,\n",
       "       0.76470588, 0.31372549, 0.03529412, 0.21568627, 0.6745098 ,\n",
       "       0.88627451, 0.99215686, 0.99215686, 0.99215686, 0.99215686,\n",
       "       0.95686275, 0.52156863, 0.04313725, 0.53333333, 0.99215686,\n",
       "       0.99215686, 0.99215686, 0.83137255, 0.52941176, 0.51764706,\n",
       "       0.0627451 ])"
      ]
     },
     "execution_count": 30,
     "metadata": {},
     "output_type": "execute_result"
    }
   ],
   "source": [
    "X_train[0][X_train[0] > 0]"
   ]
  },
  {
   "cell_type": "code",
   "execution_count": 31,
   "metadata": {
    "colab": {
     "base_uri": "https://localhost:8080/"
    },
    "id": "QvJAO5-_Qt-V",
    "outputId": "bb945119-b7f4-4b17-e70b-17578652134b"
   },
   "outputs": [
    {
     "data": {
      "text/plain": [
       "array([0, 0, 0, 0, 0, 0, 0, 0, 0, 0, 0, 0, 0, 0, 0, 0, 0, 0, 0, 0, 0, 0,\n",
       "       0, 0, 0, 0, 0, 0, 0, 0, 0, 0, 0, 0, 0, 0, 0, 0, 0, 0, 0, 0, 0, 0,\n",
       "       0, 0, 0, 0, 0, 0, 0, 0, 0, 0, 0, 0, 0, 0, 0, 0, 0, 0, 0, 0, 0, 0,\n",
       "       0, 0, 0, 0, 0, 0, 0, 0, 0, 0, 0, 0, 0, 0, 0, 0, 0, 0, 0, 0, 0, 0,\n",
       "       0, 0, 0, 0, 0, 0, 0, 0, 0, 0, 0, 0, 0, 0, 0, 0, 0, 0, 0, 0, 0, 0,\n",
       "       0, 0, 0, 0, 0, 0, 0, 0, 0, 0, 0, 0, 0, 0, 0, 0, 0, 0, 0, 0, 0, 0,\n",
       "       0, 0, 0, 0, 0, 0, 0, 0, 0, 0, 0, 0, 0, 0, 0, 0, 0, 0, 0, 0, 1, 1,\n",
       "       1, 1, 1, 1, 1, 1, 1, 1, 1, 1, 0, 0, 0, 0, 0, 0, 0, 0, 0, 0, 0, 0,\n",
       "       1, 1, 1, 1, 1, 1, 1, 1, 1, 1, 1, 1, 1, 1, 1, 1, 0, 0, 0, 0, 0, 0,\n",
       "       0, 0, 0, 0, 0, 1, 1, 1, 1, 1, 1, 1, 1, 1, 1, 1, 1, 1, 1, 1, 1, 0,\n",
       "       0, 0, 0, 0, 0, 0, 0, 0, 0, 0, 0, 1, 1, 1, 1, 1, 1, 1, 1, 1, 1, 1,\n",
       "       0, 0, 0, 0, 0, 0, 0, 0, 0, 0, 0, 0, 0, 0, 0, 0, 0, 0, 1, 1, 1, 1,\n",
       "       1, 1, 1, 0, 1, 1, 0, 0, 0, 0, 0, 0, 0, 0, 0, 0, 0, 0, 0, 0, 0, 0,\n",
       "       0, 0, 0, 1, 1, 1, 1, 1, 0, 0, 0, 0, 0, 0, 0, 0, 0, 0, 0, 0, 0, 0,\n",
       "       0, 0, 0, 0, 0, 0, 0, 0, 0, 0, 0, 1, 1, 1, 1, 0, 0, 0, 0, 0, 0, 0,\n",
       "       0, 0, 0, 0, 0, 0, 0, 0, 0, 0, 0, 0, 0, 0, 0, 0, 0, 1, 1, 1, 1, 0,\n",
       "       0, 0, 0, 0, 0, 0, 0, 0, 0, 0, 0, 0, 0, 0, 0, 0, 0, 0, 0, 0, 0, 0,\n",
       "       0, 0, 1, 1, 1, 1, 1, 1, 0, 0, 0, 0, 0, 0, 0, 0, 0, 0, 0, 0, 0, 0,\n",
       "       0, 0, 0, 0, 0, 0, 0, 0, 0, 1, 1, 1, 1, 1, 1, 0, 0, 0, 0, 0, 0, 0,\n",
       "       0, 0, 0, 0, 0, 0, 0, 0, 0, 0, 0, 0, 0, 0, 0, 0, 1, 1, 1, 1, 1, 1,\n",
       "       0, 0, 0, 0, 0, 0, 0, 0, 0, 0, 0, 0, 0, 0, 0, 0, 0, 0, 0, 0, 0, 0,\n",
       "       0, 1, 1, 1, 1, 1, 0, 0, 0, 0, 0, 0, 0, 0, 0, 0, 0, 0, 0, 0, 0, 0,\n",
       "       0, 0, 0, 0, 0, 0, 0, 0, 0, 1, 1, 1, 1, 0, 0, 0, 0, 0, 0, 0, 0, 0,\n",
       "       0, 0, 0, 0, 0, 0, 0, 0, 0, 0, 0, 0, 1, 1, 1, 1, 1, 1, 1, 0, 0, 0,\n",
       "       0, 0, 0, 0, 0, 0, 0, 0, 0, 0, 0, 0, 0, 0, 0, 0, 1, 1, 1, 1, 1, 1,\n",
       "       1, 1, 0, 0, 0, 0, 0, 0, 0, 0, 0, 0, 0, 0, 0, 0, 0, 0, 0, 0, 1, 1,\n",
       "       1, 1, 1, 1, 1, 1, 1, 0, 0, 0, 0, 0, 0, 0, 0, 0, 0, 0, 0, 0, 0, 0,\n",
       "       0, 0, 1, 1, 1, 1, 1, 1, 1, 1, 1, 1, 0, 0, 0, 0, 0, 0, 0, 0, 0, 0,\n",
       "       0, 0, 0, 0, 0, 0, 1, 1, 1, 1, 1, 1, 1, 1, 1, 1, 0, 0, 0, 0, 0, 0,\n",
       "       0, 0, 0, 0, 0, 0, 0, 0, 0, 0, 1, 1, 1, 1, 1, 1, 1, 1, 1, 1, 0, 0,\n",
       "       0, 0, 0, 0, 0, 0, 0, 0, 0, 0, 0, 0, 0, 0, 0, 0, 1, 1, 1, 1, 1, 1,\n",
       "       1, 1, 0, 0, 0, 0, 0, 0, 0, 0, 0, 0, 0, 0, 0, 0, 0, 0, 0, 0, 0, 0,\n",
       "       0, 0, 0, 0, 0, 0, 0, 0, 0, 0, 0, 0, 0, 0, 0, 0, 0, 0, 0, 0, 0, 0,\n",
       "       0, 0, 0, 0, 0, 0, 0, 0, 0, 0, 0, 0, 0, 0, 0, 0, 0, 0, 0, 0, 0, 0,\n",
       "       0, 0, 0, 0, 0, 0, 0, 0, 0, 0, 0, 0, 0, 0, 0, 0, 0, 0, 0, 0, 0, 0,\n",
       "       0, 0, 0, 0, 0, 0, 0, 0, 0, 0, 0, 0, 0, 0], dtype=int16)"
      ]
     },
     "execution_count": 31,
     "metadata": {},
     "output_type": "execute_result"
    }
   ],
   "source": [
    "v = X_train[0].copy()\n",
    "v[v > 0] = 1\n",
    "v = v.astype(np.int16)\n",
    "v"
   ]
  },
  {
   "cell_type": "markdown",
   "metadata": {
    "id": "jnUt9U3_9U9x"
   },
   "source": [
    "## Простая нейросеть на Keras"
   ]
  },
  {
   "cell_type": "markdown",
   "metadata": {
    "id": "Y6btW5Oz9U9W"
   },
   "source": [
    "### **Создание модели**"
   ]
  },
  {
   "cell_type": "markdown",
   "metadata": {
    "id": "jgVdsO619U9Y"
   },
   "source": [
    "После первичной подготовки данных дальше как правило следует создание модели нейронной сети, которая будет учиться на этих данных.\n",
    "\n",
    "Ниже типичный код учебной нейросети."
   ]
  },
  {
   "cell_type": "code",
   "execution_count": 32,
   "metadata": {
    "colab": {
     "base_uri": "https://localhost:8080/"
    },
    "id": "n4d7k7H6ScCz",
    "outputId": "f1660e79-4be4-42b9-8a45-f5e90f1883d7"
   },
   "outputs": [
    {
     "name": "stdout",
     "output_type": "stream",
     "text": [
      "Model: \"sequential_1\"\n",
      "_________________________________________________________________\n",
      " Layer (type)                Output Shape              Param #   \n",
      "=================================================================\n",
      " dense_2 (Dense)             (None, 4)                 16        \n",
      "                                                                 \n",
      " dense_3 (Dense)             (None, 2)                 10        \n",
      "                                                                 \n",
      "=================================================================\n",
      "Total params: 26\n",
      "Trainable params: 26\n",
      "Non-trainable params: 0\n",
      "_________________________________________________________________\n"
     ]
    }
   ],
   "source": [
    "from keras.layers import Dense       # Полносвязный линейный слой\n",
    "from keras.models import Sequential  # Класс последовательности слоев\n",
    "\n",
    "\n",
    "model = Sequential()\n",
    "model.add(Dense(4, input_shape=(3,), activation='relu'))\n",
    "model.add(Dense(2, activation='sigmoid'))\n",
    "\n",
    "model.summary()"
   ]
  },
  {
   "cell_type": "markdown",
   "metadata": {
    "id": "p39ORRv6Qt-W"
   },
   "source": [
    "<img src='http://juice-health.ru/images/technology/30.png'>"
   ]
  },
  {
   "cell_type": "markdown",
   "metadata": {
    "id": "IOGePbqwS8Pw"
   },
   "source": [
    "<img src='https://neurohive.io/wp-content/uploads/2018/07/neuronnaya-set.gif'>"
   ]
  },
  {
   "cell_type": "code",
   "execution_count": 33,
   "metadata": {
    "colab": {
     "base_uri": "https://localhost:8080/"
    },
    "id": "rvDozQE8Qt-W",
    "outputId": "4b89950c-523a-4d45-9470-67ace6196299"
   },
   "outputs": [
    {
     "name": "stdout",
     "output_type": "stream",
     "text": [
      "Model: \"sequential_2\"\n",
      "_________________________________________________________________\n",
      " Layer (type)                Output Shape              Param #   \n",
      "=================================================================\n",
      " dense_4 (Dense)             (None, 5)                 55        \n",
      "                                                                 \n",
      " dense_5 (Dense)             (None, 1)                 6         \n",
      "                                                                 \n",
      "=================================================================\n",
      "Total params: 61\n",
      "Trainable params: 61\n",
      "Non-trainable params: 0\n",
      "_________________________________________________________________\n"
     ]
    }
   ],
   "source": [
    "# define the keras model\n",
    "model = Sequential()\n",
    "model.add(Dense(5, input_shape=(10,), activation='relu'))\n",
    "model.add(Dense(1, activation='sigmoid'))\n",
    "\n",
    "model.summary()"
   ]
  },
  {
   "cell_type": "markdown",
   "metadata": {
    "id": "kI-tNE1VQt-W"
   },
   "source": [
    "<img src='https://life-prog.ru/neyrocomputer/Untitled-2_clip_image026.gif'>\n",
    "\n",
    "<img src='https://neurohive.io/wp-content/uploads/2018/07/funkcii-aktivacii-neironnoi-seti-570x257.png'>\n",
    "\n"
   ]
  },
  {
   "cell_type": "markdown",
   "metadata": {
    "id": "lb6IkKpN9U9c"
   },
   "source": [
    "Давайте разберемся с теми командами, которые нам встетились в этом коде.\n",
    "\n",
    "**Sequential** - позволяет создать нейросети, где слои строятся последовательно. Сигнал в них передается от одного слоя к другому. В противовес этой разновидности есть нейросети, где сигнал может не сразу передаваться в следующий слой. Такие нейросети мы разберем в следующих уроках.\n",
    "\n",
    "**Dense** - позволяет каждому нейрону быть связанному с другим нейронном. В противовес этому может быть необходимость не делать так много связей. Неполносвязнные архитектуры мы также разберем на этом курсе, они основа компьютерного зрения.\n",
    "\n",
    "Цифры **5, 1** обозначают количество нейронов в каждом конкретном слое\n",
    "\n",
    "**Activation** - позволяет определить формулу по которой будет активироваться нейрон."
   ]
  },
  {
   "cell_type": "markdown",
   "metadata": {
    "id": "x-EtjCLMSijt"
   },
   "source": [
    "Давайте попробуем обучить нейросеть различать рукописные цифры."
   ]
  },
  {
   "cell_type": "code",
   "execution_count": 34,
   "metadata": {
    "colab": {
     "base_uri": "https://localhost:8080/"
    },
    "id": "dsowCL8BKf3X",
    "outputId": "5c5d24fe-52b5-45a1-e827-3cc8ee243cad"
   },
   "outputs": [
    {
     "data": {
      "text/plain": [
       "2080"
      ]
     },
     "execution_count": 34,
     "metadata": {},
     "output_type": "execute_result"
    }
   ],
   "source": [
    "64 * 32 + 32"
   ]
  },
  {
   "cell_type": "code",
   "execution_count": 35,
   "metadata": {
    "colab": {
     "base_uri": "https://localhost:8080/"
    },
    "id": "aB40PpZ5Nu7v",
    "outputId": "6c25c1cc-de37-416b-c431-c3fb131ced8f"
   },
   "outputs": [
    {
     "name": "stdout",
     "output_type": "stream",
     "text": [
      "Model: \"sequential_3\"\n",
      "_________________________________________________________________\n",
      " Layer (type)                Output Shape              Param #   \n",
      "=================================================================\n",
      " dense_6 (Dense)             (None, 64)                50240     \n",
      "                                                                 \n",
      " dense_7 (Dense)             (None, 32)                2080      \n",
      "                                                                 \n",
      " dense_8 (Dense)             (None, 10)                330       \n",
      "                                                                 \n",
      "=================================================================\n",
      "Total params: 52,650\n",
      "Trainable params: 52,650\n",
      "Non-trainable params: 0\n",
      "_________________________________________________________________\n"
     ]
    }
   ],
   "source": [
    "model = Sequential()\n",
    "model.add(Dense(64, input_shape=(28 * 28,), activation='relu'))\n",
    "model.add(Dense(32, activation='relu'))\n",
    "model.add(Dense(10, activation='sigmoid'))\n",
    "\n",
    "model.summary()"
   ]
  },
  {
   "cell_type": "code",
   "execution_count": 36,
   "metadata": {
    "colab": {
     "base_uri": "https://localhost:8080/"
    },
    "id": "krP76FRIRfnW",
    "outputId": "bb097b36-f658-4e96-b628-90518ee9eac7"
   },
   "outputs": [
    {
     "name": "stdout",
     "output_type": "stream",
     "text": [
      "Model: \"sequential_4\"\n",
      "_________________________________________________________________\n",
      " Layer (type)                Output Shape              Param #   \n",
      "=================================================================\n",
      " dense_9 (Dense)             (None, 64)                50240     \n",
      "                                                                 \n",
      " dense_10 (Dense)            (None, 32)                2080      \n",
      "                                                                 \n",
      " dense_11 (Dense)            (None, 10)                330       \n",
      "                                                                 \n",
      "=================================================================\n",
      "Total params: 52,650\n",
      "Trainable params: 52,650\n",
      "Non-trainable params: 0\n",
      "_________________________________________________________________\n"
     ]
    }
   ],
   "source": [
    "# is the same\n",
    "model = Sequential([\n",
    "    Dense(64, input_shape=(28 * 28,), activation='relu'),\n",
    "    Dense(32, activation='relu'),\n",
    "    Dense(10, activation='sigmoid')\n",
    "])\n",
    "\n",
    "model.summary()"
   ]
  },
  {
   "cell_type": "code",
   "execution_count": 37,
   "metadata": {
    "colab": {
     "base_uri": "https://localhost:8080/",
     "height": 369
    },
    "id": "E3fc6f4tR0T2",
    "outputId": "78912992-6b2b-40c0-e85b-7330560416cc"
   },
   "outputs": [
    {
     "data": {
      "image/png": "[encoded data removed]",
      "text/plain": [
       "<IPython.core.display.Image object>"
      ]
     },
     "execution_count": 37,
     "metadata": {},
     "output_type": "execute_result"
    }
   ],
   "source": [
    "from keras.utils.vis_utils import plot_model\n",
    "\n",
    "plot_model(model)"
   ]
  },
  {
   "cell_type": "code",
   "execution_count": 38,
   "metadata": {
    "colab": {
     "base_uri": "https://localhost:8080/"
    },
    "id": "nC-XItTxSB0p",
    "outputId": "3bb03159-937c-415f-b53d-88159bfb0d36"
   },
   "outputs": [
    {
     "data": {
      "text/plain": [
       "{'name': 'sequential_4',\n",
       " 'layers': [{'class_name': 'InputLayer',\n",
       "   'config': {'batch_input_shape': (None, 784),\n",
       "    'dtype': 'float32',\n",
       "    'sparse': False,\n",
       "    'ragged': False,\n",
       "    'name': 'dense_9_input'}},\n",
       "  {'class_name': 'Dense',\n",
       "   'config': {'name': 'dense_9',\n",
       "    'trainable': True,\n",
       "    'dtype': 'float32',\n",
       "    'batch_input_shape': (None, 784),\n",
       "    'units': 64,\n",
       "    'activation': 'relu',\n",
       "    'use_bias': True,\n",
       "    'kernel_initializer': {'class_name': 'GlorotUniform',\n",
       "     'config': {'seed': None}},\n",
       "    'bias_initializer': {'class_name': 'Zeros', 'config': {}},\n",
       "    'kernel_regularizer': None,\n",
       "    'bias_regularizer': None,\n",
       "    'activity_regularizer': None,\n",
       "    'kernel_constraint': None,\n",
       "    'bias_constraint': None}},\n",
       "  {'class_name': 'Dense',\n",
       "   'config': {'name': 'dense_10',\n",
       "    'trainable': True,\n",
       "    'dtype': 'float32',\n",
       "    'units': 32,\n",
       "    'activation': 'relu',\n",
       "    'use_bias': True,\n",
       "    'kernel_initializer': {'class_name': 'GlorotUniform',\n",
       "     'config': {'seed': None}},\n",
       "    'bias_initializer': {'class_name': 'Zeros', 'config': {}},\n",
       "    'kernel_regularizer': None,\n",
       "    'bias_regularizer': None,\n",
       "    'activity_regularizer': None,\n",
       "    'kernel_constraint': None,\n",
       "    'bias_constraint': None}},\n",
       "  {'class_name': 'Dense',\n",
       "   'config': {'name': 'dense_11',\n",
       "    'trainable': True,\n",
       "    'dtype': 'float32',\n",
       "    'units': 10,\n",
       "    'activation': 'sigmoid',\n",
       "    'use_bias': True,\n",
       "    'kernel_initializer': {'class_name': 'GlorotUniform',\n",
       "     'config': {'seed': None}},\n",
       "    'bias_initializer': {'class_name': 'Zeros', 'config': {}},\n",
       "    'kernel_regularizer': None,\n",
       "    'bias_regularizer': None,\n",
       "    'activity_regularizer': None,\n",
       "    'kernel_constraint': None,\n",
       "    'bias_constraint': None}}]}"
      ]
     },
     "execution_count": 38,
     "metadata": {},
     "output_type": "execute_result"
    }
   ],
   "source": [
    "# Запишем конфиг в переменную\n",
    "config = model.get_config()\n",
    "config"
   ]
  },
  {
   "cell_type": "code",
   "execution_count": 39,
   "metadata": {
    "colab": {
     "base_uri": "https://localhost:8080/"
    },
    "id": "W8AWxvh-JL2e",
    "outputId": "dcd90f28-4dac-4e50-980c-d653e61f835f"
   },
   "outputs": [
    {
     "name": "stdout",
     "output_type": "stream",
     "text": [
      "Model: \"sequential_5\"\n",
      "_________________________________________________________________\n",
      " Layer (type)                Output Shape              Param #   \n",
      "=================================================================\n",
      " dense_12 (Dense)            (None, 6)                 4710      \n",
      "                                                                 \n",
      " dense_13 (Dense)            (None, 1)                 7         \n",
      "                                                                 \n",
      "=================================================================\n",
      "Total params: 4,717\n",
      "Trainable params: 4,717\n",
      "Non-trainable params: 0\n",
      "_________________________________________________________________\n"
     ]
    }
   ],
   "source": [
    "# Испортим model\n",
    "model = Sequential([\n",
    "    Dense(6, input_shape=(28 * 28,), activation='relu'),\n",
    "    Dense(1, activation='sigmoid')\n",
    "])\n",
    "\n",
    "model.summary()"
   ]
  },
  {
   "cell_type": "code",
   "execution_count": 40,
   "metadata": {
    "colab": {
     "base_uri": "https://localhost:8080/"
    },
    "id": "shppTOWBJCrZ",
    "outputId": "8e3fcfec-e56a-45a0-cb1e-c6722814911c"
   },
   "outputs": [
    {
     "name": "stdout",
     "output_type": "stream",
     "text": [
      "Model: \"sequential_4\"\n",
      "_________________________________________________________________\n",
      " Layer (type)                Output Shape              Param #   \n",
      "=================================================================\n",
      " dense_9 (Dense)             (None, 64)                50240     \n",
      "                                                                 \n",
      " dense_10 (Dense)            (None, 32)                2080      \n",
      "                                                                 \n",
      " dense_11 (Dense)            (None, 10)                330       \n",
      "                                                                 \n",
      "=================================================================\n",
      "Total params: 52,650\n",
      "Trainable params: 52,650\n",
      "Non-trainable params: 0\n",
      "_________________________________________________________________\n"
     ]
    }
   ],
   "source": [
    "# Загрузим из конфига\n",
    "model = model.from_config(config)\n",
    "model.summary()"
   ]
  },
  {
   "cell_type": "markdown",
   "metadata": {
    "id": "iVWaIK2l9U9e"
   },
   "source": [
    "### **Компиляция модели**\n",
    "\n",
    "На этапе компиляции модель с заданными параметрами ранее создается. Вот типичный учебный пример:"
   ]
  },
  {
   "cell_type": "code",
   "execution_count": 41,
   "metadata": {
    "id": "MInwRm_7OcYJ"
   },
   "outputs": [],
   "source": [
    "model.compile(loss='categorical_crossentropy', optimizer='SGD', metrics=['accuracy'])"
   ]
  },
  {
   "cell_type": "markdown",
   "metadata": {
    "id": "IDbetrHA9U9i"
   },
   "source": [
    "Однако на этой стадии мы должны сделать еще некоторые настройки нейронной сети. Разберем команды из кода выше.\n",
    "\n",
    "- **loss** - позволяет задать формулу, по которой будет определяться степень ошибки нейронной сети.\n",
    "- **optimizer** - позволяет задать алгоритм, который будет осуществлять изменения весов по всей нейронной сети (backpropagation).\n",
    "- **metrics** - позволяет определить критерии, по которым будет оцениваться степень обученности нейросети.\n",
    "    "
   ]
  },
  {
   "cell_type": "markdown",
   "metadata": {},
   "source": [
    "* loss='categorical_crossentropy' - >2х классов\n",
    "* loss='binary_crossentropy' - 2 класса"
   ]
  },
  {
   "cell_type": "markdown",
   "metadata": {
    "id": "KH-Cy6Iy9U9l"
   },
   "source": [
    "### **Передача данных для обучения нейросети**\n",
    "\n",
    "После того как нейросеть создана, можно передавать ей данные для обучения. Ниже типичный пример кода для этого.\n"
   ]
  },
  {
   "cell_type": "markdown",
   "metadata": {},
   "source": [
    "Переводим целевые значения в бинарный вид, будем предсказывать вектор"
   ]
  },
  {
   "cell_type": "code",
   "execution_count": 42,
   "metadata": {
    "colab": {
     "base_uri": "https://localhost:8080/"
    },
    "id": "t8wSpGUvSKYC",
    "outputId": "8daeb768-b421-432c-cd31-745fc18a49e0"
   },
   "outputs": [
    {
     "data": {
      "text/plain": [
       "array([5, 0, 4, 1, 9], dtype=uint8)"
      ]
     },
     "execution_count": 42,
     "metadata": {},
     "output_type": "execute_result"
    }
   ],
   "source": [
    "y_train_labels[:5]"
   ]
  },
  {
   "cell_type": "code",
   "execution_count": 43,
   "metadata": {
    "colab": {
     "base_uri": "https://localhost:8080/"
    },
    "id": "7FVfRog_SMgT",
    "outputId": "683485e1-4726-4a7e-d317-2ebdc52cfa4f"
   },
   "outputs": [
    {
     "data": {
      "text/plain": [
       "array([[0., 0., 0., 0., 0., 1., 0., 0., 0., 0.],\n",
       "       [1., 0., 0., 0., 0., 0., 0., 0., 0., 0.],\n",
       "       [0., 0., 0., 0., 1., 0., 0., 0., 0., 0.],\n",
       "       [0., 1., 0., 0., 0., 0., 0., 0., 0., 0.],\n",
       "       [0., 0., 0., 0., 0., 0., 0., 0., 0., 1.]], dtype=float32)"
      ]
     },
     "execution_count": 43,
     "metadata": {},
     "output_type": "execute_result"
    }
   ],
   "source": [
    "from keras.utils.np_utils import to_categorical\n",
    "\n",
    "\n",
    "y_train = to_categorical(y_train_labels)\n",
    "y_test = to_categorical(y_test_labels)\n",
    "\n",
    "y_train[:5]"
   ]
  },
  {
   "cell_type": "markdown",
   "metadata": {
    "id": "fqBRW_s6ac0m"
   },
   "source": [
    "<img src='https://drive.google.com/uc?export=view&id=1j8SxKYEi12jzJXi_bPO28q5SV9emuu0Y'>"
   ]
  },
  {
   "cell_type": "code",
   "execution_count": 44,
   "metadata": {
    "colab": {
     "base_uri": "https://localhost:8080/"
    },
    "id": "_v47tBDpZcEu",
    "outputId": "37ad7ecc-3b01-4661-f586-e048404f186b"
   },
   "outputs": [
    {
     "data": {
      "text/plain": [
       "(60000, 784)"
      ]
     },
     "execution_count": 44,
     "metadata": {},
     "output_type": "execute_result"
    }
   ],
   "source": [
    "X_train.shape"
   ]
  },
  {
   "cell_type": "markdown",
   "metadata": {},
   "source": [
    "Разберем команд:\n",
    "\n",
    "- **X_train, y_train** - содержат все обучающие данные\n",
    "- **epochs** - определяет сколько раз через нейросеть должен пройти весь набор данных\n",
    "- **bath_size** - определяет количество обучающих примеров передающихся нейросети на каждой итерации обучения.\n",
    "- **verbose** - позволяет определять информацию, которую вы видите во время обучения нейронной сети.\n",
    "- **validation data** - содержат все валидационные данные"
   ]
  },
  {
   "cell_type": "code",
   "execution_count": 1,
   "metadata": {},
   "outputs": [
    {
     "data": {
      "text/plain": [
       "60160"
      ]
     },
     "execution_count": 1,
     "metadata": {},
     "output_type": "execute_result"
    }
   ],
   "source": [
    "235*256"
   ]
  },
  {
   "cell_type": "code",
   "execution_count": 45,
   "metadata": {
    "colab": {
     "base_uri": "https://localhost:8080/"
    },
    "id": "OIdK-fYRMvF9",
    "outputId": "c85f296b-75bb-4906-b383-3d44984c26b6"
   },
   "outputs": [
    {
     "name": "stdout",
     "output_type": "stream",
     "text": [
      "Epoch 1/5\n",
      "235/235 [==============================] - 6s 5ms/step - loss: 1.8759 - accuracy: 0.4413 - val_loss: 1.3443 - val_accuracy: 0.7142\n",
      "Epoch 2/5\n",
      "235/235 [==============================] - 1s 4ms/step - loss: 0.9965 - accuracy: 0.7786 - val_loss: 0.7287 - val_accuracy: 0.8269\n",
      "Epoch 3/5\n",
      "235/235 [==============================] - 1s 4ms/step - loss: 0.6397 - accuracy: 0.8373 - val_loss: 0.5409 - val_accuracy: 0.8614\n",
      "Epoch 4/5\n",
      "235/235 [==============================] - 1s 4ms/step - loss: 0.5123 - accuracy: 0.8629 - val_loss: 0.4571 - val_accuracy: 0.8795\n",
      "Epoch 5/5\n",
      "235/235 [==============================] - 1s 4ms/step - loss: 0.4468 - accuracy: 0.8773 - val_loss: 0.4081 - val_accuracy: 0.8889\n"
     ]
    }
   ],
   "source": [
    "# можно явно указать валидационный датасет\n",
    "\n",
    "history = model.fit(X_train, y_train,\n",
    "                    epochs=5,\n",
    "                    batch_size=256,\n",
    "                    verbose=1,\n",
    "                    validation_data=(X_test, y_test)\n",
    "                    )"
   ]
  },
  {
   "cell_type": "code",
   "execution_count": 46,
   "metadata": {
    "colab": {
     "base_uri": "https://localhost:8080/"
    },
    "id": "dgGt_UruOtFZ",
    "outputId": "9c142aa1-ef44-41a2-fff1-31a8fc9aa997"
   },
   "outputs": [
    {
     "name": "stdout",
     "output_type": "stream",
     "text": [
      "Epoch 1/5\n",
      "48/48 [==============================] - 1s 11ms/step - loss: 0.4247 - accuracy: 0.8821 - val_loss: 0.3901 - val_accuracy: 0.8919\n",
      "Epoch 2/5\n",
      "48/48 [==============================] - 0s 8ms/step - loss: 0.4171 - accuracy: 0.8841 - val_loss: 0.3836 - val_accuracy: 0.8936\n",
      "Epoch 3/5\n",
      "48/48 [==============================] - 0s 7ms/step - loss: 0.4101 - accuracy: 0.8857 - val_loss: 0.3774 - val_accuracy: 0.8953\n",
      "Epoch 4/5\n",
      "48/48 [==============================] - 0s 6ms/step - loss: 0.4038 - accuracy: 0.8872 - val_loss: 0.3721 - val_accuracy: 0.8963\n",
      "Epoch 5/5\n",
      "48/48 [==============================] - 0s 6ms/step - loss: 0.3978 - accuracy: 0.8886 - val_loss: 0.3666 - val_accuracy: 0.8982\n"
     ]
    }
   ],
   "source": [
    "# передача обучающего датасета keras модели\n",
    "\n",
    "# либо можно указать разбиение на валидацию\n",
    "history = model.fit(X_train, y_train,\n",
    "                    epochs=5,\n",
    "                    batch_size=1000,\n",
    "                    verbose=1,\n",
    "                    validation_split=0.2)"
   ]
  },
  {
   "cell_type": "code",
   "execution_count": 47,
   "metadata": {
    "colab": {
     "base_uri": "https://localhost:8080/"
    },
    "id": "z-_BvJsjVOOY",
    "outputId": "1a9ce910-34b8-4a07-e557-e91886ae517d"
   },
   "outputs": [
    {
     "data": {
      "text/plain": [
       "{'loss': [0.4247182309627533,\n",
       "  0.41705408692359924,\n",
       "  0.41008466482162476,\n",
       "  0.40377509593963623,\n",
       "  0.3978210985660553],\n",
       " 'accuracy': [0.8821041584014893,\n",
       "  0.8841041922569275,\n",
       "  0.885729193687439,\n",
       "  0.8872291445732117,\n",
       "  0.8885625004768372],\n",
       " 'val_loss': [0.39008593559265137,\n",
       "  0.3835834264755249,\n",
       "  0.3773975074291229,\n",
       "  0.37212589383125305,\n",
       "  0.36662110686302185],\n",
       " 'val_accuracy': [0.8919166922569275,\n",
       "  0.893583357334137,\n",
       "  0.8952500224113464,\n",
       "  0.8962500095367432,\n",
       "  0.8981666564941406]}"
      ]
     },
     "execution_count": 47,
     "metadata": {},
     "output_type": "execute_result"
    }
   ],
   "source": [
    "history.history"
   ]
  },
  {
   "cell_type": "code",
   "execution_count": 48,
   "metadata": {
    "colab": {
     "base_uri": "https://localhost:8080/",
     "height": 265
    },
    "id": "xKpOPxNobbJ8",
    "outputId": "bd5e1a07-1699-47a7-d6ff-91a633622471"
   },
   "outputs": [
    {
     "data": {
      "image/png": "[encoded data removed]",
      "text/plain": [
       "<Figure size 432x288 with 1 Axes>"
      ]
     },
     "metadata": {
      "needs_background": "light"
     },
     "output_type": "display_data"
    }
   ],
   "source": [
    "train_acc = history.history['accuracy']\n",
    "val_acc = history.history['val_accuracy']\n",
    "\n",
    "plt.plot(train_acc, label='train')\n",
    "plt.plot(val_acc, label='val')\n",
    "plt.legend();"
   ]
  },
  {
   "cell_type": "code",
   "execution_count": 48,
   "metadata": {
    "id": "PYDu7k6rQ-pL"
   },
   "outputs": [],
   "source": []
  },
  {
   "cell_type": "code",
   "execution_count": 49,
   "metadata": {
    "colab": {
     "base_uri": "https://localhost:8080/"
    },
    "id": "A6dYiw9mQ-sg",
    "outputId": "051afd72-8d2a-44a6-8d64-0cadf0d5dba0"
   },
   "outputs": [
    {
     "name": "stdout",
     "output_type": "stream",
     "text": [
      "Epoch 1/5\n",
      "4800/4800 [==============================] - 18s 4ms/step - loss: 0.3167 - accuracy: 0.9084 - val_loss: 0.2477 - val_accuracy: 0.9277\n",
      "Epoch 2/5\n",
      "4800/4800 [==============================] - 20s 4ms/step - loss: 0.2238 - accuracy: 0.9351 - val_loss: 0.1915 - val_accuracy: 0.9450\n",
      "Epoch 3/5\n",
      "4800/4800 [==============================] - 17s 4ms/step - loss: 0.1751 - accuracy: 0.9487 - val_loss: 0.1746 - val_accuracy: 0.9507\n",
      "Epoch 4/5\n",
      "4800/4800 [==============================] - 20s 4ms/step - loss: 0.1442 - accuracy: 0.9574 - val_loss: 0.1623 - val_accuracy: 0.9525\n",
      "Epoch 5/5\n",
      "4800/4800 [==============================] - 17s 3ms/step - loss: 0.1220 - accuracy: 0.9642 - val_loss: 0.1296 - val_accuracy: 0.9625\n"
     ]
    }
   ],
   "source": [
    "history = model.fit(X_train, y_train,\n",
    "                    epochs=5,\n",
    "                    batch_size=10,\n",
    "                    verbose=1,\n",
    "                    validation_split=0.2)"
   ]
  },
  {
   "cell_type": "code",
   "execution_count": 50,
   "metadata": {
    "colab": {
     "base_uri": "https://localhost:8080/"
    },
    "id": "pO01SBeYRBAQ",
    "outputId": "25586e51-da80-46d2-f54f-ac8a79011d35"
   },
   "outputs": [
    {
     "name": "stdout",
     "output_type": "stream",
     "text": [
      "Epoch 1/5\n",
      "480/480 [==============================] - 2s 4ms/step - loss: 0.0961 - accuracy: 0.9724 - val_loss: 0.1177 - val_accuracy: 0.9667\n",
      "Epoch 2/5\n",
      "480/480 [==============================] - 2s 4ms/step - loss: 0.0928 - accuracy: 0.9734 - val_loss: 0.1172 - val_accuracy: 0.9660\n",
      "Epoch 3/5\n",
      "480/480 [==============================] - 2s 4ms/step - loss: 0.0910 - accuracy: 0.9740 - val_loss: 0.1159 - val_accuracy: 0.9662\n",
      "Epoch 4/5\n",
      "480/480 [==============================] - 2s 3ms/step - loss: 0.0893 - accuracy: 0.9749 - val_loss: 0.1154 - val_accuracy: 0.9656\n",
      "Epoch 5/5\n",
      "480/480 [==============================] - 2s 3ms/step - loss: 0.0879 - accuracy: 0.9752 - val_loss: 0.1155 - val_accuracy: 0.9667\n"
     ]
    }
   ],
   "source": [
    "history = model.fit(X_train, y_train,\n",
    "                    epochs=5,\n",
    "                    batch_size=100,\n",
    "                    verbose=1,\n",
    "                    validation_split=0.2)"
   ]
  },
  {
   "cell_type": "code",
   "execution_count": 50,
   "metadata": {
    "id": "ZdBf4sPLQ-zf"
   },
   "outputs": [],
   "source": []
  },
  {
   "cell_type": "code",
   "execution_count": 51,
   "metadata": {
    "colab": {
     "base_uri": "https://localhost:8080/"
    },
    "id": "t26sY8YAXi1O",
    "outputId": "56fe5426-19e3-49b2-9542-f0411273b91e"
   },
   "outputs": [
    {
     "name": "stdout",
     "output_type": "stream",
     "text": [
      "Epoch 1/5\n",
      "100/100 [==============================] - 2s 22ms/step - loss: 0.0971 - accuracy: 0.9720 - val_loss: 0.1189 - val_accuracy: 0.9643\n",
      "Epoch 2/5\n",
      "100/100 [==============================] - 3s 29ms/step - loss: 0.0940 - accuracy: 0.9680 - val_loss: 0.1178 - val_accuracy: 0.9643\n",
      "Epoch 3/5\n",
      "100/100 [==============================] - 3s 29ms/step - loss: 0.0916 - accuracy: 0.9780 - val_loss: 0.1182 - val_accuracy: 0.9655\n",
      "Epoch 4/5\n",
      "100/100 [==============================] - 2s 22ms/step - loss: 0.1012 - accuracy: 0.9640 - val_loss: 0.1150 - val_accuracy: 0.9644\n",
      "Epoch 5/5\n",
      "100/100 [==============================] - 3s 29ms/step - loss: 0.1030 - accuracy: 0.9670 - val_loss: 0.1209 - val_accuracy: 0.9636\n"
     ]
    }
   ],
   "source": [
    "# steps_per_epoch - количество итераций за эпоху\n",
    "\n",
    "history = model.fit(X_train, y_train,\n",
    "                    epochs=5,\n",
    "                    batch_size=10,\n",
    "                    steps_per_epoch=100, \n",
    "                    verbose=1,\n",
    "                    validation_data=(X_test, y_test))"
   ]
  },
  {
   "cell_type": "markdown",
   "metadata": {
    "id": "P7ERG-o79U9s"
   },
   "source": [
    "### **Оценка обученности нейронной сети**\n",
    "\n",
    "Следующей стадией может быть проверка обученности нейронной сети."
   ]
  },
  {
   "cell_type": "code",
   "execution_count": 52,
   "metadata": {
    "colab": {
     "base_uri": "https://localhost:8080/"
    },
    "id": "Xy_ZHJLRPZu1",
    "outputId": "44c14d80-0672-4dca-b839-05d6ad5555c4"
   },
   "outputs": [
    {
     "name": "stdout",
     "output_type": "stream",
     "text": [
      "79/79 [==============================] - 0s 2ms/step - loss: 0.1209 - accuracy: 0.9636\n"
     ]
    },
    {
     "data": {
      "text/plain": [
       "(0.12085035443305969, 0.9635999798774719)"
      ]
     },
     "execution_count": 52,
     "metadata": {},
     "output_type": "execute_result"
    }
   ],
   "source": [
    "loss, metric = model.evaluate(X_test, y_test, batch_size=128)\n",
    "loss, metric"
   ]
  },
  {
   "cell_type": "markdown",
   "metadata": {
    "id": "JEEb6PjLPerM"
   },
   "source": [
    "В данном случае мы просто указываем какую модель на каких данных мы хотим проверить."
   ]
  },
  {
   "cell_type": "markdown",
   "metadata": {
    "id": "UHT1j0AX9U9t"
   },
   "source": [
    "### **Запуск нейронной сети для выполнения работы**\n",
    "\n",
    "На этой стадии мы можем попробовать запустить нейронную сеть на данных которые мы хотели бы чтобы она оценила. Осуществить распознавания объекта на фотографии например.\n",
    "Вот код для этих целей.\n",
    "\n",
    "В качестве аргумента здесь указывается массив данных."
   ]
  },
  {
   "cell_type": "code",
   "execution_count": 54,
   "metadata": {
    "id": "JcZQ08fkRDCm"
   },
   "outputs": [],
   "source": [
    "# (28 X 28).reshape((1, 784))"
   ]
  },
  {
   "cell_type": "code",
   "execution_count": 55,
   "metadata": {
    "colab": {
     "base_uri": "https://localhost:8080/"
    },
    "id": "LsCce3lEBVkh",
    "outputId": "a682510d-f268-49bf-ddf0-6955de2a877c"
   },
   "outputs": [
    {
     "data": {
      "text/plain": [
       "(1, 784)"
      ]
     },
     "execution_count": 55,
     "metadata": {},
     "output_type": "execute_result"
    }
   ],
   "source": [
    "X_test[0][None].shape"
   ]
  },
  {
   "cell_type": "code",
   "execution_count": 56,
   "metadata": {
    "colab": {
     "base_uri": "https://localhost:8080/"
    },
    "id": "E12l3cq6P4_O",
    "outputId": "8f605ff7-5afc-439d-d8aa-5dd25fd76bc7"
   },
   "outputs": [
    {
     "name": "stdout",
     "output_type": "stream",
     "text": [
      "1/1 [==============================] - 0s 132ms/step\n"
     ]
    },
    {
     "data": {
      "text/plain": [
       "array([[7.2062336e-02, 5.4654474e-03, 9.5112181e-01, 9.9952233e-01,\n",
       "        5.7954108e-04, 1.2517171e-01, 2.5815106e-07, 9.9999607e-01,\n",
       "        5.6271511e-01, 9.4743967e-01]], dtype=float32)"
      ]
     },
     "execution_count": 56,
     "metadata": {},
     "output_type": "execute_result"
    }
   ],
   "source": [
    "predictions = model.predict(X_test[0][None])\n",
    "predictions"
   ]
  },
  {
   "cell_type": "code",
   "execution_count": 57,
   "metadata": {
    "colab": {
     "base_uri": "https://localhost:8080/"
    },
    "id": "AasIPpL0TpgN",
    "outputId": "87fd672c-2548-43b8-82c0-2030d02127b6"
   },
   "outputs": [
    {
     "data": {
      "text/plain": [
       "array([7])"
      ]
     },
     "execution_count": 57,
     "metadata": {},
     "output_type": "execute_result"
    }
   ],
   "source": [
    "pred_labels = np.argmax(predictions, axis=1)\n",
    "pred_labels"
   ]
  },
  {
   "cell_type": "code",
   "execution_count": 58,
   "metadata": {
    "colab": {
     "base_uri": "https://localhost:8080/"
    },
    "id": "47wK4mK8T0dp",
    "outputId": "d8371b2b-053c-4f13-8bcf-39161c7508dc"
   },
   "outputs": [
    {
     "data": {
      "text/plain": [
       "array([7, 2, 1], dtype=uint8)"
      ]
     },
     "execution_count": 58,
     "metadata": {},
     "output_type": "execute_result"
    }
   ],
   "source": [
    "y_test_labels[:3]"
   ]
  },
  {
   "cell_type": "markdown",
   "metadata": {
    "id": "LoL6FC9I9U9v"
   },
   "source": [
    "Мы с вами рассмотрели основные стадии процесса обучения нейросети и команды Keras. Безусловно, здесь приведен далеко неполный перечень возможностей Keras. У Keras есть также возможность сохранять созданную нейросеть, запускать уже имеющиюся, различные средства для создания нейросетей разных архитектур и другое. С чем-то из арсенала Keras мы с вами познакомимся по ходу курса, а с остальным вы можете познакомиться на сайте Keras в разделе документация."
   ]
  },
  {
   "cell_type": "code",
   "execution_count": 59,
   "metadata": {
    "id": "He1a5EemElpX"
   },
   "outputs": [],
   "source": [
    "# Save the weights to disk\n",
    "model.save_weights('model_weights.h5')\n",
    "\n",
    "# Save the model to disk\n",
    "model.save('model.h5')"
   ]
  },
  {
   "cell_type": "code",
   "execution_count": 60,
   "metadata": {
    "colab": {
     "base_uri": "https://localhost:8080/"
    },
    "id": "o0EEzWXMFQR2",
    "outputId": "39f73b46-5233-44e1-e695-3129365e0235"
   },
   "outputs": [
    {
     "data": {
      "text/plain": [
       "{'name': 'sequential_4',\n",
       " 'layers': [{'class_name': 'InputLayer',\n",
       "   'config': {'batch_input_shape': (None, 784),\n",
       "    'dtype': 'float32',\n",
       "    'sparse': False,\n",
       "    'ragged': False,\n",
       "    'name': 'dense_9_input'}},\n",
       "  {'class_name': 'Dense',\n",
       "   'config': {'name': 'dense_9',\n",
       "    'trainable': True,\n",
       "    'dtype': 'float32',\n",
       "    'batch_input_shape': (None, 784),\n",
       "    'units': 64,\n",
       "    'activation': 'relu',\n",
       "    'use_bias': True,\n",
       "    'kernel_initializer': {'class_name': 'GlorotUniform',\n",
       "     'config': {'seed': None}},\n",
       "    'bias_initializer': {'class_name': 'Zeros', 'config': {}},\n",
       "    'kernel_regularizer': None,\n",
       "    'bias_regularizer': None,\n",
       "    'activity_regularizer': None,\n",
       "    'kernel_constraint': None,\n",
       "    'bias_constraint': None}},\n",
       "  {'class_name': 'Dense',\n",
       "   'config': {'name': 'dense_10',\n",
       "    'trainable': True,\n",
       "    'dtype': 'float32',\n",
       "    'units': 32,\n",
       "    'activation': 'relu',\n",
       "    'use_bias': True,\n",
       "    'kernel_initializer': {'class_name': 'GlorotUniform',\n",
       "     'config': {'seed': None}},\n",
       "    'bias_initializer': {'class_name': 'Zeros', 'config': {}},\n",
       "    'kernel_regularizer': None,\n",
       "    'bias_regularizer': None,\n",
       "    'activity_regularizer': None,\n",
       "    'kernel_constraint': None,\n",
       "    'bias_constraint': None}},\n",
       "  {'class_name': 'Dense',\n",
       "   'config': {'name': 'dense_11',\n",
       "    'trainable': True,\n",
       "    'dtype': 'float32',\n",
       "    'units': 10,\n",
       "    'activation': 'sigmoid',\n",
       "    'use_bias': True,\n",
       "    'kernel_initializer': {'class_name': 'GlorotUniform',\n",
       "     'config': {'seed': None}},\n",
       "    'bias_initializer': {'class_name': 'Zeros', 'config': {}},\n",
       "    'kernel_regularizer': None,\n",
       "    'bias_regularizer': None,\n",
       "    'activity_regularizer': None,\n",
       "    'kernel_constraint': None,\n",
       "    'bias_constraint': None}}]}"
      ]
     },
     "execution_count": 60,
     "metadata": {},
     "output_type": "execute_result"
    }
   ],
   "source": [
    "config_mnist = model.get_config()\n",
    "config_mnist"
   ]
  },
  {
   "cell_type": "code",
   "execution_count": 61,
   "metadata": {
    "colab": {
     "base_uri": "https://localhost:8080/"
    },
    "id": "KMZ55yhLUvK8",
    "outputId": "133f9770-f7cb-415d-d2b5-a6c9561171ce"
   },
   "outputs": [
    {
     "name": "stdout",
     "output_type": "stream",
     "text": [
      "Model: \"sequential_4\"\n",
      "_________________________________________________________________\n",
      " Layer (type)                Output Shape              Param #   \n",
      "=================================================================\n",
      " dense_9 (Dense)             (None, 64)                50240     \n",
      "                                                                 \n",
      " dense_10 (Dense)            (None, 32)                2080      \n",
      "                                                                 \n",
      " dense_11 (Dense)            (None, 10)                330       \n",
      "                                                                 \n",
      "=================================================================\n",
      "Total params: 52,650\n",
      "Trainable params: 52,650\n",
      "Non-trainable params: 0\n",
      "_________________________________________________________________\n"
     ]
    }
   ],
   "source": [
    "from keras.models import load_model\n",
    "\n",
    "# Load the model from disk\n",
    "load_model('model.h5').summary()\n",
    "\n",
    "\n",
    "# load_model('model_weights.h5')  # ValueError: No model found in config file"
   ]
  },
  {
   "cell_type": "code",
   "execution_count": 62,
   "metadata": {
    "id": "tBcv2921UQWm"
   },
   "outputs": [],
   "source": [
    "# Load the model weights from disk\n",
    "model.from_config(config_mnist)\n",
    "model.load_weights('model_weights.h5')"
   ]
  },
  {
   "cell_type": "markdown",
   "metadata": {
    "id": "a8zh5g-GBQIp"
   },
   "source": [
    "## Оптимизаторы"
   ]
  },
  {
   "cell_type": "markdown",
   "metadata": {
    "id": "kxsnVzGpcI3o"
   },
   "source": [
    "<img src='https://drive.google.com/uc?export=view&id=12D44wSjCypIi0O9N6Uj36w5tWkhW79pG'>\n"
   ]
  },
  {
   "cell_type": "markdown",
   "metadata": {
    "id": "6P0Cn9WIpXUN"
   },
   "source": [
    "Основные проблемы, которые могут возникнуть в процессе оптимизации:\n",
    "1. Застревание в локальных минимумах или седловых точках, коих может быть очень много.\n",
    "2. Сложный ландшафт целевой функции: плато чередуются с регионами сильной нелинейности. Производная на плато практически равна нулю, а внезапный обрыв, наоборот, может отправить нас слишком далеко.\n",
    "3. Слишком маленькая скорость обучения заставляет алгоритм сходиться очень долго и застревать в локальных минимумах, слишком большая — «пролетать» узкие глобальные минимумы или вовсе расходиться.\n",
    "\n",
    "<img src='https://drive.google.com/uc?export=view&id=13JItksqmvlEe7ponSpskIWEmAFdXD4CW' width=500>"
   ]
  },
  {
   "cell_type": "markdown",
   "metadata": {
    "id": "kyz4Zvsffeq4"
   },
   "source": [
    "### SGD (+ momentum)\n"
   ]
  },
  {
   "cell_type": "markdown",
   "metadata": {
    "id": "sqtk507kfVDI"
   },
   "source": [
    "\n",
    "<img src='https://drive.google.com/uc?export=view&id=1JMoY1y1oZUtiicvCuhxhliiLBLoNl7bA'>\n",
    "\n",
    "Правило обновления весов w с градиентом g, когда импульс == 0:\n",
    "\n",
    "$w^{k} = w^{k-1} - \\eta * {\\nabla Q(w^{k-1}, X)}$\n",
    "\n",
    "Правило обновления весов w с градиентом g, когда импульс > 0:\n",
    "\n",
    "$velocity = momentum * velocity - \\eta * {\\nabla Q(w^{k-1}, X)}$<br>\n",
    "$w^{k} = w^{k-1} + velocity$\n",
    "\n",
    "<img src='https://drive.google.com/uc?export=view&id=1h0u3hNo2cjDRoq0FVdXIScgRo6Iq687y'>"
   ]
  },
  {
   "cell_type": "markdown",
   "metadata": {
    "id": "QnMoeBWF3f8g"
   },
   "source": [
    "Объяснение, как работает SGB + Momentum [здесь](https://youtu.be/CKLwvuKWQjo).\n",
    "\n",
    "Засчет добавления импульса получается сглаживание оптимизации.\n",
    "\n",
    "|$t_1$|$t_2$|..|$t_n$|\n",
    "|--|--|--|--|\n",
    "|$g_1$|$g_2$|..|$g_n$|\n",
    "\n",
    "$\\gamma = 0.5$\n",
    "\n",
    "$v_1 = g_1$<br>\n",
    "$v_2 = \\gamma * v_1 + g_2 = 0.5 * g_1 + g_2$<br>\n",
    "$v_3 = \\gamma * v_2 + g_3 = \\gamma (\\gamma * v_1 + g_2) + g_3 = \\gamma^2 * g_1 + \\gamma * g_2 + g_3 = 0.25 * g_1 + 0.5 * g_2 + g_3$<br>\n"
   ]
  },
  {
   "cell_type": "code",
   "execution_count": 63,
   "metadata": {
    "colab": {
     "base_uri": "https://localhost:8080/"
    },
    "id": "_Tu3Q9bHf1ld",
    "outputId": "5de8bbc3-cb7b-4fe6-f394-3715f6e28b94"
   },
   "outputs": [
    {
     "data": {
      "text/plain": [
       "<keras.optimizers.optimizer_v2.gradient_descent.SGD at 0x7f4968d719a0>"
      ]
     },
     "execution_count": 63,
     "metadata": {},
     "output_type": "execute_result"
    }
   ],
   "source": [
    "from keras import optimizers\n",
    "\n",
    "optimizers.gradient_descent_v2.SGD(learning_rate=0.01, momentum=0.5)"
   ]
  },
  {
   "cell_type": "markdown",
   "metadata": {
    "id": "0M5994xKfjOb"
   },
   "source": [
    "### AdaGrad"
   ]
  },
  {
   "cell_type": "markdown",
   "metadata": {
    "id": "J25L4PhmfSRz"
   },
   "source": [
    "\n",
    "Объяснение, как работает Adagrad [здесь](https://youtu.be/GSmW59dM0-o).\n",
    "\n",
    "Gradient Descent:\n",
    "$ w^{k} = w^{k-1} - \\eta\\nabla Q(w^{k-1}, X)$.\n",
    "\n",
    "В Adagrad используются разные скорости обучения в зависимости от итерации:\n",
    "<h3>$ w^{k} = w^{k-1} - \\eta_{k}\\nabla Q(w^{k-1}, X) $</h3>\n",
    "\n",
    "<h2>$\\eta_{k} = \\frac{\\eta}{\\sqrt{\\alpha_k + \\epsilon}}$</h2>\n",
    "где  $\\epsilon$ - маленькое число, чтобы не было деления на ноль.\n",
    "<h4>$\\alpha_k = \\sum_{i=0}^k{\\nabla Q(w^{k-1}, X)}^2$</h4>\n",
    "\n",
    "Обновление весов:\n",
    "\n",
    "<h4>$ w^{k} = w^{k-1} - \\eta_k\\nabla Q(w^{k-1}, X)$</h4>\n",
    "\n",
    "Получается, что когда $\\alpha$ становится большим числом, то $\\eta_{k}$ становится меньше, то есть с увеличением итерации - уменьшается скорость обучения, а значит и уменьшается скорость изменения весов.\n",
    "\n",
    "Но есть одна очень большая проблема - чем больше итераций, тем $\\alpha$ больше, скорость обучения меньше, это приведет к тому, что изменение весов может стать совсем незаметным. Но это решаемо с помощью RMSProp."
   ]
  },
  {
   "cell_type": "code",
   "execution_count": 64,
   "metadata": {
    "colab": {
     "base_uri": "https://localhost:8080/"
    },
    "id": "zm7TVF096CEx",
    "outputId": "60d28096-ac4d-405a-95e7-6d052cefaba7"
   },
   "outputs": [
    {
     "data": {
      "text/plain": [
       "<keras.optimizers.optimizer_v2.adagrad.Adagrad at 0x7f4968d71f70>"
      ]
     },
     "execution_count": 64,
     "metadata": {},
     "output_type": "execute_result"
    }
   ],
   "source": [
    "optimizers.adagrad_v2.Adagrad(learning_rate=0.001, initial_accumulator_value=0.1, epsilon=1e-07)"
   ]
  },
  {
   "cell_type": "markdown",
   "metadata": {
    "id": "foVu35djfmbo"
   },
   "source": [
    "### RMSProp (Leaky AdaGrad)"
   ]
  },
  {
   "cell_type": "markdown",
   "metadata": {
    "id": "25V9xgaiVPhf"
   },
   "source": [
    "Объяснение, как работает RMSprop [здесь](https://youtu.be/9wFBbAQixBM).\n",
    "\n",
    "Этот оптимизатор исправляет проблему с неизменяемыми весами в Adagrad засчет введения ограничения на градиенты весов.\n",
    "\n",
    "<h2>$\\eta_{k} = \\frac{\\eta}{\\sqrt{W_{avg_k} + \\epsilon}}$</h2>\n",
    "где  $\\epsilon$ - маленькое число, чтобы не было деления на ноль.\n",
    "\n",
    "$W_{avg_{0}} = 0$\n",
    "\n",
    "<h4>$W_{avg_k} = \\rho * W_{avg_{k-1}}+(1-\\rho){\\nabla Q(w^{k-1}, X)}^2$</h4>\n",
    "\n",
    "Обновление весов:\n",
    "\n",
    "<h4>$ w^{k} = w^{k-1} - \\eta_k\\nabla Q(w^{k-1}, X)$</h4>\n"
   ]
  },
  {
   "cell_type": "code",
   "execution_count": 65,
   "metadata": {
    "colab": {
     "base_uri": "https://localhost:8080/"
    },
    "id": "46PwnfPPVQiZ",
    "outputId": "d43c91fb-1f7c-4482-8a67-2e49444dcabc"
   },
   "outputs": [
    {
     "data": {
      "text/plain": [
       "<keras.optimizers.optimizer_v2.rmsprop.RMSprop at 0x7f4968d71220>"
      ]
     },
     "execution_count": 65,
     "metadata": {},
     "output_type": "execute_result"
    }
   ],
   "source": [
    "optimizers.rmsprop_v2.RMSprop(learning_rate=0.001, rho=0.9, epsilon=1e-07)"
   ]
  },
  {
   "cell_type": "markdown",
   "metadata": {
    "id": "k7iOYaeOfqbS"
   },
   "source": [
    "### Adam"
   ]
  },
  {
   "cell_type": "markdown",
   "metadata": {
    "id": "O_VvTqscfgQN"
   },
   "source": [
    "Здесь соединились два плюса предыдущих оптимизаторов:\n",
    "1. Импульс (дает сглаживание оптимизации)\n",
    "2. Постепенное уменьшение скорости обучения\n",
    "\n",
    "<h4>$V_{k} = \\beta_1 * V_{k-1} + g_k$</h4>\n",
    "\n",
    "<h4>$W_{avg_k} = \\beta_2 * W_{avg_{k-1}}+(1-\\beta_2){\\nabla Q(w^{k-1}, X)}^2$</h4>\n",
    "\n",
    "Обновление весов:\n",
    "<h4>$ w^{k} = w^{k-1} - \\frac{\\eta * V_k}{\\sqrt{W_{avg_k} + \\epsilon}}$</h4>\n"
   ]
  },
  {
   "cell_type": "code",
   "execution_count": 66,
   "metadata": {
    "colab": {
     "base_uri": "https://localhost:8080/"
    },
    "id": "_NBYrY81fgrI",
    "outputId": "27a8fae5-b167-4f2d-9d15-4a2e281c3243"
   },
   "outputs": [
    {
     "data": {
      "text/plain": [
       "<keras.optimizers.optimizer_v2.adam.Adam at 0x7f4968d713a0>"
      ]
     },
     "execution_count": 66,
     "metadata": {},
     "output_type": "execute_result"
    }
   ],
   "source": [
    "optimizers.adam_v2.Adam(learning_rate=0.001, beta_1=0.9, beta_2=0.999, epsilon=1e-07)"
   ]
  },
  {
   "cell_type": "markdown",
   "metadata": {
    "id": "dxH-XG1jcIKs"
   },
   "source": [
    "### Эксперимент с разными оптимизаторами для одной начальной модели\n",
    "\n",
    "1. создаем модель model\n",
    "2. сохраняем ее веса (это начальная точка) model.save_weights('model.h5')\n",
    "3.\\* создаем рабочую модель $model_i$, куда будем загружать эти веса (она должна быть идентичной структуры) \n",
    "4.\\* загружаем веса $model_i$.load_weights('model.h5')\n",
    "5.\\* компилируем $model_i$, с одним из оптимизаторов\n",
    "6. вычисляем ошибку для $model_i$, без обучения (т.к. все модели начинают с одной точки, то все ошибки должны быть одинаковые, но будем контролировать это и считаем каждый раз заново)\n",
    "7. проводим обучение модели и пишем ошибки в истории history\n",
    "8. выводим ошибки для 0-го момента и каждой эпохи обучения по тестовой и валидационной частям данных\n",
    "\n",
    "*Либо пункты сохранения воспроизводимости можно заменить фиксацией псевдо рандома:\n",
    "\n",
    "\n",
    "```\n",
    "# for reproducible weights initialization\n",
    "import tensorflow as tf\n",
    "tf.random.set_seed(1)\n",
    "\n",
    "# model.layers[0].weights\n",
    "```\n",
    "\n"
   ]
  },
  {
   "cell_type": "code",
   "execution_count": 67,
   "metadata": {
    "id": "L2Frdm7VYNWh"
   },
   "outputs": [],
   "source": [
    "# создаем модель model\n",
    "model = Sequential([\n",
    "    Dense(64, activation='relu', input_shape=(784,)),\n",
    "    Dense(32, activation='relu'),\n",
    "    Dense(10, activation='sigmoid'),\n",
    "])\n",
    "\n",
    "# сохраняем ее веса (это начальная точка) model.save_weights('model.h5')\n",
    "model.save_weights('model_weights.h5')"
   ]
  },
  {
   "cell_type": "code",
   "execution_count": 68,
   "metadata": {
    "colab": {
     "base_uri": "https://localhost:8080/",
     "height": 1000
    },
    "id": "jaqCLGg3w_Nl",
    "outputId": "1cd13033-c8a2-47f9-b354-4d6a90185c8f"
   },
   "outputs": [
    {
     "name": "stdout",
     "output_type": "stream",
     "text": [
      "Epoch 1/4\n",
      "1875/1875 [==============================] - 6s 3ms/step - loss: 0.7239 - accuracy: 0.8006 - val_loss: 0.3419 - val_accuracy: 0.9034\n",
      "Epoch 2/4\n",
      "1875/1875 [==============================] - 6s 3ms/step - loss: 0.3195 - accuracy: 0.9090 - val_loss: 0.2808 - val_accuracy: 0.9197\n",
      "Epoch 3/4\n",
      "1875/1875 [==============================] - 5s 3ms/step - loss: 0.2673 - accuracy: 0.9233 - val_loss: 0.2377 - val_accuracy: 0.9296\n",
      "Epoch 4/4\n",
      "1875/1875 [==============================] - 6s 3ms/step - loss: 0.2331 - accuracy: 0.9341 - val_loss: 0.2267 - val_accuracy: 0.9334\n",
      "====================\n",
      "Epoch 1/4\n",
      "1875/1875 [==============================] - 5s 3ms/step - loss: 1.5543 - accuracy: 0.5704 - val_loss: 0.9586 - val_accuracy: 0.7757\n",
      "Epoch 2/4\n",
      "1875/1875 [==============================] - 6s 3ms/step - loss: 0.7720 - accuracy: 0.8227 - val_loss: 0.6166 - val_accuracy: 0.8568\n",
      "Epoch 3/4\n",
      "1875/1875 [==============================] - 5s 3ms/step - loss: 0.5755 - accuracy: 0.8630 - val_loss: 0.5040 - val_accuracy: 0.8775\n",
      "Epoch 4/4\n",
      "1875/1875 [==============================] - 5s 3ms/step - loss: 0.4950 - accuracy: 0.8771 - val_loss: 0.4474 - val_accuracy: 0.8881\n",
      "====================\n",
      "Epoch 1/4\n",
      "1875/1875 [==============================] - 6s 3ms/step - loss: 0.2986 - accuracy: 0.9146 - val_loss: 0.1590 - val_accuracy: 0.9530\n",
      "Epoch 2/4\n",
      "1875/1875 [==============================] - 6s 3ms/step - loss: 0.1442 - accuracy: 0.9582 - val_loss: 0.1275 - val_accuracy: 0.9624\n",
      "Epoch 3/4\n",
      "1875/1875 [==============================] - 6s 3ms/step - loss: 0.1109 - accuracy: 0.9677 - val_loss: 0.1172 - val_accuracy: 0.9680\n",
      "Epoch 4/4\n",
      "1875/1875 [==============================] - 7s 4ms/step - loss: 0.0935 - accuracy: 0.9733 - val_loss: 0.1154 - val_accuracy: 0.9679\n",
      "====================\n",
      "Epoch 1/4\n",
      "1875/1875 [==============================] - 6s 3ms/step - loss: 0.3013 - accuracy: 0.9135 - val_loss: 0.1595 - val_accuracy: 0.9527\n",
      "Epoch 2/4\n",
      "1875/1875 [==============================] - 5s 3ms/step - loss: 0.1362 - accuracy: 0.9596 - val_loss: 0.1333 - val_accuracy: 0.9584\n",
      "Epoch 3/4\n",
      "1875/1875 [==============================] - 6s 3ms/step - loss: 0.1012 - accuracy: 0.9693 - val_loss: 0.1077 - val_accuracy: 0.9682\n",
      "Epoch 4/4\n",
      "1875/1875 [==============================] - 5s 3ms/step - loss: 0.0796 - accuracy: 0.9753 - val_loss: 0.1172 - val_accuracy: 0.9643\n",
      "====================\n"
     ]
    },
    {
     "data": {
      "image/png": "[encoded data removed]",
      "text/plain": [
       "<Figure size 1152x504 with 1 Axes>"
      ]
     },
     "metadata": {
      "needs_background": "light"
     },
     "output_type": "display_data"
    },
    {
     "name": "stdout",
     "output_type": "stream",
     "text": [
      "CPU times: user 1min 56s, sys: 14.4 s, total: 2min 10s\n",
      "Wall time: 2min 55s\n"
     ]
    }
   ],
   "source": [
    "%%time\n",
    "\n",
    "\n",
    "# будем сохранять модели в словарь\n",
    "models = {}\n",
    "\n",
    "\n",
    "plt.figure(figsize=(16, 7))\n",
    "colors = ['g', 'b', 'r', 'y']\n",
    "\n",
    "num_epochs = 4\n",
    "batch_size = 32\n",
    "\n",
    "# вектор для вывода результатов\n",
    "epoch = np.arange(num_epochs+1)\n",
    "\n",
    "# будем изменять оптимизаторы\n",
    "for i, i_optim in enumerate([keras.optimizers.gradient_descent_v2.SGD(),\n",
    "                             keras.optimizers.adagrad_v2.Adagrad(),\n",
    "                             keras.optimizers.rmsprop_v2.RMSprop(),\n",
    "                             keras.optimizers.adam_v2.Adam()]):\n",
    "    \n",
    "    # создаем рабочую модель  model_i, куда будем загружать эти веса (она должна быть идентичной структуры)\n",
    "    model_i = Sequential([\n",
    "        Dense(64, activation='relu', input_shape=(784,)),\n",
    "        Dense(32, activation='relu'),\n",
    "        Dense(10, activation='sigmoid'),\n",
    "    ])\n",
    "    \n",
    "    # загружаем веса model_i.load_weights('model.h5')\n",
    "    model_i.load_weights('model_weights.h5')\n",
    "    \n",
    "    # компилируем model_i с одним из оптимизаторов\n",
    "    model_i.compile(\n",
    "        optimizer=i_optim,\n",
    "        loss='categorical_crossentropy',\n",
    "        metrics=['accuracy'],\n",
    "        )\n",
    "    \n",
    "    # вычисляем ошибку для modeli без обучения\n",
    "    h0_train = model_i.evaluate(X_train, y_train, verbose=0)\n",
    "    h0_val = model_i.evaluate(X_test, y_test, verbose=0)\n",
    "\n",
    "    # проводим обучение модели \n",
    "    h = model_i.fit(X_train, y_train,\n",
    "                    epochs=num_epochs,\n",
    "                    batch_size=batch_size,\n",
    "                    validation_data=(X_test, y_test),\n",
    "                    verbose=1)\n",
    "    \n",
    "    # записываем обученную модель в словарь\n",
    "    models[i_optim.get_config()['name']] = model_i\n",
    "\n",
    "    # картинки\n",
    "    plt.plot(epoch, np.log([h0_train[0]] + h.history['loss']),\n",
    "             '-', c=colors[i],\n",
    "             label=model_i.optimizer.get_config()['name'] + ' train')\n",
    "    plt.plot(epoch, np.log([h0_val[0]] + h.history['val_loss']),\n",
    "             '--', c=colors[i],\n",
    "             label=model_i.optimizer.get_config()['name'] + ' val')\n",
    "    print('=' * 20)\n",
    "\n",
    "plt.legend()\n",
    "plt.title('нейросети от оптимизатора log(loss)')\n",
    "plt.xlabel('epoch')\n",
    "plt.ylabel('log(loss)')\n",
    "plt.show()"
   ]
  },
  {
   "cell_type": "code",
   "execution_count": 69,
   "metadata": {
    "colab": {
     "base_uri": "https://localhost:8080/",
     "height": 1000
    },
    "id": "W5S9qdlubn7m",
    "outputId": "bf406f17-00ac-4153-ccf4-ff43f08349db"
   },
   "outputs": [
    {
     "name": "stdout",
     "output_type": "stream",
     "text": [
      "Epoch 1/4\n",
      "1875/1875 [==============================] - 6s 3ms/step - loss: 0.6970 - accuracy: 0.8073 - val_loss: 0.3299 - val_accuracy: 0.9052\n",
      "Epoch 2/4\n",
      "1875/1875 [==============================] - 5s 3ms/step - loss: 0.3040 - accuracy: 0.9129 - val_loss: 0.2573 - val_accuracy: 0.9280\n",
      "Epoch 3/4\n",
      "1875/1875 [==============================] - 6s 3ms/step - loss: 0.2523 - accuracy: 0.9281 - val_loss: 0.2240 - val_accuracy: 0.9352\n",
      "Epoch 4/4\n",
      "1875/1875 [==============================] - 5s 3ms/step - loss: 0.2190 - accuracy: 0.9373 - val_loss: 0.2033 - val_accuracy: 0.9416\n",
      "====================\n",
      "Epoch 1/4\n",
      "1875/1875 [==============================] - 6s 3ms/step - loss: 1.6003 - accuracy: 0.5572 - val_loss: 0.9718 - val_accuracy: 0.7877\n",
      "Epoch 2/4\n",
      "1875/1875 [==============================] - 5s 3ms/step - loss: 0.7738 - accuracy: 0.8215 - val_loss: 0.6068 - val_accuracy: 0.8522\n",
      "Epoch 3/4\n",
      "1875/1875 [==============================] - 6s 3ms/step - loss: 0.5664 - accuracy: 0.8569 - val_loss: 0.4914 - val_accuracy: 0.8711\n",
      "Epoch 4/4\n",
      "1875/1875 [==============================] - 5s 3ms/step - loss: 0.4849 - accuracy: 0.8733 - val_loss: 0.4361 - val_accuracy: 0.8828\n",
      "====================\n",
      "Epoch 1/4\n",
      "1875/1875 [==============================] - 7s 3ms/step - loss: 0.3013 - accuracy: 0.9130 - val_loss: 0.1641 - val_accuracy: 0.9496\n",
      "Epoch 2/4\n",
      "1875/1875 [==============================] - 7s 3ms/step - loss: 0.1411 - accuracy: 0.9580 - val_loss: 0.1212 - val_accuracy: 0.9646\n",
      "Epoch 3/4\n",
      "1875/1875 [==============================] - 6s 3ms/step - loss: 0.1094 - accuracy: 0.9673 - val_loss: 0.1108 - val_accuracy: 0.9683\n",
      "Epoch 4/4\n",
      "1875/1875 [==============================] - 6s 3ms/step - loss: 0.0906 - accuracy: 0.9735 - val_loss: 0.1148 - val_accuracy: 0.9683\n",
      "====================\n",
      "Epoch 1/4\n",
      "1875/1875 [==============================] - 6s 3ms/step - loss: 0.2934 - accuracy: 0.9161 - val_loss: 0.1590 - val_accuracy: 0.9501\n",
      "Epoch 2/4\n",
      "1875/1875 [==============================] - 6s 3ms/step - loss: 0.1383 - accuracy: 0.9587 - val_loss: 0.1228 - val_accuracy: 0.9625\n",
      "Epoch 3/4\n",
      "1875/1875 [==============================] - 5s 3ms/step - loss: 0.1012 - accuracy: 0.9683 - val_loss: 0.1016 - val_accuracy: 0.9686\n",
      "Epoch 4/4\n",
      "1875/1875 [==============================] - 6s 3ms/step - loss: 0.0807 - accuracy: 0.9741 - val_loss: 0.1047 - val_accuracy: 0.9688\n",
      "====================\n"
     ]
    },
    {
     "data": {
      "image/png": "[encoded data removed]",
      "text/plain": [
       "<Figure size 1152x504 with 1 Axes>"
      ]
     },
     "metadata": {
      "needs_background": "light"
     },
     "output_type": "display_data"
    },
    {
     "name": "stdout",
     "output_type": "stream",
     "text": [
      "CPU times: user 1min 57s, sys: 14.3 s, total: 2min 11s\n",
      "Wall time: 2min 29s\n"
     ]
    }
   ],
   "source": [
    "%%time\n",
    "\n",
    "# будем сохранять модели в словарь\n",
    "models = {}\n",
    "\n",
    "plt.figure(figsize=(16, 7))\n",
    "colors = ['g', 'b', 'r', 'y']\n",
    "\n",
    "num_epochs = 4\n",
    "batch_size = 32\n",
    "\n",
    "# вектор для вывода результатов\n",
    "epoch = np.arange(num_epochs+1)\n",
    "\n",
    "# будем изменять оптимизаторы\n",
    "for i, i_optim in enumerate([keras.optimizers.gradient_descent_v2.SGD(),\n",
    "                             keras.optimizers.adagrad_v2.Adagrad(),\n",
    "                             keras.optimizers.rmsprop_v2.RMSprop(),\n",
    "                             keras.optimizers.adam_v2.Adam()]):\n",
    "    \n",
    "    # создаем рабочую модель  model_i с зафиксированными весами\n",
    "    import tensorflow as tf\n",
    "    tf.random.set_seed(1)\n",
    "    \n",
    "    model_i = Sequential([\n",
    "        Dense(64, activation='relu', input_shape=(784,)),\n",
    "        Dense(32, activation='relu'),\n",
    "        Dense(10, activation='sigmoid'),\n",
    "    ])\n",
    "    \n",
    "    # компилируем model_i с одним из оптимизаторов\n",
    "    model_i.compile(\n",
    "        optimizer=i_optim,\n",
    "        loss='categorical_crossentropy',\n",
    "        metrics=['accuracy'],\n",
    "        )\n",
    "    \n",
    "    # вычисляем ошибку для modeli без обучения\n",
    "    h0_train = model_i.evaluate(X_train, y_train, verbose=0)\n",
    "    h0_val = model_i.evaluate(X_test, y_test, verbose=0)\n",
    "\n",
    "    # проводим обучение модели \n",
    "    h = model_i.fit(X_train, y_train,\n",
    "                    epochs=num_epochs,\n",
    "                    batch_size=batch_size,\n",
    "                    validation_data=(X_test, y_test),\n",
    "                    verbose=1)\n",
    "\n",
    "    # записываем обученную модель в словарь\n",
    "    models[i_optim.get_config()['name']] = model_i\n",
    "\n",
    "    # картинки\n",
    "    plt.plot(epoch, np.log([h0_train[0]] + h.history['loss']),\n",
    "             '-', c=colors[i],\n",
    "             label=model_i.optimizer.get_config()['name'] + ' train')\n",
    "    plt.plot(epoch, np.log([h0_val[0]] + h.history['val_loss']),\n",
    "             '--', c=colors[i],\n",
    "             label=model_i.optimizer.get_config()['name'] + ' val')\n",
    "    print('=' * 20)\n",
    "\n",
    "plt.legend()\n",
    "plt.title('нейросети от оптимизатора log(loss)')\n",
    "plt.xlabel('epoch')\n",
    "plt.ylabel('log(loss)')\n",
    "plt.show()"
   ]
  },
  {
   "cell_type": "code",
   "execution_count": 70,
   "metadata": {
    "id": "dgbiKEaBdxvX"
   },
   "outputs": [],
   "source": [
    "model_i = models['Adam']"
   ]
  },
  {
   "cell_type": "code",
   "execution_count": 71,
   "metadata": {
    "colab": {
     "base_uri": "https://localhost:8080/"
    },
    "id": "viS_E5s6z2UU",
    "outputId": "9d5292e9-5c29-4564-94ec-3118749f6ec2"
   },
   "outputs": [
    {
     "data": {
      "text/plain": [
       "{'name': 'Adam',\n",
       " 'learning_rate': 0.001,\n",
       " 'decay': 0.0,\n",
       " 'beta_1': 0.9,\n",
       " 'beta_2': 0.999,\n",
       " 'epsilon': 1e-07,\n",
       " 'amsgrad': False}"
      ]
     },
     "execution_count": 71,
     "metadata": {},
     "output_type": "execute_result"
    }
   ],
   "source": [
    "model_i.optimizer.get_config()"
   ]
  },
  {
   "cell_type": "code",
   "execution_count": 72,
   "metadata": {
    "colab": {
     "base_uri": "https://localhost:8080/",
     "height": 226
    },
    "id": "wj7fhqd3FKFe",
    "outputId": "76ae2f66-4637-4219-d3e7-4a572875a718"
   },
   "outputs": [
    {
     "name": "stdout",
     "output_type": "stream",
     "text": [
      "1/1 [==============================] - 0s 48ms/step\n"
     ]
    },
    {
     "data": {
      "image/png": "[encoded data removed]",
      "text/plain": [
       "<Figure size 1080x360 with 5 Axes>"
      ]
     },
     "metadata": {
      "needs_background": "light"
     },
     "output_type": "display_data"
    }
   ],
   "source": [
    "N = 5\n",
    "y_pred = model_i.predict(X_test[:N, :])\n",
    "y_pred_class = np.argmax(y_pred, axis=1)\n",
    "plt.figure(figsize=(3 * N, 5))\n",
    "\n",
    "for i in range(N):\n",
    "  plt.subplot(1, N, i+1)\n",
    "  plt.imshow(X_test[i,:].reshape(28, 28))\n",
    "  plt.xlabel(str(y_pred_class[i]))\n",
    "plt.show()  "
   ]
  },
  {
   "cell_type": "code",
   "execution_count": 73,
   "metadata": {
    "colab": {
     "base_uri": "https://localhost:8080/"
    },
    "id": "Q561c6eaGxcB",
    "outputId": "757787e9-2b35-426d-b4a9-9bd01e4399f8"
   },
   "outputs": [
    {
     "data": {
      "text/plain": [
       "array([7, 2, 1, 0, 4])"
      ]
     },
     "execution_count": 73,
     "metadata": {},
     "output_type": "execute_result"
    }
   ],
   "source": [
    "y_pred_class"
   ]
  },
  {
   "cell_type": "markdown",
   "metadata": {
    "id": "GbNuvIG1PmZw"
   },
   "source": [
    "## Callbacks"
   ]
  },
  {
   "cell_type": "markdown",
   "metadata": {
    "id": "oYMQ6xrjQX62"
   },
   "source": [
    "Callback (обратные вызовы) – набор функций, применяемых в определенные моменты во время процедуры обучения. Вы можете использовать функции callback чтобы получить информацию о внутреннем состоянии модели в процессе обучения. Нужно передавать список callback’ов (именованным аргументом callbacks) методу .fit() модели. Подходящие методы callback будут вызваны на каждой стадии обучения.\n",
    "\n",
    "Рассмотрим основные callback'и, с остальными можете ознакомиться в [документации](https://ru-keras.com/callbacks/)."
   ]
  },
  {
   "cell_type": "markdown",
   "metadata": {
    "id": "JiZzcPnyVHd6"
   },
   "source": [
    "### ModelCheckpoint\n"
   ]
  },
  {
   "cell_type": "markdown",
   "metadata": {
    "id": "1MvJSJWqQwFy"
   },
   "source": [
    "Сохранение модели после каждой эпохи.\n",
    "\n",
    "Filepath может содержать именованные опции форматирования, заполняемые значениями epoch и ключами в logs (передаваемыми on_epoch_end).\n",
    "\n",
    "К примеру: если filepath назван weights.{epoch:02d}-{val_loss:.2f}.hdf5, тогда модель будет сохраняться с номером эпохи и validation_loss в имени файла.\n",
    "\n",
    "**Аргументы:**\n",
    "\n",
    "— filepath: строка, путь сохранения модели\n",
    "\n",
    "— monitor: параметр для мониторинга\n",
    "\n",
    "— verbose: режим отображения, 0 или 1\n",
    "\n",
    "— save_best_only: если save_best_only=True, если результат текущей эпохи хуже предыдущей, он не будет сохранен.\n",
    "\n",
    "— save_weights_only: если True, тогда будут сохраняться только веса модели (model.save_weights(filepath)), в противном случае будет сохраняться вся модель (model.save(filepath)).\n",
    "\n",
    "— mode: один из {auto, min, max}. Если save_best_only=True, решение о перезаписи текущего файла будет приниматься в зависимости от уменьшения/увеличения параметра мониторинга. Для val_acc, необходим max, для val_loss необходим min. В auto режиме, mode выбирается в зависимости от имени monitor.\n",
    "\n",
    "— period: Интервал (число эпох) между сохранениями."
   ]
  },
  {
   "cell_type": "code",
   "execution_count": 74,
   "metadata": {
    "id": "nRBGe5uHxj2Q"
   },
   "outputs": [],
   "source": [
    "from keras import callbacks"
   ]
  },
  {
   "cell_type": "code",
   "execution_count": 75,
   "metadata": {
    "colab": {
     "base_uri": "https://localhost:8080/"
    },
    "id": "mvE9-jJQPpJS",
    "outputId": "e2ca948f-ffdc-442d-dadf-6cdcd4461377"
   },
   "outputs": [
    {
     "name": "stderr",
     "output_type": "stream",
     "text": [
      "WARNING:tensorflow:`period` argument is deprecated. Please use `save_freq` to specify the frequency in number of batches seen.\n"
     ]
    },
    {
     "name": "stdout",
     "output_type": "stream",
     "text": [
      "Epoch 1/4\n",
      " 9/10 [==========================>...] - ETA: 0s - loss: 2.1108 - accuracy: 0.2715\n",
      "Epoch 1: val_loss improved from inf to 1.77410, saving model to model_best_1\n",
      "10/10 [==============================] - 2s 183ms/step - loss: 2.0842 - accuracy: 0.2914 - val_loss: 1.7741 - val_accuracy: 0.5110\n",
      "Epoch 2/4\n",
      " 9/10 [==========================>...] - ETA: 0s - loss: 1.5620 - accuracy: 0.5986\n",
      "Epoch 2: val_loss improved from 1.77410 to 1.23354, saving model to model_best_2\n",
      "10/10 [==============================] - 2s 190ms/step - loss: 1.5359 - accuracy: 0.6076 - val_loss: 1.2335 - val_accuracy: 0.6966\n",
      "Epoch 3/4\n",
      " 6/10 [=================>............] - ETA: 0s - loss: 1.1301 - accuracy: 0.7169\n",
      "Epoch 3: val_loss improved from 1.23354 to 0.81236, saving model to model_best_3\n",
      "10/10 [==============================] - 1s 136ms/step - loss: 1.0487 - accuracy: 0.7410 - val_loss: 0.8124 - val_accuracy: 0.8195\n",
      "Epoch 4/4\n",
      " 6/10 [=================>............] - ETA: 0s - loss: 0.7525 - accuracy: 0.8253\n",
      "Epoch 4: val_loss improved from 0.81236 to 0.56926, saving model to model_best_4\n",
      "10/10 [==============================] - 1s 135ms/step - loss: 0.7085 - accuracy: 0.8323 - val_loss: 0.5693 - val_accuracy: 0.8619\n"
     ]
    },
    {
     "data": {
      "text/plain": [
       "<keras.callbacks.History at 0x7f4968cabc40>"
      ]
     },
     "execution_count": 75,
     "metadata": {},
     "output_type": "execute_result"
    }
   ],
   "source": [
    "model_checkpoint = callbacks.ModelCheckpoint(filepath='model_best_{epoch}',\n",
    "                                   monitor='val_loss',\n",
    "                                   verbose=1,\n",
    "                                   save_best_only=True,\n",
    "                                   save_weights_only=False,\n",
    "                                   mode='auto',\n",
    "                                   period=1,\n",
    "                                #    save_freq=2\n",
    "                                   ) \n",
    "\n",
    "model.compile(optimizer=keras.optimizers.adam_v2.Adam(learning_rate=0.001),\n",
    "              loss='categorical_crossentropy',\n",
    "              metrics=['accuracy'])\n",
    "\n",
    "model.fit(X_train, y_train,\n",
    "          epochs=num_epochs,\n",
    "          steps_per_epoch=10,\n",
    "          validation_data=(X_test, y_test),\n",
    "          verbose=1,\n",
    "          callbacks=[model_checkpoint])"
   ]
  },
  {
   "cell_type": "code",
   "execution_count": 76,
   "metadata": {
    "colab": {
     "base_uri": "https://localhost:8080/",
     "height": 17
    },
    "id": "T1S6-ujlvHhx",
    "outputId": "de419a30-3923-4545-aefd-c693326b40db"
   },
   "outputs": [
    {
     "data": {
      "application/javascript": [
       "\n",
       "    async function download(id, filename, size) {\n",
       "      if (!google.colab.kernel.accessAllowed) {\n",
       "        return;\n",
       "      }\n",
       "      const div = document.createElement('div');\n",
       "      const label = document.createElement('label');\n",
       "      label.textContent = `Downloading \"${filename}\": `;\n",
       "      div.appendChild(label);\n",
       "      const progress = document.createElement('progress');\n",
       "      progress.max = size;\n",
       "      div.appendChild(progress);\n",
       "      document.body.appendChild(div);\n",
       "\n",
       "      const buffers = [];\n",
       "      let downloaded = 0;\n",
       "\n",
       "      const channel = await google.colab.kernel.comms.open(id);\n",
       "      // Send a message to notify the kernel that we're ready.\n",
       "      channel.send({})\n",
       "\n",
       "      for await (const message of channel.messages) {\n",
       "        // Send a message to notify the kernel that we're ready.\n",
       "        channel.send({})\n",
       "        if (message.buffers) {\n",
       "          for (const buffer of message.buffers) {\n",
       "            buffers.push(buffer);\n",
       "            downloaded += buffer.byteLength;\n",
       "            progress.value = downloaded;\n",
       "          }\n",
       "        }\n",
       "      }\n",
       "      const blob = new Blob(buffers, {type: 'application/binary'});\n",
       "      const a = document.createElement('a');\n",
       "      a.href = window.URL.createObjectURL(blob);\n",
       "      a.download = filename;\n",
       "      div.appendChild(a);\n",
       "      a.click();\n",
       "      div.remove();\n",
       "    }\n",
       "  "
      ],
      "text/plain": [
       "<IPython.core.display.Javascript object>"
      ]
     },
     "metadata": {},
     "output_type": "display_data"
    },
    {
     "data": {
      "application/javascript": [
       "download(\"download_d5a4355f-4100-4e53-9808-11d86fa2eb93\", \"model.h5\", 446384)"
      ],
      "text/plain": [
       "<IPython.core.display.Javascript object>"
      ]
     },
     "metadata": {},
     "output_type": "display_data"
    }
   ],
   "source": [
    "from google.colab import files\n",
    "files.download('/content/model.h5')"
   ]
  },
  {
   "cell_type": "code",
   "execution_count": 77,
   "metadata": {
    "id": "BPJC0TZAv79F"
   },
   "outputs": [],
   "source": [
    "# from google.colab import drive\n",
    "# drive.mount('/content/drive')"
   ]
  },
  {
   "cell_type": "markdown",
   "metadata": {
    "id": "6w0-iQxhQyPo"
   },
   "source": [
    "### EarlyStopping\n"
   ]
  },
  {
   "cell_type": "markdown",
   "metadata": {
    "id": "0EEE6-F0SRJM"
   },
   "source": [
    "Прекращение обучения, когда параметр monitor перестает улучшаться.\n",
    "\n",
    "**Аргументы**\n",
    "\n",
    "— monitor: параметр для мониторинга\n",
    "\n",
    "— min_delta: минимальное значение изменения величины monitor, расцениваемое как улучшение, то есть, если абсолютное изменение меньше min_delta, то улучшение не засчитывается\n",
    "\n",
    "— patience: число эпох, за которые величина monitor не улучшается, после которых обучение будет остановлено. Проверочные величины могут производиться не после каждой эпохи если validation_freq (model.fit(validation_freq=5)) больше единицы.\n",
    "\n",
    "— verbose: режим отображения, 0 или 1.\n",
    "\n",
    "— mode: один из {auto, min, max}. В режиме min, обучение остановится когда величина monitor перестанет уменьшаться; в режиме max, обучение остановится когда величина monitor перестанет увеличиваться; в режиме auto, mode выбирается в зависимости от имени monitor.\n",
    "\n",
    "— baseline: значение, которое должна достичь величина monitor. Обучение прекратится, если модель не достигла baseline.\n",
    "\n",
    "— restore_best_weights: восстанавливать ли веса модели с эпохи с лучшем значением параметра monitor. Если False, веса модели будут загружены из последней шага обучения."
   ]
  },
  {
   "cell_type": "code",
   "execution_count": 78,
   "metadata": {
    "colab": {
     "base_uri": "https://localhost:8080/"
    },
    "id": "lbEB2k-zSNl8",
    "outputId": "c20ee680-e719-4b23-d44c-06a6d76843a1"
   },
   "outputs": [
    {
     "name": "stdout",
     "output_type": "stream",
     "text": [
      "Epoch 1/4\n",
      "100/100 [==============================] - 1s 11ms/step - loss: 0.3670 - accuracy: 0.8995 - val_loss: 0.2703 - val_accuracy: 0.9233\n",
      "Epoch 2/4\n",
      "100/100 [==============================] - 1s 9ms/step - loss: 0.2469 - accuracy: 0.9306 - val_loss: 0.2209 - val_accuracy: 0.9359\n",
      "Epoch 3/4\n",
      "100/100 [==============================] - 2s 17ms/step - loss: 0.2003 - accuracy: 0.9434 - val_loss: 0.1862 - val_accuracy: 0.9455\n",
      "Epoch 4/4\n",
      "100/100 [==============================] - 1s 12ms/step - loss: 0.1703 - accuracy: 0.9517 - val_loss: 0.1669 - val_accuracy: 0.9516\n"
     ]
    },
    {
     "data": {
      "text/plain": [
       "<keras.callbacks.History at 0x7f4968c15d30>"
      ]
     },
     "execution_count": 78,
     "metadata": {},
     "output_type": "execute_result"
    }
   ],
   "source": [
    "early_stop = callbacks.EarlyStopping(monitor='loss',\n",
    "                                     min_delta=0,\n",
    "                                     patience=5,\n",
    "                                     verbose=1,\n",
    "                                     mode='auto',\n",
    "                                     baseline=0.006,\n",
    "                                     restore_best_weights=False)\n",
    "\n",
    "\n",
    "model.fit(X_train, y_train,\n",
    "          epochs=num_epochs,\n",
    "          steps_per_epoch=100,\n",
    "          validation_data=(X_test, y_test),\n",
    "          verbose=1,\n",
    "          callbacks=[early_stop])"
   ]
  },
  {
   "cell_type": "markdown",
   "metadata": {
    "id": "mO3P_Dg9Tytp"
   },
   "source": [
    "### ReduceLROnPlateau"
   ]
  },
  {
   "cell_type": "markdown",
   "metadata": {
    "id": "43m3Tyw2TyiI"
   },
   "source": [
    "Уменьшение скорости обучения, когда метрика перестала улучшаться.\n",
    "\n",
    "Модели зачастую работают лучше если уменьшать скорость обучения. Этот callback следит за параметром monitor и, если не происходит улучшения за patience эпох, уменьшает скорость обучения.\n",
    "\n",
    "\n",
    "**Аргументы**\n",
    "\n",
    "— monitor:  параметр для мониторинга\n",
    "\n",
    "— factor: коэффициент уменьшения скорости обучения. new_lr = lr * factor\n",
    "\n",
    "— patience: число эпох, за которые величина monitor не улучшается, после которых обучение будет остановлено. Проверочные величины могут производиться не после каждой эпохи если validation_freq (model.fit(validation_freq=5)) больше единицы.\n",
    "\n",
    "— verbose: int. 0: «тихий» режим, 1: выводить сообщения\n",
    "\n",
    "— mode: один из {auto, min, max}. В режиме min, скорость обучения уменьшится когда величина monitor перестанет уменьшаться; в режиме max, скорость обучения уменьшится когда величина monitor перестанет увеличиваться; в режиме auto, mode выбирается в зависимости от имени monitor.\n",
    "\n",
    "— min_delta: минимальное значение изменения величины monitor, расцениваемое как улучшение, то есть, если абсолютное изменение меньше min_delta, то улучшение не засчитывается\n",
    "\n",
    "— cooldown: число эпох после уменьшения скорости обучения, которые должны пройти, прежде чем стандартный процесс уменьшения возобновится.\n",
    "\n",
    "— min_lr: нижняя граница скорости обучения"
   ]
  },
  {
   "cell_type": "code",
   "execution_count": 79,
   "metadata": {
    "colab": {
     "base_uri": "https://localhost:8080/"
    },
    "id": "F0RUMg1mT6Y_",
    "outputId": "6690c844-fcd5-4012-d5d4-af539dd43eb4"
   },
   "outputs": [
    {
     "name": "stdout",
     "output_type": "stream",
     "text": [
      "Epoch 1/4\n",
      "100/100 [==============================] - 1s 11ms/step - loss: 0.1496 - accuracy: 0.9574 - val_loss: 0.1526 - val_accuracy: 0.9564 - lr: 0.0010\n",
      "Epoch 2/4\n",
      "100/100 [==============================] - 1s 9ms/step - loss: 0.1338 - accuracy: 0.9619 - val_loss: 0.1427 - val_accuracy: 0.9598 - lr: 0.0010\n",
      "Epoch 3/4\n",
      "100/100 [==============================] - 1s 10ms/step - loss: 0.1201 - accuracy: 0.9658 - val_loss: 0.1345 - val_accuracy: 0.9611 - lr: 0.0010\n",
      "Epoch 4/4\n",
      "100/100 [==============================] - 1s 10ms/step - loss: 0.1103 - accuracy: 0.9684 - val_loss: 0.1273 - val_accuracy: 0.9626 - lr: 0.0010\n"
     ]
    },
    {
     "data": {
      "text/plain": [
       "<keras.callbacks.History at 0x7f489c0ecd90>"
      ]
     },
     "execution_count": 79,
     "metadata": {},
     "output_type": "execute_result"
    }
   ],
   "source": [
    "reduce_lr = callbacks.ReduceLROnPlateau(monitor='val_accuracy',\n",
    "                                        factor=0.1,\n",
    "                                        patience=0,\n",
    "                                        verbose=1,\n",
    "                                        mode='auto',\n",
    "                                        min_delta=0.001,\n",
    "                                        cooldown=0,\n",
    "                                        min_lr=1e-10) \n",
    "\n",
    "model.fit(X_train, y_train,\n",
    "          epochs=num_epochs,\n",
    "          steps_per_epoch=100,\n",
    "          validation_data=(X_test, y_test),\n",
    "          verbose=1,\n",
    "          callbacks=[reduce_lr])"
   ]
  },
  {
   "cell_type": "markdown",
   "metadata": {
    "id": "NRSQbmXD9U98"
   },
   "source": [
    "## Домашнее задание <a class='anchor' id='hw'>\n",
    "\n",
    "Используем набор примеров fashion-MNIST\n",
    "1. Опишите - какой результат нейросети получен в зависимости от:\n",
    "  - числа нейронов в слое (для 2-х слойной сети), \n",
    "  - числа слоев (2, 3, 5, 10) при близких размерах сети (близкое число тренируемых параметров).\n",
    "  - фиксируйте для тренировочного и тестового набора метрики accuracy.\n",
    "2.  Проверьте работу разных оптимизаторов (SGD, Adam, RMSProp) для одной из моделей п.1. Фиксируйте для тренировочного и тестового набора метрики accuracy.\n",
    "\n",
    "3. Сделайте вывод - что помогло вам улучшить качество классификации в нейросети на тестовом наборе? \n",
    "\n",
    "4. Для одного варианта сети сформируйте матрицу ошибок по классам. Оцените качество модели по каждому классу отдельно (полнота, точность)."
   ]
  },
  {
   "cell_type": "markdown",
   "metadata": {
    "id": "m2wW13WB9U99"
   },
   "source": [
    "## Дополнительные материалы\n",
    "\n",
    "\n",
    "1. [Документация Keras](https://keras.io/about/)\n",
    "2. [Документация Keras на русском](https://ru-keras.com/home/)\n",
    "3. [Deep Learning-All Optimizers In One Video](https://www.youtube.com/watch?v=TudQZtgpoHk)\n",
    "4. [Метод fit в Keras](https://youtu.be/PLlic60dgS4)\n",
    "5. [Callbacks в Keras](https://youtu.be/sq9HvLAsK94)"
   ]
  },
  {
   "cell_type": "markdown",
   "metadata": {
    "id": "v6h1K5ET9U9_"
   },
   "source": [
    "## Используемая литература \n",
    "\n",
    "Для подготовки данного методического пособия были использованы следующие ресурсы:\n",
    "<ol>\n",
    "    <li>https://keras.io/</li>\n",
    "    <li>Шакла Н. — Машинное обучение и TensorFlow 2019</li>\n",
    "    <li>Википедия</li>\n",
    "    \n",
    "</ol>"
   ]
  },
  {
   "cell_type": "markdown",
   "metadata": {
    "id": "v7megjGzaLge"
   },
   "source": [
    "## Определения\n",
    "\n",
    "**Keras** — открытая нейросетевая библиотека, написанная на языке Python. Она представляет собой надстройку над фреймворками Deeplearning4j, TensorFlow и Theano.\n",
    "\n",
    "\n",
    "**Порядок работы с нейронной сетью**:\n",
    "1. Подготовка данных (нормализация)\n",
    "2. Создание архитектуры модели\n",
    "3. Компиляция модели\n",
    "    - выбор функции потерь\n",
    "    - выбор метрики качества\n",
    "    - выбор оптимизатора\n",
    "4. Обучение модели\n",
    "5. Оценка её качества\n",
    "\n",
    "___________\n",
    "\n",
    "**Callback (обратные вызовы)** – набор функций, применяемых в определенные моменты во время процедуры обучения.\n"
   ]
  },
  {
   "cell_type": "code",
   "execution_count": 79,
   "metadata": {
    "id": "0YxqJfeHTpFj"
   },
   "outputs": [],
   "source": [
    "FIO_INN_HW_X.ipynb"
   ]
  }
 ],
 "metadata": {
  "accelerator": "GPU",
  "colab": {
   "provenance": [],
   "toc_visible": true
  },
  "kernelspec": {
   "display_name": "Python 3 (ipykernel)",
   "language": "python",
   "name": "python3"
  },
  "language_info": {
   "codemirror_mode": {
    "name": "ipython",
    "version": 3
   },
   "file_extension": ".py",
   "mimetype": "text/x-python",
   "name": "python",
   "nbconvert_exporter": "python",
   "pygments_lexer": "ipython3",
   "version": "3.9.18"
  }
 },
 "nbformat": 4,
 "nbformat_minor": 4
}
